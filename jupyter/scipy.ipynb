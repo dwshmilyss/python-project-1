{
 "cells": [
  {
   "cell_type": "code",
   "execution_count": 9,
   "metadata": {
    "collapsed": true
   },
   "outputs": [
    {
     "name": "stdout",
     "output_type": "stream",
     "text": [
      "[[1 2]\n",
      " [3 4]]\n",
      "矩阵行列式： -2.0\n",
      "矩阵的逆： [[-2.   1. ]\n",
      " [ 1.5 -0.5]]\n"
     ]
    }
   ],
   "source": [
    "# encoding: utf-8\n",
    "import numpy as np\n",
    "from scipy import linalg\n",
    "arr = np.array([[1,2],[3,4]])\n",
    "print arr\n",
    "##矩阵行列式\n",
    "print \"矩阵行列式：\",linalg.det(arr)\n",
    "print \"矩阵的逆：\",linalg.inv(arr)"
   ]
  },
  {
   "cell_type": "code",
   "execution_count": 1,
   "metadata": {
    "collapsed": true
   },
   "outputs": [
    {
     "name": "stdout",
     "output_type": "stream",
     "text": [
      "[[1 0 2]\n [0 0 3]\n [4 5 6]]\n[[1 0]]\n"
     ]
    }
   ],
   "source": [
    "import numpy as np\n",
    "from scipy import *\n",
    "from scipy.sparse import csr_matrix\n",
    "row = np.array([0, 0, 1, 2, 2, 2])\n",
    "col = np.array([0, 2, 2, 0, 1, 2])\n",
    "data = np.array([1, 2, 3, 4, 5, 6])\n",
    "a = csr_matrix((data, (row, col)), shape=(3, 3)).toarray()\n",
    "print a\n",
    "print a[:1,:-1]"
   ]
  },
  {
   "cell_type": "code",
   "execution_count": null,
   "metadata": {},
   "outputs": [],
   "source": [
    ""
   ]
  }
 ],
 "metadata": {
  "kernelspec": {
   "display_name": "Python 2",
   "language": "python",
   "name": "python2"
  },
  "language_info": {
   "codemirror_mode": {
    "name": "ipython",
    "version": 2.0
   },
   "file_extension": ".py",
   "mimetype": "text/x-python",
   "name": "python",
   "nbconvert_exporter": "python",
   "pygments_lexer": "ipython2",
   "version": "2.7.13"
  }
 },
 "nbformat": 4,
 "nbformat_minor": 0
}