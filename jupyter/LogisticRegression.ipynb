{
 "cells": [
  {
   "cell_type": "code",
   "execution_count": 7,
   "metadata": {
    "collapsed": true
   },
   "outputs": [
    {
     "data": {
      "image/png": "[encoded data removed]",
      "text/plain": [
       "<matplotlib.figure.Figure at 0xb2bfd68>"
      ]
     },
     "metadata": {},
     "output_type": "display_data"
    }
   ],
   "source": [
    "from numpy import *\n",
    "filename='./data/testSet.txt' #文件目录\n",
    "def loadDataSet():   #读取数据（这里只有两个特征）\n",
    "    dataMat = []\n",
    "    labelMat = []\n",
    "    fr = open(filename)\n",
    "    for line in fr.readlines():\n",
    "        lineArr = line.strip().split()\n",
    "        dataMat.append([1.0, float(lineArr[0]), float(lineArr[1])])   #前面的1，表示方程的常量。比如两个特征X1,X2，共需要三个参数，W1+W2*X1+W3*X2\n",
    "        labelMat.append(int(lineArr[2]))\n",
    "    return dataMat,labelMat\n",
    "\n",
    "#定义sigmoid函数\n",
    "def sigmoid(inX):\n",
    "    return 1.0 / (1+exp(-inX))\n",
    "\n",
    "#梯度上升求最优解(因为是极大对数似然函数估计 所以求的是最大值)\n",
    "def gradAscent(dataMat,labelMat,alpha,epochs):\n",
    "    dataMatrix = mat(dataMat)\n",
    "    classLabel = mat(labelMat).transpose()\n",
    "    m,n = shape(dataMatrix)\n",
    "    beta = ones((n,1))\n",
    "    for i in range(epochs):\n",
    "        y = sigmoid(dot(dataMatrix,beta))\n",
    "        loss = classLabel - y #计算残差\n",
    "        #更新参数\n",
    "        beta = beta + alpha * dataMatrix.transpose()*loss\n",
    "    return beta\n",
    "\n",
    "def gradAscentByOneSample(dataMat,labelMat,alpha,epochs):\n",
    "    dataMatrix = mat(dataMat)\n",
    "    classLabel = mat(labelMat).transpose()\n",
    "    m,n = shape(dataMatrix)\n",
    "    beta = ones((n,1))\n",
    "    for i in range(epochs):\n",
    "        for j in range(m):#一次用一个样本更新参数\n",
    "            y = sigmoid(sum(dot(dataMatrix[j],beta)))\n",
    "            loss = classLabel - y #计算残差\n",
    "            #更新参数\n",
    "            beta = beta + alpha * dataMatrix.transpose()*loss\n",
    "    return beta\n",
    "\n",
    "\n",
    "def gradAscentByMiniBatchSample(dataMat,labelMat,alpha,epochs):\n",
    "    dataMatrix = mat(dataMat)\n",
    "    classLabel = mat(labelMat).transpose()\n",
    "    m,n = shape(dataMatrix)\n",
    "    beta = ones((n,1))\n",
    "    dataIndex=[i for i in range(m)]\n",
    "    for i in range(epochs):\n",
    "        for j in range(m):#一次用一个样本更新参数\n",
    "            alpha=4/(1+j+i)+0.0001  #随迭代次数增加，权重变化越小。\n",
    "            randIndex=int(random.uniform(0,len(dataIndex)))  #随机抽样 0~n之间的整数 不包括n\n",
    "            h=sigmoid(sum(dataMatrix[randIndex]*weights))\n",
    "            error=classLabels[randIndex]-h\n",
    "            weights=weights+alpha*error*dataMatrix[randIndex].transpose()\n",
    "            del(dataIndex[randIndex]) #去除已经抽取的样本\n",
    "    return beta\n",
    "\n",
    "def plotBestFit(weights):  #画出最终分类的图\n",
    "    import matplotlib.pyplot as plt\n",
    "    dataMat,labelMat=loadDataSet()\n",
    "    dataArr = array(dataMat)\n",
    "    n = shape(dataArr)[0]\n",
    "    xcord1 = []; ycord1 = []\n",
    "    xcord2 = []; ycord2 = []\n",
    "    for i in range(n):\n",
    "        if int(labelMat[i])== 1:\n",
    "            xcord1.append(dataArr[i,1])\n",
    "            ycord1.append(dataArr[i,2])\n",
    "        else:\n",
    "            xcord2.append(dataArr[i,1])\n",
    "            ycord2.append(dataArr[i,2])\n",
    "    fig = plt.figure()\n",
    "    ax = fig.add_subplot(111)\n",
    "    ax.scatter(xcord1, ycord1, s=30, c='red', marker='s')\n",
    "    ax.scatter(xcord2, ycord2, s=30, c='green')\n",
    "    x = arange(-3.0, 3.0, 0.1)\n",
    "    y = (-weights[0]-weights[1]*x)/weights[2]\n",
    "    ax.plot(x, y)\n",
    "    plt.xlabel('X1')\n",
    "    plt.ylabel('X2')\n",
    "    plt.show()\n",
    "    \n",
    "    \n",
    "dataMat, labelMat = loadDataSet()\n",
    "alpha=0.01\n",
    "epochs = 500\n",
    "#将numpy矩阵转换为数组\n",
    "weights=gradAscent(dataMat, labelMat,alpha,epochs).getA()\n",
    "plotBestFit(weights)"
   ]
  },
  {
   "cell_type": "code",
   "execution_count": 24,
   "metadata": {},
   "outputs": [
    {
     "name": "stdout",
     "output_type": "stream",
     "text": [
      "2\n1\n"
     ]
    }
   ],
   "source": [
    "print (int)(random.uniform(1,4))\n",
    "print random.randint(1,4)"
   ]
  },
  {
   "cell_type": "code",
   "execution_count": 11,
   "metadata": {},
   "outputs": [],
   "source": [
    ""
   ]
  },
  {
   "cell_type": "code",
   "execution_count": null,
   "metadata": {},
   "outputs": [],
   "source": [
    ""
   ]
  }
 ],
 "metadata": {
  "kernelspec": {
   "display_name": "Python 2",
   "language": "python",
   "name": "python2"
  },
  "language_info": {
   "codemirror_mode": {
    "name": "ipython",
    "version": 2.0
   },
   "file_extension": ".py",
   "mimetype": "text/x-python",
   "name": "python",
   "nbconvert_exporter": "python",
   "pygments_lexer": "ipython2",
   "version": "2.7.6"
  }
 },
 "nbformat": 4,
 "nbformat_minor": 0
}