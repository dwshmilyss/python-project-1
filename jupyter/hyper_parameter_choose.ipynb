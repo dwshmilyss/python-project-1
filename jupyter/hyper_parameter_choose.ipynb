{
 "cells": [
  {
   "cell_type": "code",
   "execution_count": 2,
   "metadata": {
    "collapsed": true
   },
   "outputs": [
    {
     "name": "stdout",
     "output_type": "stream",
     "text": [
      "SVC(C=1, cache_size=200, class_weight=None, coef0=0.0,\n  decision_function_shape=None, degree=3, gamma='auto', kernel='linear',\n  max_iter=-1, probability=False, random_state=None, shrinking=True,\n  tol=0.001, verbose=False)\n"
     ]
    }
   ],
   "source": [
    "from sklearn import svm,datasets\n",
    "from sklearn.model_selection import GridSearchCV\n",
    "iris = datasets.load_iris()\n",
    "#定义网格参数 2*3=6个参数组合\n",
    "params = {'kernel':('rbf','linear'),'C':[1,5,10]}\n",
    "svr = svm.SVC()\n",
    "clf = GridSearchCV(svr,param_grid=params)\n",
    "# print clf\n",
    "'''\n",
    "这里的fit()函数会调用上面svr的fit()和predict()，然后取出params中的每一个参数组合进行评估\n",
    "'''\n",
    "clf.fit(iris.data,iris.target)\n",
    "'''\n",
    "6个参数组合都评估完成后，会把得分最高的模型参数放入best_estimator_\n",
    "'''\n",
    "print clf.best_estimator_"
   ]
  },
  {
   "cell_type": "code",
   "execution_count": 10,
   "metadata": {},
   "outputs": [
    {
     "name": "stdout",
     "output_type": "stream",
     "text": [
      "<scipy.stats._distn_infrastructure.rv_frozen object at 0x000000001B558390>\n[1, 2]\n<scipy.stats._distn_infrastructure.rv_frozen object at 0x000000001BBFC978>\n"
     ]
    }
   ],
   "source": [
    "from scipy import stats\n",
    "print stats.expon(scale=100)\n",
    "print range(1,3)\n",
    "from scipy.stats import randint as sp_randint\n",
    "print sp_randint(2,11)"
   ]
  },
  {
   "cell_type": "code",
   "execution_count": 8,
   "metadata": {},
   "outputs": [
    {
     "name": "stdout",
     "output_type": "stream",
     "text": [
      "RandomizedSearchCV took 6.17 seconds for 20 candidates parameter settings.\nmodel with rank : 1\nmean validation score : 0.917,std:0.014\nparameters : {'bootstrap': True, 'min_samples_leaf': 5, 'min_samples_split': 9, 'criterion': 'entropy', 'max_features': 9, 'max_depth': None}\n\nmodel with rank : 2\nmean validation score : 0.911,std:0.006\nparameters : {'bootstrap': True, 'min_samples_leaf': 7, 'min_samples_split': 3, 'criterion': 'gini', 'max_features': 10, 'max_depth': None}\n\nmodel with rank : 3\nmean validation score : 0.906,std:0.010\nparameters : {'bootstrap': False, 'min_samples_leaf': 7, 'min_samples_split': 6, 'criterion': 'entropy', 'max_features': 3, 'max_depth': None}\n\n"
     ]
    }
   ],
   "source": [
    "import numpy as np\n",
    "from time import time\n",
    "from scipy.stats import randint as sp_randint\n",
    "from sklearn.model_selection import RandomizedSearchCV\n",
    "from sklearn.datasets import load_digits\n",
    "from sklearn.ensemble import RandomForestClassifier\n",
    "\n",
    "#打印超参数搜索结果最好的函数\n",
    "def reprot(results,n_top=3):\n",
    "    for i in range(1,n_top+1):\n",
    "        candidates = np.flatnonzero(results['rank_test_score'] == i)\n",
    "        for candidate in candidates:\n",
    "            print(\"model with rank : {0}\".format(i))\n",
    "            print \"mean validation score : {0:.3f},std:{1:.3f}\".format(\n",
    "                results[\"mean_test_score\"][candidate],\n",
    "                results[\"std_test_score\"][candidate]\n",
    "            )\n",
    "            print \"parameters : {0}\".format(results[\"params\"][candidate])\n",
    "            print \"\"\n",
    "\n",
    "#获取数据：手写字符分类\n",
    "digits = load_digits()\n",
    "X,y = digits.data,digits.target\n",
    "#构建一个分类器 参数是树的个数\n",
    "clf = RandomForestClassifier(n_estimators=20)\n",
    "#设置想要优化的超参数以及他们的取值分布 sp_randint(1,11)：从1到11之间均匀分布的整数中随机采样\n",
    "params = {\n",
    "    #树的最大深度\n",
    "    \"max_depth\" : [3,None],\n",
    "    #最大特征数\n",
    "    \"max_features\" : sp_randint(1,11),\n",
    "    #每个节点的最小样本划分数 这里必须从2开始 因为1个样本无法split\n",
    "    \"min_samples_split\" : sp_randint(2,11),\n",
    "    #每个叶子节点的最小样本划分数\n",
    "    \"min_samples_leaf\" :  sp_randint(1,11),\n",
    "    \"bootstrap\" : (True,False),\n",
    "    #度量指标 gini指数和熵\n",
    "    \"criterion\" : (\"gini\",\"entropy\")\n",
    "}\n",
    "#开启超参数空间的随机搜索 20次里面每一次都会随机抽取一个参数组合进行K-Fold交叉验证\n",
    "n_iter_search = 20\n",
    "random_search = RandomizedSearchCV(clf,param_distributions=params,n_iter=n_iter_search)\n",
    "start = time()\n",
    "random_search.fit(X,y)\n",
    "print \"RandomizedSearchCV took %.2f seconds for %d candidates parameter settings(候选参数组合).\" % ((time()-start),n_iter_search)\n",
    "reprot(random_search.cv_results_)"
   ]
  },
  {
   "cell_type": "code",
   "execution_count": null,
   "metadata": {},
   "outputs": [],
   "source": [
    ""
   ]
  }
 ],
 "metadata": {
  "kernelspec": {
   "display_name": "Python 2",
   "language": "python",
   "name": "python2"
  },
  "language_info": {
   "codemirror_mode": {
    "name": "ipython",
    "version": 2.0
   },
   "file_extension": ".py",
   "mimetype": "text/x-python",
   "name": "python",
   "nbconvert_exporter": "python",
   "pygments_lexer": "ipython2",
   "version": "2.7.6"
  }
 },
 "nbformat": 4,
 "nbformat_minor": 0
}