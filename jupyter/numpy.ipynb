{
 "cells": [
  {
   "cell_type": "code",
   "execution_count": 7,
   "metadata": {
    "collapsed": true
   },
   "outputs": [
    {
     "name": "stdout",
     "output_type": "stream",
     "text": [
      "原始数据: [2 0 1 5 8 3]\n",
      "最小值: 0\n",
      "最大值: 8\n",
      "形状 (6L,)\n",
      "[2 0 1 5]\n",
      "[8 3]\n",
      "[2]\n",
      "[0 1 5 8 3]\n",
      "<type 'numpy.ndarray'>\n",
      "int32\n",
      "排序后: [0 1 2 3 5 8]\n"
     ]
    }
   ],
   "source": [
    "import numpy as np\n",
    "#一维数组\n",
    "a = np.array([2, 0, 1, 5, 8, 3])\n",
    "print u'原始数据:', a\n",
    "print u'最小值:', a.min()\n",
    "print u'最大值:', a.max()\n",
    "print u'形状', a.shape\n",
    "# [:-2]从后往前，除了后面两个元素\n",
    "print a[:-2]\n",
    "#[-2:]表示从后往前获取两个元素\n",
    "print a[-2:]\n",
    "#[:1]表示从头开始获取，获取1个元素\n",
    "print a[:1]\n",
    "#[1:]表示从头开始获取，除了第1个元素\n",
    "print a[1:]\n",
    "# 排序\n",
    "print type(a)\n",
    "print a.dtype\n",
    "a.sort()\n",
    "print u'排序后:', a"
   ]
  },
  {
   "cell_type": "code",
   "execution_count": 11,
   "metadata": {
    "collapsed": true
   },
   "outputs": [
    {
     "name": "stdout",
     "output_type": "stream",
     "text": [
      "形状: (3L, 4L)\n",
      "获取值: 4\n",
      "获取某行:\n",
      "[4 5 6 7]\n",
      "获取某行并切片:\n",
      "[1 2 3]\n",
      "[4]\n",
      "获取第3列:\n",
      "[[3]\n",
      " [6]\n",
      " [9]]\n",
      "[3 6 9]\n",
      "0.5\n",
      "1.0\n",
      "1.63312393532e+16\n",
      "3.14159265359\n",
      "[0 1 2 3]\n"
     ]
    }
   ],
   "source": [
    "#二维数组\n",
    "c = np.array([[1, 2, 3, 4], [4, 5, 6, 7], [7, 8, 9, 10]])\n",
    "\n",
    "# 获取值\n",
    "print u'形状:', c.shape\n",
    "print u'获取值:', c[1][0]\n",
    "print u'获取某行:'\n",
    "print c[1][:]\n",
    "print u'获取某行并切片:'\n",
    "print c[0][:-1]\n",
    "print c[0][-1:]\n",
    "\n",
    "#获取具体某列值\n",
    "print u'获取第3列:'\n",
    "#np.newaxis增加一个新维度\n",
    "print c[:,np.newaxis, 2]\n",
    "print c[:, 2]\n",
    "#函数\n",
    "#sin\n",
    "print np.sin(np.pi/6)\n",
    "print np.sin(np.pi/2)\n",
    "print np.tan(np.pi/2)\n",
    "print np.pi\n",
    "print np.arange(0,4)"
   ]
  },
  {
   "cell_type": "code",
   "execution_count": 2,
   "metadata": {
    "collapsed": true
   },
   "outputs": [],
   "source": [
    "import numpy as np  \n",
    "import matplotlib.pyplot as plt  \n",
    "'''\n",
    "numpy.linspace(start, stop, num=50, endpoint=True, retstep=False, dtype=None)\n",
    "也就是说在从0到10(包含0和10)之间均匀的生成1000个样本\n",
    "endpoint:是否包含stop\n",
    "retstep:是否显示步长\n",
    "'''  \n",
    "x = np.linspace(0, 10, 1000,endpoint=False,retstep=True,dtype=np.float64)\n",
    "'''\n",
    "numpy.arange([start, ]stop, [step, ]dtype=None)\n",
    "start:可以没有，默认是0，包含start\n",
    "end:必须有，不包含end\n",
    "step:可以不写，默认是1\n",
    "'''\n",
    "a = np.arange(0,10)"
   ]
  },
  {
   "cell_type": "code",
   "execution_count": 3,
   "metadata": {
    "collapsed": true
   },
   "outputs": [
    {
     "name": "stdout",
     "output_type": "stream",
     "text": [
      "\n[ 0.77382429  0.02406808  0.90157516  0.27783858  0.48565888  0.7556366\n  0.51142055  0.40827771  0.15373957  0.82442395]\n[0.90157516418373884, 0.82442395034256966, 0.77382429306929146, 0.75563660439701041, 0.51142054594677167, 0.4856588821779324, 0.40827771056156059, 0.27783857570197512, 0.15373957498845303, 0.024068079041875245]\nint32\n"
     ]
    }
   ],
   "source": [
    "import numpy as np\n",
    "z = np.arange(1,101)\n",
    "a = np.arange(9).reshape(3,3)  \n",
    "np.dot(np.ones((5,3)),np.ones((3,2)))\n",
    "b = np.random.random((5,5))  \n",
    "# print str(b.max()) +' '+ str(b.min())\n",
    "c = (b - b.min())/(b.max() - b.min())\n",
    "#linspace(start, stop, num=50, endpoint=True, retstep=False)\n",
    "#生成0~10之间均匀分布的11个数，包括0和1。\n",
    "#endpoint=False,则10不包括在里面。\n",
    "#retstep=False，会同时返回均匀区间中每两个数的间隔。\n",
    "d = np.linspace(0,10,11,endpoint=True, retstep=True)\n",
    "e = np.random.random(10)\n",
    "print e\n",
    "f = sorted(e,reverse=True)\n",
    "print f\n",
    "#randint(min,max,num)生成大小为num的array，数值范围min～max\n",
    "A = np.random.randint(0,2,5)  \n",
    "B = np.random.randint(0,2,5)  \n",
    "#判断两个array在误差范围内是否相等。函数原型allclose(a, b, rtol=1e-05, atol=1e-08)，若absolute(a - b) <= (atol + rtol * absolute(b))则相等\n",
    "equal = np.allclose(A,B)  \n",
    "print A.dtype"
   ]
  },
  {
   "cell_type": "code",
   "execution_count": 4,
   "metadata": {},
   "outputs": [
    {
     "name": "stdout",
     "output_type": "stream",
     "text": [
      "[[1 0 2 3]\n [3 2 0 1]]\n[[1 0 2 3]\n [2 3 1 0]]\n[[False False False False]\n [False False False False]]\n[[False  True False False]\n [False  True False False]]\n[3 2]\n[False False False False]\n[False False  True  True]\n"
     ]
    }
   ],
   "source": [
    "import numpy as np\n",
    "a = np.array([[1,0,2,3],[3,2,0,1]])\n",
    "mask = np.zeros(a.shape, dtype=bool)\n",
    "b = np.argsort(a,kind=\"mergesort\")[-2:]\n",
    "print a\n",
    "print b\n",
    "print mask\n",
    "mask[[(0,1),(1,1)]] = 1\n",
    "print mask\n",
    "import numpy as np\n",
    "a = np.array([1,0,3,2])\n",
    "mask = np.zeros(a.shape, dtype=bool)\n",
    "b = np.argsort(a,kind=\"mergesort\")[-2:]\n",
    "print b\n",
    "print mask\n",
    "mask[b] = 1\n",
    "print mask"
   ]
  },
  {
   "cell_type": "code",
   "execution_count": null,
   "metadata": {},
   "outputs": [],
   "source": [
    ""
   ]
  }
 ],
 "metadata": {
  "kernelspec": {
   "display_name": "Python 2",
   "language": "python",
   "name": "python2"
  },
  "language_info": {
   "codemirror_mode": {
    "name": "ipython",
    "version": 2.0
   },
   "file_extension": ".py",
   "mimetype": "text/x-python",
   "name": "python",
   "nbconvert_exporter": "python",
   "pygments_lexer": "ipython2",
   "version": "2.7.13"
  }
 },
 "nbformat": 4,
 "nbformat_minor": 0
}