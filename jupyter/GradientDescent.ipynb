{
 "cells": [
  {
   "cell_type": "code",
   "execution_count": 27,
   "metadata": {
    "collapsed": true
   },
   "outputs": [
    {
     "name": "stdout",
     "output_type": "stream",
     "text": [
      "Coef: 4796.26618876 \nIntercept 1015.70899949\nour Coef: 2.12883541445 \nIntercept 1015.70899949\nOur RMSE: 533.598313974\n====================================\nSklearn Coef: 2.19487084445\nSklearn Intercept: 936.051219649\nSklearn RMSE: 531.841307949\n"
     ]
    }
   ],
   "source": [
    "'''\n",
    "全批量梯度下降法\n",
    "多元函数的“导数”(derivative)就是梯度(gradient)。\n",
    "'''\n",
    "import pandas as pd\n",
    "import numpy as np\n",
    "'''\n",
    "导入数据 这里的特征\n",
    "'''\n",
    "train = pd.read_csv('./data/QA/train.csv')\n",
    "test = pd.read_csv('./data/QA/test.csv')\n",
    "submit = pd.read_csv('./data/QA/sample_submit.csv')\n",
    "'''\n",
    "线性回归模型 y = beta[0] + beta[1]*x\n",
    "beta 模型参数\n",
    "alpha 学习率\n",
    "tol_L 迭代终止误差\n",
    "'''\n",
    "beta = [1, 1]\n",
    "alpha = 0.2\n",
    "tol_L = 0.1\n",
    "\n",
    "'''\n",
    "对特征变量进行归一化\n",
    "'''\n",
    "max_x = np.max(train['id'])\n",
    "min_x = np.min(train['id'])\n",
    "#x = (train['id'] - min_x) / (max_x - min_x)\n",
    "x = train['id'] / max_x\n",
    "y = train['questions']\n",
    "\n",
    "'''\n",
    "计算梯度\n",
    "'''\n",
    "def compute_grad(beta, x, y):\n",
    "    grad = [0, 0]\n",
    "    #beta[0]的偏导\n",
    "    grad[0] = 2. * np.mean(beta[0] + beta[1] * x - y)\n",
    "    #beta[1]的偏导\n",
    "    grad[1] = 2. * np.mean(x * (beta[0] + beta[1] * x - y))\n",
    "    return np.array(grad)\n",
    "\n",
    "'''\n",
    "更新参数\n",
    "'''\n",
    "def update_beta(beta, alpha, grad):\n",
    "    new_beta = np.array(beta) - alpha * grad\n",
    "    return new_beta\n",
    "\n",
    "'''\n",
    "定义RMSE函数\n",
    "'''\n",
    "def rmse(beta,x,y):\n",
    "    squared_err = (beta[0] + beta[1]*x - y) ** 2\n",
    "    res = np.sqrt(np.mean(squared_err))\n",
    "    return res\n",
    "\n",
    "'''\n",
    "进行第一次计算\n",
    "第一次的时候先计算梯度 然后更新参数beta\n",
    "'''\n",
    "grad = compute_grad(beta,x,y)\n",
    "loss = rmse(beta,x,y)\n",
    "beta = update_beta(beta,alpha,grad)\n",
    "loss_next = rmse(beta,x,y)\n",
    "\n",
    "#开始迭代\n",
    "i = 1 \n",
    "while np.abs(loss_next - loss) > tol_L:\n",
    "    '''\n",
    "    这个地方的顺序不能改变 先更新beta 然后计算梯度 尤其是loss和loss_next 不能调换顺序\n",
    "    '''\n",
    "    beta = update_beta(beta,alpha,grad)\n",
    "    grad = compute_grad(beta,x,y)\n",
    "    loss = loss_next\n",
    "    loss_next = rmse(beta,x,y)\n",
    "    i += 1\n",
    "    #print('Round %s Diff RMSE %s'%(i, abs(loss_next - loss)))\n",
    "#得到的Coef（即beta[1]）其实是真实的系数乘以max_x。\n",
    "print('Coef: %s \\nIntercept %s'%(beta[1], beta[0]))\n",
    "#可以还原Coef\n",
    "print('our Coef: %s \\nIntercept %s'%(beta[1]/max_x, beta[0]))\n",
    "res = rmse(beta, x, y)\n",
    "print('Our RMSE: %s'%res)\n",
    "\n",
    "print \"====================================\"\n",
    "\n",
    "from sklearn.linear_model import LinearRegression\n",
    "lr = LinearRegression()\n",
    "lr.fit(train[['id']],train[['questions']])\n",
    "print('Sklearn Coef: %s'%lr.coef_[0][0])\n",
    "print('Sklearn Intercept: %s'%lr.intercept_[0])\n",
    "res = rmse([936.051219649, 2.19487084445], train['id'], y)\n",
    "print('Sklearn RMSE: %s'%res)"
   ]
  },
  {
   "cell_type": "code",
   "execution_count": 34,
   "metadata": {
    "collapsed": true
   },
   "outputs": [
    {
     "name": "stdout",
     "output_type": "stream",
     "text": [
      "Round 100 Diff RMSE 1517.68063478\nRound 200 Diff RMSE 59.121501507\nRound 300 Diff RMSE 57.6261183472\nRound 400 Diff RMSE 12.4878329725\nRound 500 Diff RMSE 30.7707789755\nRound 600 Diff RMSE 528.307198648\nRound 700 Diff RMSE 459.412195353\nRound 800 Diff RMSE 75.7093528658\nRound 900 Diff RMSE 13.5633018177\nRound 1000 Diff RMSE 301.329700419\nRound 1100 Diff RMSE 312.483523674\nRound 1200 Diff RMSE 53.36866522\nRound 1300 Diff RMSE 53.3818734309\nRound 1400 Diff RMSE 221.963640142\nRound 1500 Diff RMSE 228.640349114\n"
     ]
    },
    {
     "name": "stdout",
     "output_type": "stream",
     "text": [
      "Round 1600 Diff RMSE 7.24543701513\nRound 1700 Diff RMSE 60.8158606717\nRound 1800 Diff RMSE 56.8694187853\nRound 1900 Diff RMSE 380.53060173\nRound 2000 Diff RMSE 196.140483534\nRound 2100 Diff RMSE 115.569628578\nRound 2200 Diff RMSE 72.1232591393\nRound 2300 Diff RMSE 19.1536796217\nRound 2400 Diff RMSE 19.2944015965\nRound 2500 Diff RMSE 5.45793562077\nRound 2600 Diff RMSE 3.4633183569\nRound 2700 Diff RMSE 18.307211974\nRound 2800 Diff RMSE 78.1167920421\nRound 2900 Diff RMSE 43.1410858902\n"
     ]
    },
    {
     "name": "stdout",
     "output_type": "stream",
     "text": [
      "Round 3000 Diff RMSE 77.4500518843\nRound 3100 Diff RMSE 80.5816256828\nRound 3200 Diff RMSE 17.7247238775\nRound 3300 Diff RMSE 44.970992605\nRound 3400 Diff RMSE 29.0383499735\nRound 3500 Diff RMSE 9.91070129694\nRound 3600 Diff RMSE 196.571042209\nRound 3700 Diff RMSE 168.374666651\nRound 3800 Diff RMSE 14.4697299497\nRound 3900 Diff RMSE 110.648006537\nRound 4000 Diff RMSE 2.29731827448\nRound 4100 Diff RMSE 26.3371538871\nRound 4200 Diff RMSE 152.609931027\nRound 4300 Diff RMSE 35.7609736397\nRound 4400 Diff RMSE 137.523000178\n"
     ]
    },
    {
     "name": "stdout",
     "output_type": "stream",
     "text": [
      "Round 4500 Diff RMSE 28.0760270892\nRound 4600 Diff RMSE 114.625728841\nRound 4700 Diff RMSE 80.6766742246\nRound 4800 Diff RMSE 47.104043066\nRound 4900 Diff RMSE 11.1274409109\nRound 5000 Diff RMSE 27.4477119456\nRound 5100 Diff RMSE 256.374960518\nRound 5200 Diff RMSE 218.341445779\nRound 5300 Diff RMSE 73.4002112773\nRound 5400 Diff RMSE 78.715560072\nRound 5500 Diff RMSE 117.635885402\nRound 5600 Diff RMSE 113.29268829\nRound 5700 Diff RMSE 36.4967892014\nRound 5800 Diff RMSE 86.7244217452\nRound 5900 Diff RMSE 81.2408568319\n"
     ]
    },
    {
     "name": "stdout",
     "output_type": "stream",
     "text": [
      "Round 6000 Diff RMSE 131.058480898\nRound 6100 Diff RMSE 91.978308546\nRound 6200 Diff RMSE 12.8984634736\nRound 6300 Diff RMSE 234.472848291\nRound 6400 Diff RMSE 173.767840667\nRound 6500 Diff RMSE 103.690126115\nRound 6600 Diff RMSE 13.8717310546\nRound 6700 Diff RMSE 357.508329764\nRound 6800 Diff RMSE 319.668223124\nRound 6900 Diff RMSE 97.6678918453\nRound 7000 Diff RMSE 88.5843945356\nRound 7100 Diff RMSE 87.8826003774\nRound 7200 Diff RMSE 40.738759369\nRound 7300 Diff RMSE 44.264437297\nRound 7400 Diff RMSE 19.7956675014\n"
     ]
    },
    {
     "name": "stdout",
     "output_type": "stream",
     "text": [
      "Round 7500 Diff RMSE 4.80915654671\nRound 7600 Diff RMSE 0.836236240206\nRound 7700 Diff RMSE 6.45173478063\nRound 7800 Diff RMSE 28.0520417164\nRound 7900 Diff RMSE 1.26942751734\nRound 8000 Diff RMSE 10.2445997856\nRound 8100 Diff RMSE 30.397982887\nRound 8200 Diff RMSE 56.6687387711\nRound 8300 Diff RMSE 3.83410305587\nRound 8400 Diff RMSE 2.16271123175\nRound 8500 Diff RMSE 51.4267133184\nRound 8600 Diff RMSE 106.662642795\nRound 8700 Diff RMSE 123.19479208\nRound 8800 Diff RMSE 30.0862161889\nRound 8900 Diff RMSE 180.583915036\nRound 9000 Diff RMSE 72.031987319"
     ]
    },
    {
     "name": "stdout",
     "output_type": "stream",
     "text": [
      "\nRound 9100 Diff RMSE 86.1634310718\nRound 9200 Diff RMSE 31.4535908426\nRound 9300 Diff RMSE 4.2726836407\nRound 9400 Diff RMSE 8.53159810577\nRound 9500 Diff RMSE 16.3402297508\nRound 9600 Diff RMSE 85.8472640726\nRound 9700 Diff RMSE 58.8885018262\nRound 9800 Diff RMSE 60.4614189924\nRound 9900 Diff RMSE 52.2847085988\nRound 10000 Diff RMSE 3.74564374393\nRound 10100 Diff RMSE 153.965668237\nRound 10200 Diff RMSE 162.416417671\nRound 10300 Diff RMSE 44.0718238462\nRound 10400 Diff RMSE 248.508769759\nRound 10500 Diff RMSE 30.3099457143\n"
     ]
    },
    {
     "name": "stdout",
     "output_type": "stream",
     "text": [
      "Round 10600 Diff RMSE 7.21336309892\nRound 10700 Diff RMSE 89.8062868103\nRound 10800 Diff RMSE 67.7832559866\nRound 10900 Diff RMSE 145.523316546\nRound 11000 Diff RMSE 215.194019857\nRound 11100 Diff RMSE 134.926916212\nRound 11200 Diff RMSE 133.695193304\nRound 11300 Diff RMSE 49.1921958012\nRound 11400 Diff RMSE 7.29197930712\nRound 11500 Diff RMSE 33.0194026323\nRound 11600 Diff RMSE 6.88981760178\nRound 11700 Diff RMSE 71.3217425737\nRound 11800 Diff RMSE 133.335278859\nRound 11900 Diff RMSE 64.5924709236\nRound 12000 Diff RMSE 109.951854383\n"
     ]
    },
    {
     "name": "stdout",
     "output_type": "stream",
     "text": [
      "Round 12100 Diff RMSE 41.4210109801\nRound 12200 Diff RMSE 42.8439484786\nRound 12300 Diff RMSE 29.4218693728\nRound 12400 Diff RMSE 231.197291449\nRound 12500 Diff RMSE 116.852837292\nRound 12600 Diff RMSE 70.5757166632\nRound 12700 Diff RMSE 75.5125293973\nRound 12800 Diff RMSE 34.1643011725\nRound 12900 Diff RMSE 261.567274097\nRound 13000 Diff RMSE 279.325072022\nRound 13100 Diff RMSE 88.3803970489\nRound 13200 Diff RMSE 89.2448467617\nRound 13300 Diff RMSE 0.436100429756\nRound 13400 Diff RMSE 1.20956377262\n"
     ]
    },
    {
     "name": "stdout",
     "output_type": "stream",
     "text": [
      "Round 13500 Diff RMSE 1.92070110073\nRound 13600 Diff RMSE 3.0782315158\nRound 13700 Diff RMSE 61.124729282\nRound 13800 Diff RMSE 29.005816414\nRound 13900 Diff RMSE 90.246077596\nRound 14000 Diff RMSE 15.4021074963\nRound 14100 Diff RMSE 2.32668288045\nRound 14200 Diff RMSE 91.3822846088\nRound 14300 Diff RMSE 98.0106535622\nRound 14400 Diff RMSE 43.6122365587\nRound 14500 Diff RMSE 25.9777664427\nRound 14600 Diff RMSE 27.3758839696\nRound 14700 Diff RMSE 40.6649118322\nRound 14800 Diff RMSE 53.5906326616\nRound 14900 Diff RMSE 65.5300138943\n"
     ]
    },
    {
     "name": "stdout",
     "output_type": "stream",
     "text": [
      "Round 15000 Diff RMSE 27.6499039458\nRound 15100 Diff RMSE 218.291125856\nRound 15200 Diff RMSE 204.967414712\nRound 15300 Diff RMSE 13.7202109341\nRound 15400 Diff RMSE 55.4350306881\nRound 15500 Diff RMSE 25.697995835\nRound 15600 Diff RMSE 224.627538341\nRound 15700 Diff RMSE 224.309567001\nRound 15800 Diff RMSE 11.3603647045\nRound 15900 Diff RMSE 53.5884456579\nRound 16000 Diff RMSE 12.4297033949\nRound 16100 Diff RMSE 35.1220458413\nRound 16200 Diff RMSE 99.7336197337\nRound 16300 Diff RMSE 137.514163582\nRound 16400 Diff RMSE 24.685773117\n"
     ]
    },
    {
     "name": "stdout",
     "output_type": "stream",
     "text": [
      "Round 16500 Diff RMSE 32.1367996031\nRound 16600 Diff RMSE 41.2026452226\nRound 16700 Diff RMSE 94.5944578993\nRound 16800 Diff RMSE 23.6126880548\nRound 16900 Diff RMSE 50.4046490118\nRound 17000 Diff RMSE 61.710308433\nRound 17100 Diff RMSE 185.097297015\nRound 17200 Diff RMSE 117.112972526\nRound 17300 Diff RMSE 41.4560694659\nRound 17400 Diff RMSE 3.47911928209\nRound 17500 Diff RMSE 126.616840721\nRound 17600 Diff RMSE 158.956814497\nRound 17700 Diff RMSE 82.4887246099\nRound 17800 Diff RMSE 49.5911571929\nRound 17900 Diff RMSE 74.7539555987\n"
     ]
    },
    {
     "name": "stdout",
     "output_type": "stream",
     "text": [
      "Round 18000 Diff RMSE 16.9044321813\nRound 18100 Diff RMSE 120.986433506\nRound 18200 Diff RMSE 1.48533195623\nRound 18300 Diff RMSE 330.343853039\nRound 18400 Diff RMSE 291.604204442\nRound 18500 Diff RMSE 59.1700947824\nRound 18600 Diff RMSE 84.1508153409\nRound 18700 Diff RMSE 129.617987326\nRound 18800 Diff RMSE 145.948047073\nRound 18900 Diff RMSE 232.797384947\nRound 19000 Diff RMSE 46.712336939\nRound 19100 Diff RMSE 123.5107217\nRound 19200 Diff RMSE 132.670205751\nRound 19300 Diff RMSE 21.8176191108\nRound 19400 Diff RMSE 3.58739422065\nRound 19500 Diff RMSE 8.26771033284"
     ]
    },
    {
     "name": "stdout",
     "output_type": "stream",
     "text": [
      "\nRound 19600 Diff RMSE 5.11679048775\nRound 19700 Diff RMSE 49.9798910961\nRound 19800 Diff RMSE 25.3965573872\nRound 19900 Diff RMSE 70.6542780871\nRound 20000 Diff RMSE 121.237842183\nRound 20100 Diff RMSE 124.927197692\nRound 20200 Diff RMSE 156.436832057\nRound 20300 Diff RMSE 199.151448367\nRound 20400 Diff RMSE 143.371185064\nRound 20500 Diff RMSE 61.1247606633\nRound 20600 Diff RMSE 22.029426454\nRound 20700 Diff RMSE 32.3189948953\nRound 20800 Diff RMSE 23.7391752166\nRound 20900 Diff RMSE 256.077793634\n"
     ]
    },
    {
     "name": "stdout",
     "output_type": "stream",
     "text": [
      "Round 21000 Diff RMSE 245.381847647\nRound 21100 Diff RMSE 3.62425869154\nRound 21200 Diff RMSE 177.003269498\nRound 21300 Diff RMSE 130.010868767\nRound 21400 Diff RMSE 28.5700176605\nRound 21500 Diff RMSE 111.798495019\nRound 21600 Diff RMSE 175.451459278\nRound 21700 Diff RMSE 279.341738178\nRound 21800 Diff RMSE 169.641326132\nRound 21900 Diff RMSE 10.5839552042\nRound 22000 Diff RMSE 140.733801801\nRound 22100 Diff RMSE 191.40830166\nRound 22200 Diff RMSE 54.2008534785\nRound 22300 Diff RMSE 55.5950053999\nRound 22400 Diff RMSE 63.5187389496\n"
     ]
    },
    {
     "name": "stdout",
     "output_type": "stream",
     "text": [
      "Round 22500 Diff RMSE 30.7437360301\nRound 22600 Diff RMSE 29.9487165222\nRound 22700 Diff RMSE 151.491860998\nRound 22800 Diff RMSE 205.475787562\nRound 22900 Diff RMSE 92.5040357486\nRound 23000 Diff RMSE 19.935623356\nRound 23100 Diff RMSE 34.4211244124\nRound 23200 Diff RMSE 59.9657639712\nRound 23300 Diff RMSE 3.17553866237\nRound 23400 Diff RMSE 36.4400890416\nRound 23500 Diff RMSE 64.4158109392\nRound 23600 Diff RMSE 12.7686239158\nRound 23700 Diff RMSE 286.356883282\nRound 23800 Diff RMSE 294.206616539\nRound 23900 Diff RMSE 0.76940101017\n"
     ]
    },
    {
     "name": "stdout",
     "output_type": "stream",
     "text": [
      "Round 24000 Diff RMSE 160.096214027\nRound 24100 Diff RMSE 134.036314033\nRound 24200 Diff RMSE 21.2154382296\nRound 24300 Diff RMSE 70.8744626322\nRound 24400 Diff RMSE 11.7456011431\nRound 24500 Diff RMSE 53.6752981131\nRound 24600 Diff RMSE 69.5177512227\nRound 24700 Diff RMSE 65.6751529028\nRound 24800 Diff RMSE 126.591763226\nRound 24900 Diff RMSE 18.7316888731\nRound 25000 Diff RMSE 4.83617378509\nRound 25100 Diff RMSE 116.976774705\nRound 25200 Diff RMSE 29.8129248096\nRound 25300 Diff RMSE 97.950358648\nRound 25400 Diff RMSE 31.48868854\nRound 25500 Diff RMSE 42.4671497655"
     ]
    },
    {
     "name": "stdout",
     "output_type": "stream",
     "text": [
      "\nRound 25600 Diff RMSE 54.6743585588\nRound 25700 Diff RMSE 59.5009568612\nRound 25800 Diff RMSE 21.4391938122\nRound 25900 Diff RMSE 298.846429831\nRound 26000 Diff RMSE 131.201299859\nRound 26100 Diff RMSE 178.629128868\nRound 26200 Diff RMSE 27.1665415725\nRound 26300 Diff RMSE 39.5759094463\nRound 26400 Diff RMSE 17.9567734362\nRound 26500 Diff RMSE 11.4757320863\nRound 26600 Diff RMSE 35.0370334015\nRound 26700 Diff RMSE 40.7849140166\nRound 26800 Diff RMSE 30.9770801686\nRound 26900 Diff RMSE 113.309819808\nRound 27000 Diff RMSE 25.4295921415\n"
     ]
    },
    {
     "name": "stdout",
     "output_type": "stream",
     "text": [
      "Round 27100 Diff RMSE 78.1069353071\nRound 27200 Diff RMSE 194.530450851\nRound 27300 Diff RMSE 55.8835290642\nRound 27400 Diff RMSE 271.990044005\nRound 27500 Diff RMSE 136.736806674\nRound 27600 Diff RMSE 130.667191631\nRound 27700 Diff RMSE 61.6665102932\nRound 27800 Diff RMSE 76.9701926684\nRound 27900 Diff RMSE 122.282289875\nRound 28000 Diff RMSE 33.1342728349\nRound 28100 Diff RMSE 66.0470927033\nRound 28200 Diff RMSE 83.4675676978\nRound 28300 Diff RMSE 121.636334813\nRound 28400 Diff RMSE 57.9829660626\nRound 28500 Diff RMSE 64.6227339936\nRound 28600 Diff RMSE 64.1146629062"
     ]
    },
    {
     "name": "stdout",
     "output_type": "stream",
     "text": [
      "\nRound 28700 Diff RMSE 28.1667190227\nRound 28800 Diff RMSE 49.0252502725\nRound 28900 Diff RMSE 0.0963260007678\nCoef: 4636.29068335 \nIntercept 805.078482893\nour Coef: 2.05782986389 \nIntercept 805.078482893\nOur RMSE: 610.133277988\n"
     ]
    }
   ],
   "source": [
    "'''\n",
    "随机梯度下降\n",
    "'''\n",
    "import pandas as pd\n",
    "import numpy as np\n",
    "'''\n",
    "导入数据 这里的特征\n",
    "'''\n",
    "train = pd.read_csv('./data/QA/train.csv')\n",
    "test = pd.read_csv('./data/QA/test.csv')\n",
    "submit = pd.read_csv('./data/QA/sample_submit.csv')\n",
    "'''\n",
    "线性回归模型 y = beta[0] + beta[1]*x\n",
    "beta 模型参数\n",
    "alpha 学习率\n",
    "tol_L 迭代终止误差\n",
    "'''\n",
    "beta = [1, 1]\n",
    "alpha = 0.2\n",
    "tol_L = 0.1\n",
    "\n",
    "'''\n",
    "对特征变量进行归一化\n",
    "'''\n",
    "max_x = np.max(train['id'])\n",
    "min_x = np.min(train['id'])\n",
    "#x = (train['id'] - min_x) / (max_x - min_x)\n",
    "x = train['id'] / max_x\n",
    "y = train['questions']\n",
    "\n",
    "'''\n",
    "计算梯度\n",
    "'''\n",
    "def compute_grad_SGD(beta, x, y):\n",
    "    grad = [0, 0]\n",
    "    r = np.random.randint(0,len(x))\n",
    "    #beta[0]的偏导\n",
    "    grad[0] = 2. * np.mean(beta[0] + beta[1] * x[r] - y[r])\n",
    "    #beta[1]的偏导\n",
    "    grad[1] = 2. * np.mean(x[r] * (beta[0] + beta[1] * x[r] - y[r]))\n",
    "    return np.array(grad)\n",
    "\n",
    "'''\n",
    "更新参数\n",
    "'''\n",
    "def update_beta(beta, alpha, grad):\n",
    "    new_beta = np.array(beta) - alpha * grad\n",
    "    return new_beta\n",
    "\n",
    "'''\n",
    "定义RMSE函数\n",
    "'''\n",
    "def rmse(beta,x,y):\n",
    "    squared_err = (beta[0] + beta[1]*x - y) ** 2\n",
    "    res = np.sqrt(np.mean(squared_err))\n",
    "    return res\n",
    "\n",
    "'''\n",
    "进行第一次计算\n",
    "第一次的时候先计算梯度 然后更新参数beta\n",
    "'''\n",
    "np.random.seed(10)\n",
    "grad = compute_grad_SGD(beta,x,y)\n",
    "loss = rmse(beta,x,y)\n",
    "beta = update_beta(beta,alpha,grad)\n",
    "loss_next = rmse(beta,x,y)\n",
    "\n",
    "#开始迭代\n",
    "i = 1 \n",
    "while np.abs(loss_next - loss) > tol_L:\n",
    "    '''\n",
    "    这个地方的顺序不能改变 先更新beta 然后计算梯度 尤其是loss和loss_next 不能调换顺序\n",
    "    '''\n",
    "    beta = update_beta(beta,alpha,grad)\n",
    "    grad = compute_grad_SGD(beta,x,y)\n",
    "    if i % 100 == 0:\n",
    "        loss = loss_next\n",
    "        loss_next = rmse(beta,x,y)\n",
    "        print('Round %s Diff RMSE %s'%(i, abs(loss_next - loss)))\n",
    "    i += 1\n",
    "#得到的Coef（即beta[1]）其实是真实的系数乘以max_x。\n",
    "print('Coef: %s \\nIntercept %s'%(beta[1], beta[0]))\n",
    "#可以还原Coef\n",
    "print('our Coef: %s \\nIntercept %s'%(beta[1]/max_x, beta[0]))\n",
    "res = rmse(beta, x, y)\n",
    "print('Our RMSE: %s'%res)"
   ]
  },
  {
   "cell_type": "code",
   "execution_count": 1,
   "metadata": {
    "collapsed": true
   },
   "outputs": [
    {
     "name": "stdout",
     "output_type": "stream",
     "text": [
      "Round 100 Diff RMSE 1441.03092609\n"
     ]
    },
    {
     "name": "stdout",
     "output_type": "stream",
     "text": [
      "Round 200 Diff RMSE 6.73060008207\n"
     ]
    },
    {
     "name": "stdout",
     "output_type": "stream",
     "text": [
      "Round 300 Diff RMSE 0.919979446475\n"
     ]
    },
    {
     "name": "stdout",
     "output_type": "stream",
     "text": [
      "Round 400 Diff RMSE 19.5313659659\n"
     ]
    },
    {
     "name": "stdout",
     "output_type": "stream",
     "text": [
      "Round 500 Diff RMSE 18.9636102461\n"
     ]
    },
    {
     "name": "stdout",
     "output_type": "stream",
     "text": [
      "Round 600 Diff RMSE 0.933603570601\n"
     ]
    },
    {
     "name": "stdout",
     "output_type": "stream",
     "text": [
      "Round 700 Diff RMSE 8.49136156611\n"
     ]
    },
    {
     "name": "stdout",
     "output_type": "stream",
     "text": [
      "Round 800 Diff RMSE 8.21160921893\n"
     ]
    },
    {
     "name": "stdout",
     "output_type": "stream",
     "text": [
      "Round 900 Diff RMSE 9.04736400148\n"
     ]
    },
    {
     "name": "stdout",
     "output_type": "stream",
     "text": [
      "Round 1000 Diff RMSE 10.3950512348\n"
     ]
    },
    {
     "name": "stdout",
     "output_type": "stream",
     "text": [
      "Round 1100 Diff RMSE 0.322445751216\n"
     ]
    },
    {
     "name": "stdout",
     "output_type": "stream",
     "text": [
      "Round 1200 Diff RMSE 2.16481781674\n"
     ]
    },
    {
     "name": "stdout",
     "output_type": "stream",
     "text": [
      "Round 1300 Diff RMSE 4.2126364426\n"
     ]
    },
    {
     "name": "stdout",
     "output_type": "stream",
     "text": [
      "Round 1400 Diff RMSE 6.2258279803\n"
     ]
    },
    {
     "name": "stdout",
     "output_type": "stream",
     "text": [
      "Round 1500 Diff RMSE 3.1067436907\n"
     ]
    },
    {
     "name": "stdout",
     "output_type": "stream",
     "text": [
      "Round 1600 Diff RMSE 1.51902225429\n"
     ]
    },
    {
     "name": "stdout",
     "output_type": "stream",
     "text": [
      "Round 1700 Diff RMSE 4.36440711395\n"
     ]
    },
    {
     "name": "stdout",
     "output_type": "stream",
     "text": [
      "Round 1800 Diff RMSE 4.83760425337\n"
     ]
    },
    {
     "name": "stdout",
     "output_type": "stream",
     "text": [
      "Round 1900 Diff RMSE 5.9385407108\n"
     ]
    },
    {
     "name": "stdout",
     "output_type": "stream",
     "text": [
      "Round 2000 Diff RMSE 0.881303245089\n"
     ]
    },
    {
     "name": "stdout",
     "output_type": "stream",
     "text": [
      "Round 2100 Diff RMSE 1.51583666053\n"
     ]
    },
    {
     "name": "stdout",
     "output_type": "stream",
     "text": [
      "Round 2200 Diff RMSE 2.56161815605\n"
     ]
    },
    {
     "name": "stdout",
     "output_type": "stream",
     "text": [
      "Round 2300 Diff RMSE 5.23418528222\n"
     ]
    },
    {
     "name": "stdout",
     "output_type": "stream",
     "text": [
      "Round 2400 Diff RMSE 18.6961604833\n"
     ]
    },
    {
     "name": "stdout",
     "output_type": "stream",
     "text": [
      "Round 2500 Diff RMSE 10.659002387\n"
     ]
    },
    {
     "name": "stdout",
     "output_type": "stream",
     "text": [
      "Round 2600 Diff RMSE 0.21549484119\n"
     ]
    },
    {
     "name": "stdout",
     "output_type": "stream",
     "text": [
      "Round 2700 Diff RMSE 7.7825026099\n"
     ]
    },
    {
     "name": "stdout",
     "output_type": "stream",
     "text": [
      "Round 2800 Diff RMSE 44.6532128581\n"
     ]
    },
    {
     "name": "stdout",
     "output_type": "stream",
     "text": [
      "Round 2900 Diff RMSE 42.9902854441\n"
     ]
    },
    {
     "name": "stdout",
     "output_type": "stream",
     "text": [
      "Round 3000 Diff RMSE 27.4869318923\n"
     ]
    },
    {
     "name": "stdout",
     "output_type": "stream",
     "text": [
      "Round 3100 Diff RMSE 29.2913544178\n"
     ]
    },
    {
     "name": "stdout",
     "output_type": "stream",
     "text": [
      "Round 3200 Diff RMSE 4.69872725871\n"
     ]
    },
    {
     "name": "stdout",
     "output_type": "stream",
     "text": [
      "Round 3300 Diff RMSE 1.66354780662\n"
     ]
    },
    {
     "name": "stdout",
     "output_type": "stream",
     "text": [
      "Round 3400 Diff RMSE 0.713422333324\n"
     ]
    },
    {
     "name": "stdout",
     "output_type": "stream",
     "text": [
      "Round 3500 Diff RMSE 18.6580353381\n"
     ]
    },
    {
     "name": "stdout",
     "output_type": "stream",
     "text": [
      "Round 3600 Diff RMSE 8.26299317564\n"
     ]
    },
    {
     "name": "stdout",
     "output_type": "stream",
     "text": [
      "Round 3700 Diff RMSE 13.9178164795\n"
     ]
    },
    {
     "name": "stdout",
     "output_type": "stream",
     "text": [
      "Round 3800 Diff RMSE 10.2937261354\n"
     ]
    },
    {
     "name": "stdout",
     "output_type": "stream",
     "text": [
      "Round 3900 Diff RMSE 1.72613234384\n"
     ]
    },
    {
     "name": "stdout",
     "output_type": "stream",
     "text": [
      "Round 4000 Diff RMSE 12.2329159056\n"
     ]
    },
    {
     "name": "stdout",
     "output_type": "stream",
     "text": [
      "Round 4100 Diff RMSE 0.34479013181\n"
     ]
    },
    {
     "name": "stdout",
     "output_type": "stream",
     "text": [
      "Round 4200 Diff RMSE 0.0376189922782\nCoef: 4960.29891935 \nIntercept 923.011781435\nour Coef: 2.20164177512 \nIntercept 923.011781435\nOur RMSE: 531.887039197\n"
     ]
    }
   ],
   "source": [
    "'''\n",
    "小批量梯度下降\n",
    "'''\n",
    "import pandas as pd\n",
    "import numpy as np\n",
    "'''\n",
    "导入数据 这里的特征\n",
    "'''\n",
    "train = pd.read_csv('./data/QA/train.csv')\n",
    "test = pd.read_csv('./data/QA/test.csv')\n",
    "submit = pd.read_csv('./data/QA/sample_submit.csv')\n",
    "'''\n",
    "线性回归模型 y = beta[0] + beta[1]*x\n",
    "beta 模型参数\n",
    "alpha 学习率\n",
    "tol_L 迭代终止误差\n",
    "'''\n",
    "beta = [1, 1]\n",
    "alpha = 0.2\n",
    "tol_L = 0.1\n",
    "batch_size = 16\n",
    "\n",
    "'''\n",
    "对特征变量进行归一化\n",
    "'''\n",
    "max_x = np.max(train['id'])\n",
    "min_x = np.min(train['id'])\n",
    "#x = (train['id'] - min_x) / (max_x - min_x)\n",
    "x = train['id'] / max_x\n",
    "y = train['questions']\n",
    "\n",
    "'''\n",
    "计算梯度\n",
    "'''\n",
    "def compute_grad_batch(beta,batch_size, x, y):\n",
    "    grad = [0, 0]\n",
    "    r = np.random.choice(range(len(x)),batch_size,replace=False)\n",
    "    #beta[0]的偏导\n",
    "    grad[0] = 2. * np.mean(beta[0] + beta[1] * x[r] - y[r])\n",
    "    #beta[1]的偏导\n",
    "    grad[1] = 2. * np.mean(x[r] * (beta[0] + beta[1] * x[r] - y[r]))\n",
    "    return np.array(grad)\n",
    "\n",
    "'''\n",
    "更新参数\n",
    "'''\n",
    "def update_beta(beta, alpha, grad):\n",
    "    new_beta = np.array(beta) - alpha * grad\n",
    "    return new_beta\n",
    "\n",
    "'''\n",
    "定义RMSE函数\n",
    "'''\n",
    "def rmse(beta,x,y):\n",
    "    squared_err = (beta[0] + beta[1]*x - y) ** 2\n",
    "    res = np.sqrt(np.mean(squared_err))\n",
    "    return res\n",
    "\n",
    "'''\n",
    "进行第一次计算\n",
    "第一次的时候先计算梯度 然后更新参数beta\n",
    "'''\n",
    "np.random.seed(10)\n",
    "grad = compute_grad_batch(beta,batch_size,x,y)\n",
    "loss = rmse(beta,x,y)\n",
    "beta = update_beta(beta,alpha,grad)\n",
    "loss_next = rmse(beta,x,y)\n",
    "\n",
    "#开始迭代\n",
    "i = 1 \n",
    "while np.abs(loss_next - loss) > tol_L:\n",
    "    '''\n",
    "    这个地方的顺序不能改变 先更新beta 然后计算梯度 尤其是loss和loss_next 不能调换顺序\n",
    "    '''\n",
    "    beta = update_beta(beta,alpha,grad)\n",
    "    grad = compute_grad_batch(beta,batch_size,x,y)\n",
    "    if i % 100 == 0:\n",
    "        loss = loss_next\n",
    "        loss_next = rmse(beta,x,y)\n",
    "        print('Round %s Diff RMSE %s'%(i, abs(loss_next - loss)))\n",
    "    i += 1\n",
    "#得到的Coef（即beta[1]）其实是真实的系数乘以max_x。\n",
    "print('Coef: %s \\nIntercept %s'%(beta[1], beta[0]))\n",
    "#可以还原Coef\n",
    "print('our Coef: %s \\nIntercept %s'%(beta[1]/max_x, beta[0]))\n",
    "res = rmse(beta, x, y)\n",
    "print('Our RMSE: %s'%res)"
   ]
  },
  {
   "cell_type": "code",
   "execution_count": 5,
   "metadata": {},
   "outputs": [],
   "source": [
    "submit = pd.read_csv('./data/QA/sample_submit.csv')\n",
    "submit['questions'] = submit['id'] * 2.20164177512 + 923.011781435\n",
    "submit['answers'] = submit['id'] * 4.180122 + 2027.140454\n",
    "submit.to_csv('./data/QA/my_sgd_prediction.csv', index=False)"
   ]
  },
  {
   "cell_type": "code",
   "execution_count": 1,
   "metadata": {
    "collapsed": true
   },
   "outputs": [
    {
     "name": "stdout",
     "output_type": "stream",
     "text": [
      "4 3 1\n"
     ]
    }
   ],
   "source": [
    ""
   ]
  },
  {
   "cell_type": "code",
   "execution_count": 2,
   "metadata": {
    "collapsed": true
   },
   "outputs": [
    {
     "name": "stdout",
     "output_type": "stream",
     "text": [
      "[0, 7, 6, 5]\n[1, 6, 1]\n[1, 6, 1, 8]\n[2, 7, 2, 0]\n"
     ]
    }
   ],
   "source": [
    ""
   ]
  },
  {
   "cell_type": "code",
   "execution_count": null,
   "metadata": {},
   "outputs": [],
   "source": [
    ""
   ]
  }
 ],
 "metadata": {
  "kernelspec": {
   "display_name": "Python 2",
   "language": "python",
   "name": "python2"
  },
  "language_info": {
   "codemirror_mode": {
    "name": "ipython",
    "version": 2.0
   },
   "file_extension": ".py",
   "mimetype": "text/x-python",
   "name": "python",
   "nbconvert_exporter": "python",
   "pygments_lexer": "ipython2",
   "version": "2.7.6"
  }
 },
 "nbformat": 4,
 "nbformat_minor": 0
}