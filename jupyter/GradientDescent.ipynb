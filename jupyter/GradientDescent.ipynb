{
 "cells": [
  {
   "cell_type": "code",
   "execution_count": 11,
   "metadata": {
    "collapsed": true
   },
   "outputs": [],
   "source": [
    "import pandas as pd\n",
    "train = pd.read_csv('./data/QA/train.csv')\n",
    "test = pd.read_csv('./data/QA/test.csv')\n",
    "submit = pd.read_csv('./data/QA/sample_submit.csv')\n",
    "'''\n",
    "线性回归模型 y = beta[0] + beta[1]*x\n",
    "beta 模型参数\n",
    "alpha 学习率\n",
    "tol_L 迭代终止误差\n",
    "'''\n",
    "beta = [1, 1]\n",
    "alpha = 0.2\n",
    "tol_L = 0.1\n",
    "\n",
    "import numpy as np\n",
    "\n",
    "'''\n",
    "计算梯度\n",
    "'''\n",
    "def compute_grad(beta, x, y):\n",
    "    grad = [0, 0]\n",
    "    #beta[0]的偏导\n",
    "    grad[0] = 2. * np.mean(beta[0] + beta[1] * x - y)\n",
    "    #beta[1]的偏导\n",
    "    grad[1] = 2. * np.mean(x * (beta[0] + beta[1] * x - y))\n",
    "    return np.array(grad)\n",
    "\n",
    "'''\n",
    "更新参数\n",
    "'''\n",
    "def update_beta(beta, alpha, grad):\n",
    "    new_beta = np.array(beta) - alpha * grad\n",
    "    return new_beta"
   ]
  },
  {
   "cell_type": "code",
   "execution_count": 14,
   "metadata": {},
   "outputs": [
    {
     "data": {
      "text/plain": [
       "3.1622776601683795"
      ]
     },
     "execution_count": 14,
     "metadata": {},
     "output_type": "execute_result"
    }
   ],
   "source": [
    "import numpy as np\n",
    "np.sqrt(np.mean(10))"
   ]
  },
  {
   "cell_type": "code",
   "execution_count": null,
   "metadata": {},
   "outputs": [],
   "source": [
    ""
   ]
  }
 ],
 "metadata": {
  "kernelspec": {
   "display_name": "Python 2",
   "language": "python",
   "name": "python2"
  },
  "language_info": {
   "codemirror_mode": {
    "name": "ipython",
    "version": 2.0
   },
   "file_extension": ".py",
   "mimetype": "text/x-python",
   "name": "python",
   "nbconvert_exporter": "python",
   "pygments_lexer": "ipython2",
   "version": "2.7.6"
  }
 },
 "nbformat": 4,
 "nbformat_minor": 0
}