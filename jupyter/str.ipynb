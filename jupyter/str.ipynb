{
 "cells": [
  {
   "cell_type": "code",
   "execution_count": 1,
   "metadata": {
    "collapsed": true
   },
   "outputs": [
    {
     "name": "stdout",
     "output_type": "stream",
     "text": [
      "Hello S\nofaSofa!\nfaSofa!\nHello So\nel o\n!afoSafoS olleH\n!fSfSolH\n"
     ]
    }
   ],
   "source": [
    "my_str = 'Hello SofaSofa!'\n",
    "# 从左向右输出前7个字符\n",
    "print my_str[:7]\n",
    "# 从第7个字符开始截取到最后\n",
    "print my_str[7:]\n",
    "# 从右向左输出前7个字符\n",
    "print my_str[-7:]\n",
    "# 从倒数第7个字符开始 截取到开头\n",
    "print my_str[:-7]\n",
    "\n",
    "# 输出第2，4，6，8个字符\n",
    "print my_str[1:8:2]\n",
    "# 逆序输出\n",
    "print my_str[::-1]\n",
    "# 逆序 每隔1个输出\n",
    "print my_str[::-2]"
   ]
  },
  {
   "cell_type": "code",
   "execution_count": 4,
   "metadata": {},
   "outputs": [
    {
     "name": "stdout",
     "output_type": "stream",
     "text": [
      " ab c \nabc\n"
     ]
    }
   ],
   "source": [
    "s = \" ab c \"\n",
    "print s\n",
    "print s.strip().replace(\" \",\"\")"
   ]
  },
  {
   "cell_type": "code",
   "execution_count": 14,
   "metadata": {},
   "outputs": [
    {
     "name": "stdout",
     "output_type": "stream",
     "text": [
      "abc\n"
     ]
    }
   ],
   "source": [
    "import re\n",
    "s = \" ab c \"\n",
    "b = re.sub(' ','', s)\n",
    "print b"
   ]
  },
  {
   "cell_type": "code",
   "execution_count": null,
   "metadata": {},
   "outputs": [],
   "source": [
    ""
   ]
  }
 ],
 "metadata": {
  "kernelspec": {
   "display_name": "Python 2",
   "language": "python",
   "name": "python2"
  },
  "language_info": {
   "codemirror_mode": {
    "name": "ipython",
    "version": 2.0
   },
   "file_extension": ".py",
   "mimetype": "text/x-python",
   "name": "python",
   "nbconvert_exporter": "python",
   "pygments_lexer": "ipython2",
   "version": "2.7.6"
  }
 },
 "nbformat": 4,
 "nbformat_minor": 0
}