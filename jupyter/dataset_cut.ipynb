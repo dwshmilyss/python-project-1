{
 "cells": [
  {
   "cell_type": "code",
   "execution_count": 17,
   "metadata": {
    "collapsed": false
   },
   "outputs": [
    {
     "name": "stdout",
     "output_type": "stream",
     "text": [
      "2\nKFold(n_splits=2, random_state=None, shuffle=False)\ntrain index:[3 4 5],test index:[0 1 2]\ntrain index:[0 1 2],test index:[3 4 5]\n"
     ]
    }
   ],
   "source": [
    "'''\n",
    "K-fold 交叉验证切分\n",
    "'''\n",
    "import numpy as np\n",
    "from sklearn.model_selection import KFold\n",
    "X = np.array([[1,2],[3,4],[5,6],[7,8],[9,10],[11,12]])\n",
    "y = np.array([1,2,3,4,5,6])\n",
    "kf = KFold(n_splits=2)\n",
    "print kf.get_n_splits(X)\n",
    "print kf\n",
    "for train_index,test_index in kf.split(X):\n",
    "    print (\"train index:{train_idx},test index:{test_idx}\".format(train_idx=train_index,test_idx=test_index))\n",
    "    X_train,X_test = X[train_index],X[test_index]\n",
    "    y_train,y_test = y[train_index],y[test_index]"
   ]
  },
  {
   "cell_type": "code",
   "execution_count": 1,
   "metadata": {},
   "outputs": [
    {
     "name": "stdout",
     "output_type": "stream",
     "text": [
      "2\nGroupKFold(n_splits=2)\ntrain index:[0 2 4],test index:[1 3 5]\ntrain index:[1 3 5],test index:[0 2 4]\n"
     ]
    }
   ],
   "source": [
    "'''\n",
    "K-fold 分组（不会出现重复的数据切分）\n",
    "'''\n",
    "import numpy as np\n",
    "from sklearn.model_selection import GroupKFold\n",
    "X = np.array([[1,2],[3,4],[5,6],[7,8],[9,10],[11,12]])\n",
    "y = np.array([1,2,3,4,5,6])\n",
    "groups = np.array([1,2,3,4,5,6])\n",
    "groups_kf = GroupKFold(n_splits=2)\n",
    "print groups_kf.get_n_splits(X,y,groups)\n",
    "print groups_kf\n",
    "for train_index,test_index in groups_kf.split(X,y,groups):\n",
    "    print (\"train index:{train_idx},test index:{test_idx}\".format(train_idx=train_index,test_idx=test_index))\n",
    "    X_train,X_test = X[train_index],X[test_index]\n",
    "    y_train,y_test = y[train_index],y[test_index]"
   ]
  },
  {
   "cell_type": "code",
   "execution_count": 2,
   "metadata": {
    "collapsed": true
   },
   "outputs": [
    {
     "name": "stdout",
     "output_type": "stream",
     "text": [
      "3\nStratifiedKFold(n_splits=3, random_state=None, shuffle=False)\ntrain index:[1 2 4 5],test index:[0 3]\ntrain index:[0 2 3 5],test index:[1 4]\ntrain index:[0 1 3 4],test index:[2 5]\n"
     ]
    }
   ],
   "source": [
    "'''\n",
    "分层K折交叉验证（可以保证切分后的训练数据集中的数据分布和原来的一致，即样本比例的均匀性）\n",
    "比如此例子中：1类数据有3个  2类数据有3个  比例为1:1\n",
    "则切分后的训练数据集中1类和2类的数据也是1:1的\n",
    "'''\n",
    "'''\n",
    "K-fold 交叉验证切分\n",
    "'''\n",
    "import numpy as np\n",
    "from sklearn.model_selection import StratifiedKFold\n",
    "X = np.array([[1,2],[3,4],[5,6],[7,8],[9,10],[11,12]])\n",
    "#这里类别种类的数目必须小于等于n_splits ，而且每个种类的数据数目不能小于n_splits\n",
    "y = np.array([1,1,1,2,2,2])\n",
    "skf = StratifiedKFold(n_splits=3)\n",
    "print skf.get_n_splits(X,y)\n",
    "print skf\n",
    "for train_index,test_index in skf.split(X,y):\n",
    "    print (\"train index:{train_idx},test index:{test_idx}\".format(train_idx=train_index,test_idx=test_index))\n",
    "    X_train,X_test = X[train_index],X[test_index]\n",
    "    y_train,y_test = y[train_index],y[test_index]"
   ]
  },
  {
   "cell_type": "code",
   "execution_count": 30,
   "metadata": {},
   "outputs": [
    {
     "name": "stdout",
     "output_type": "stream",
     "text": [
      "LeaveOneOut()\n6\ntrain index:[1 2 3 4 5],test index:[0]\ntrain index:[0 2 3 4 5],test index:[1]\ntrain index:[0 1 3 4 5],test index:[2]\ntrain index:[0 1 2 4 5],test index:[3]\ntrain index:[0 1 2 3 5],test index:[4]\ntrain index:[0 1 2 3 4],test index:[5]\n"
     ]
    }
   ],
   "source": [
    "'''\n",
    "留一法\n",
    "'''\n",
    "import numpy as np\n",
    "from sklearn.model_selection import LeaveOneOut\n",
    "X = np.array([[1,2],[3,4],[5,6],[7,8],[9,10],[11,12]])\n",
    "y = np.array([1,2,3,4,5,6])\n",
    "loo = LeaveOneOut()\n",
    "print loo\n",
    "print loo.get_n_splits(X)\n",
    "for train_index,test_index in loo.split(X):\n",
    "    print (\"train index:{train_idx},test index:{test_idx}\".format(train_idx=train_index,test_idx=test_index))\n",
    "    X_train,X_test = X[train_index],X[test_index]\n",
    "    y_train,y_test = y[train_index],y[test_index]"
   ]
  },
  {
   "cell_type": "code",
   "execution_count": 31,
   "metadata": {},
   "outputs": [
    {
     "name": "stdout",
     "output_type": "stream",
     "text": [
      "LeavePOut(p=2)\n15\ntrain index:[2 3 4 5],test index:[0 1]\ntrain index:[1 3 4 5],test index:[0 2]\ntrain index:[1 2 4 5],test index:[0 3]\ntrain index:[1 2 3 5],test index:[0 4]\ntrain index:[1 2 3 4],test index:[0 5]\ntrain index:[0 3 4 5],test index:[1 2]\ntrain index:[0 2 4 5],test index:[1 3]\ntrain index:[0 2 3 5],test index:[1 4]\ntrain index:[0 2 3 4],test index:[1 5]\ntrain index:[0 1 4 5],test index:[2 3]\ntrain index:[0 1 3 5],test index:[2 4]\ntrain index:[0 1 3 4],test index:[2 5]\ntrain index:[0 1 2 5],test index:[3 4]\ntrain index:[0 1 2 4],test index:[3 5]\ntrain index:[0 1 2 3],test index:[4 5]\n"
     ]
    }
   ],
   "source": [
    "'''\n",
    "留P法\n",
    "'''\n",
    "import numpy as np\n",
    "from sklearn.model_selection import LeavePOut\n",
    "X = np.array([[1,2],[3,4],[5,6],[7,8],[9,10],[11,12]])\n",
    "y = np.array([1,2,3,4,5,6])\n",
    "loo = LeavePOut(2)\n",
    "print loo\n",
    "print loo.get_n_splits(X)\n",
    "for train_index,test_index in loo.split(X):\n",
    "    print (\"train index:{train_idx},test index:{test_idx}\".format(train_idx=train_index,test_idx=test_index))\n",
    "    X_train,X_test = X[train_index],X[test_index]\n",
    "    y_train,y_test = y[train_index],y[test_index]"
   ]
  },
  {
   "cell_type": "code",
   "execution_count": 33,
   "metadata": {},
   "outputs": [
    {
     "name": "stdout",
     "output_type": "stream",
     "text": [
      "ShuffleSplit(n_splits=3, random_state=0, test_size=0.25, train_size=None)\n3\ntrain index:[1 3 0 4],test index:[5 2]\ntrain index:[4 0 2 5],test index:[1 3]\ntrain index:[1 2 4 0],test index:[3 5]\nShuffleSplit(n_splits=3, random_state=0, test_size=0.25, train_size=0.5)\n3\ntrain index:[1 3 0],test index:[5 2]\ntrain index:[4 0 2],test index:[1 3]\ntrain index:[1 2 4],test index:[3 5]\n"
     ]
    }
   ],
   "source": [
    "'''\n",
    "随机划分\n",
    "'''\n",
    "import numpy as np\n",
    "from sklearn.model_selection import ShuffleSplit\n",
    "X = np.array([[1,2],[3,4],[5,6],[7,8],[9,10],[11,12]])\n",
    "y = np.array([1,2,1,2,1,2])\n",
    "rs = ShuffleSplit(n_splits=3,test_size=.25,random_state=0)\n",
    "print rs\n",
    "print rs.get_n_splits(X)\n",
    "for train_index,test_index in rs.split(X):\n",
    "    print (\"train index:{train_idx},test index:{test_idx}\".format(train_idx=train_index,test_idx=test_index))\n",
    "    X_train,X_test = X[train_index],X[test_index]\n",
    "    y_train,y_test = y[train_index],y[test_index]\n",
    "rs = ShuffleSplit(n_splits=3,train_size=0.5,test_size=.25,random_state=0)\n",
    "print rs\n",
    "print rs.get_n_splits(X)\n",
    "for train_index,test_index in rs.split(X):\n",
    "    print (\"train index:{train_idx},test index:{test_idx}\".format(train_idx=train_index,test_idx=test_index))\n",
    "    X_train,X_test = X[train_index],X[test_index]\n",
    "    y_train,y_test = y[train_index],y[test_index]"
   ]
  },
  {
   "cell_type": "code",
   "execution_count": 41,
   "metadata": {},
   "outputs": [
    {
     "name": "stdout",
     "output_type": "stream",
     "text": [
      "StratifiedShuffleSplit(n_splits=3, random_state=0, test_size=0.25,\n            train_size=None)\n3\ntrain index:[4 5 2 1],test index:[0 3]\ntrain index:[0 3 1 2],test index:[4 5]\ntrain index:[0 3 1 2],test index:[4 5]\n"
     ]
    }
   ],
   "source": [
    "'''\n",
    "随机分层划分（保证数据分布一致性）\n",
    "'''\n",
    "import numpy as np\n",
    "from sklearn.model_selection import StratifiedShuffleSplit\n",
    "X = np.array([[1,2],[3,4],[5,6],[7,8],[9,10],[11,12]])\n",
    "y = np.array([1,2,1,2,1,2])\n",
    "sss = StratifiedShuffleSplit(n_splits=3,test_size=.25,random_state=0)\n",
    "print sss\n",
    "print sss.get_n_splits(X,y)\n",
    "for train_index,test_index in sss.split(X,y):\n",
    "    print (\"train index:{train_idx},test index:{test_idx}\".format(train_idx=train_index,test_idx=test_index))\n",
    "    X_train,X_test = X[train_index],X[test_index]\n",
    "    y_train,y_test = y[train_index],y[test_index]"
   ]
  },
  {
   "cell_type": "code",
   "execution_count": null,
   "metadata": {},
   "outputs": [],
   "source": [
    ""
   ]
  }
 ],
 "metadata": {
  "kernelspec": {
   "display_name": "Python 2",
   "language": "python",
   "name": "python2"
  },
  "language_info": {
   "codemirror_mode": {
    "name": "ipython",
    "version": 2.0
   },
   "file_extension": ".py",
   "mimetype": "text/x-python",
   "name": "python",
   "nbconvert_exporter": "python",
   "pygments_lexer": "ipython2",
   "version": "2.7.6"
  }
 },
 "nbformat": 4,
 "nbformat_minor": 0
}