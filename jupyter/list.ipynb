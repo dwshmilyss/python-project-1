{
 "cells": [
  {
   "cell_type": "code",
   "execution_count": 1,
   "metadata": {
    "collapsed": true
   },
   "outputs": [
    {
     "name": "stdout",
     "output_type": "stream",
     "text": [
      "4 3 1\n"
     ]
    }
   ],
   "source": [
    "list_1 = [1, 2, [2, 3], [3, 4, 5]]\n",
    "list_2 = [2, 3, list_1]\n",
    "list_3 = [list_2]\n",
    "\n",
    "# 想一想list_1, list_2和list_3的长度分别是多少？\n",
    "print len(list_1), len(list_2), len(list_3)"
   ]
  },
  {
   "cell_type": "code",
   "execution_count": 2,
   "metadata": {},
   "outputs": [
    {
     "name": "stdout",
     "output_type": "stream",
     "text": [
      "[0, 7, 6, 5]\n[1, 6, 1]\n[1, 6, 1, 8]\n[2, 7, 2, 0]\n"
     ]
    }
   ],
   "source": [
    "my_list = [2, 0, 1, 7, 0, 6, 2, 5, 1, 0, 4, 8]\n",
    "# 输出第2，4，6，8个元素\n",
    "a = my_list[1:8:2]\n",
    "print a\n",
    "# 输出第3，6，9个元素\n",
    "a = my_list[2:9:3]\n",
    "print a\n",
    "# 从第3个元素开始，每3个元素读取一个元素\n",
    "# my_list[a:b:step] 从a到b 步长step\n",
    "a = my_list[2::3]\n",
    "print a\n",
    "# 每3个元素读取一个元素\n",
    "a = my_list[::3]\n",
    "print a"
   ]
  },
  {
   "cell_type": "code",
   "execution_count": 3,
   "metadata": {},
   "outputs": [
    {
     "name": "stdout",
     "output_type": "stream",
     "text": [
      "[8, 4, 0, 1, 5, 2, 6, 0, 7, 1, 0, 2]\n[8, 0, 5, 6, 7, 0]\n"
     ]
    }
   ],
   "source": [
    "my_list = [2, 0, 1, 7, 0, 6, 2, 5, 1, 0, 4, 8]\n",
    "a = my_list[::-1]\n",
    "print a\n",
    "#试试看下面返回什么呢？ 取逆后每2个元素输出一次\n",
    "a = my_list[::-2]\n",
    "print a"
   ]
  },
  {
   "cell_type": "code",
   "execution_count": 4,
   "metadata": {},
   "outputs": [
    {
     "name": "stdout",
     "output_type": "stream",
     "text": [
      "[0, 1, 2, 3, 4]\n[3, 4, 5, 6, 7, 8, 9]\n[2, 4, 6, 8]\n[10, 8, 6, 4, 2, 0, -2, -4, -6, -8]\n"
     ]
    }
   ],
   "source": [
    "'''\n",
    "range(n)返回一个0到n-1的list。\n",
    "range(m, n)返回一个m到n-1的list。\n",
    "range(m, n, s)返回一个m到n-1步长为s的list。\n",
    "'''\n",
    "a = range(5)\n",
    "print a\n",
    "b = range(3, 10)\n",
    "print b\n",
    "c = range(2, 10, 2)\n",
    "print c\n",
    "d = range(10, -10, -2)\n",
    "print d"
   ]
  },
  {
   "cell_type": "code",
   "execution_count": 1,
   "metadata": {},
   "outputs": [
    {
     "name": "stdout",
     "output_type": "stream",
     "text": [
      "[4, 16, 36, 64, 100]\n"
     ]
    }
   ],
   "source": [
    "'''\n",
    "获取List中的偶数并对每个元素取平方\n",
    "'''\n",
    "def squares_even(n):\n",
    "    #分别声明2个变量并赋值\n",
    "    result, even_num = [], range(2, n + 1, 2)\n",
    "    for i in even_num:\n",
    "        result.append(i ** 2)\n",
    "    return result\n",
    "\n",
    "print squares_even(10)"
   ]
  },
  {
   "cell_type": "code",
   "execution_count": 2,
   "metadata": {},
   "outputs": [
    {
     "data": {
      "text/plain": [
       "2"
      ]
     },
     "execution_count": 2,
     "metadata": {},
     "output_type": "execute_result"
    }
   ],
   "source": [
    "'''\n",
    "对于list dict中的元素是基本数据类型时  copy 和 deepcopy的效果一样 都是复制一份数据\n",
    "但是对于元素是引用类型时，copy是复制一份引用 而deepcopy是再复制一份数据\n",
    "'''"
   ]
  },
  {
   "cell_type": "code",
   "execution_count": 46,
   "metadata": {},
   "outputs": [
    {
     "name": "stdout",
     "output_type": "stream",
     "text": [
      "matchObj.group() :  Cats are smarterthan dogs\nmatchObj.group(1) :  Cats\nmatchObj.group(2) :  smarterthan\n"
     ]
    }
   ],
   "source": [
    "import re\n",
    "re.split(\"\\W+\",\"word,word,word,1\")\n",
    "line = \"Cats are smarter than dogs\"\n",
    " \n",
    "matchObj = re.match( r'(.*) are (.*?) .*', line, re.M|re.I)\n",
    " \n",
    "if matchObj:\n",
    "   print \"matchObj.group() : \", matchObj.group()\n",
    "   print \"matchObj.group(1) : \", matchObj.group(1)\n",
    "   print \"matchObj.group(2) : \", matchObj.group(2)\n",
    "else:\n",
    "   print \"No match!!\""
   ]
  },
  {
   "cell_type": "code",
   "execution_count": null,
   "metadata": {},
   "outputs": [],
   "source": [
    ""
   ]
  }
 ],
 "metadata": {
  "kernelspec": {
   "display_name": "Python 2",
   "language": "python",
   "name": "python2"
  },
  "language_info": {
   "codemirror_mode": {
    "name": "ipython",
    "version": 2.0
   },
   "file_extension": ".py",
   "mimetype": "text/x-python",
   "name": "python",
   "nbconvert_exporter": "python",
   "pygments_lexer": "ipython2",
   "version": "2.7.6"
  }
 },
 "nbformat": 4,
 "nbformat_minor": 0
}