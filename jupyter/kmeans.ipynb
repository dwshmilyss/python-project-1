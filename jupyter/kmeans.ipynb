{
 "cells": [
  {
   "cell_type": "code",
   "execution_count": 19,
   "metadata": {},
   "outputs": [
    {
     "ename": "SyntaxError",
     "evalue": "invalid syntax (<ipython-input-19-51d5928a7f94>, line 6)",
     "output_type": "error",
     "traceback": [
      "\u001b[0;36m  File \u001b[0;32m\"<ipython-input-19-51d5928a7f94>\"\u001b[0;36m, line \u001b[0;32m6\u001b[0m\n\u001b[0;31m    d = [a;b+c]\u001b[0m\n\u001b[0m          ^\u001b[0m\n\u001b[0;31mSyntaxError\u001b[0m\u001b[0;31m:\u001b[0m invalid syntax\n"
     ]
    }
   ],
   "source": [
    "#x=[randn(3,2)*.4;randn(4,2)*.5+ones(4,1)*[4 4]]\n",
    "import numpy as np\n",
    "a = np.random.randn(3,2)*.4\n",
    "b = np.random.randn(4,2)*.5\n",
    "c = np.ones((4,1))*[4,4]\n",
    "d = [a,b+c]\n",
    "d"
   ]
  },
  {
   "cell_type": "code",
   "execution_count": 45,
   "metadata": {},
   "outputs": [
    {
     "name": "stdout",
     "output_type": "stream",
     "text": [
      "<type 'numpy.ndarray'>\n",
      "[[ 1  2  3  4]\n",
      " [ 2  4  6  8]\n",
      " [ 3  6  9 12]\n",
      " [ 4  8 12 16]]\n",
      "8.0\n",
      "<class 'numpy.matrixlib.defmatrix.matrix'>\n",
      "<type 'numpy.ndarray'>\n"
     ]
    }
   ],
   "source": [
    "import numpy as np\n",
    "a = np.array([1,2,3,4])\n",
    "b = np.array([5,6,7,8])\n",
    "print type(a)\n",
    "print a[:,np.newaxis].dot(a[np.newaxis,:])\n",
    "print np.sqrt(sum(np.power(b-a,2)))\n",
    "print type(np.mat(np.zeros((2, 2))))\n",
    "print type(np.zeros((2, 2)))"
   ]
  },
  {
   "cell_type": "code",
   "execution_count": 15,
   "metadata": {},
   "outputs": [
    {
     "name": "stdout",
     "output_type": "stream",
     "text": [
      "5.06057078862 5\n",
      "[1 2 3]\n"
     ]
    }
   ],
   "source": [
    "from numpy import * \n",
    "a = random.uniform(0,10)\n",
    "print a,int(a)\n",
    "data = array([[1,2,3],[4,5,6],[7,8,9]])\n",
    "print data[0,:]"
   ]
  },
  {
   "cell_type": "code",
   "execution_count": null,
   "metadata": {
    "collapsed": true
   },
   "outputs": [],
   "source": []
  }
 ],
 "metadata": {
  "kernelspec": {
   "display_name": "Python 2",
   "language": "python",
   "name": "python2"
  },
  "language_info": {
   "codemirror_mode": {
    "name": "ipython",
    "version": 2
   },
   "file_extension": ".py",
   "mimetype": "text/x-python",
   "name": "python",
   "nbconvert_exporter": "python",
   "pygments_lexer": "ipython2",
   "version": "2.7.11"
  }
 },
 "nbformat": 4,
 "nbformat_minor": 2
}
