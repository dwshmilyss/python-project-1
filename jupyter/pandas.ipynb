{
 "cells": [
  {
   "cell_type": "code",
   "execution_count": 1,
   "metadata": {
    "collapsed": false
   },
   "outputs": [
    {
     "name": "stdout",
     "output_type": "stream",
     "text": [
      "行数 21\n",
      "0    4488.9899\n",
      "1    5765.4470\n",
      "2    9416.3276\n",
      "dtype: float64\n",
      "0    4488.9899\n",
      "1    5765.4470\n",
      "2    9416.3276\n",
      "dtype: float64\n",
      "预览前5行数据\n",
      "          0         1         2\n",
      "0  235.8333  324.0343  478.3231\n",
      "1  236.2708  325.6379  515.4564\n",
      "2  238.0521  328.0897  517.0909\n",
      "3  235.9063       NaN  514.8900\n",
      "4  236.7604  268.8324       NaN\n",
      "输出数据基本统计量\n",
      "                0           1           2\n",
      "count   19.000000   16.000000   17.000000\n",
      "mean   236.262626  360.340438  553.901624\n",
      "std      1.225465   57.779182   67.707729\n",
      "min    234.468800  206.434900  435.350800\n",
      "25%    235.494800  327.476750  514.890000\n",
      "50%    235.906300  386.833100  538.347000\n",
      "75%    237.192750  400.464875  611.340800\n",
      "max    238.656300  411.206900  660.234700\n"
     ]
    }
   ],
   "source": [
    "import pandas as pd\n",
    "data = pd.read_excel(\"data1.xlsx\",header=None,skiprows=[0])\n",
    "#计算数据长度  \n",
    "print u'行数', len(data)  \n",
    "  \n",
    "#计算用户A\\B\\C用电总和  \n",
    "print data.sum()  \n",
    "  \n",
    "#计算用户A\\B\\C用点量算术平均数  \n",
    "mm = data.sum()  \n",
    "print mm  \n",
    "  \n",
    "#输出预览前5行数据  \n",
    "print u'预览前5行数据'  \n",
    "print data.head()  \n",
    "  \n",
    "#输出数据基本统计量  \n",
    "print u'输出数据基本统计量'  \n",
    "print data.describe()  "
   ]
  },
  {
   "cell_type": "code",
   "execution_count": 2,
   "metadata": {
    "collapsed": false
   },
   "outputs": [
    {
     "name": "stdout",
     "output_type": "stream",
     "text": [
      "创建Series:\n",
      "0    4\n",
      "1    7\n",
      "2   -5\n",
      "3    3\n",
      "dtype: int64\n",
      "创建带有索引的Series:\n",
      "d    4\n",
      "b    7\n",
      "a   -5\n",
      "c    3\n",
      "dtype: int64\n",
      "通过传递字典创建Series:\n",
      "Ohio      35000\n",
      "Oregon    16000\n",
      "Texas     71000\n",
      "Utah       5000\n",
      "dtype: int64\n",
      "California没有字典为空:\n",
      "California        NaN\n",
      "Ohio          35000.0\n",
      "Oregon        16000.0\n",
      "Texas         71000.0\n",
      "dtype: float64\n"
     ]
    }
   ],
   "source": [
    "from pandas import Series, DataFrame  \n",
    "  \n",
    "#通过传递一个list对象来创建Series，默认创建整型索引；  \n",
    "a = Series([4, 7, -5, 3])  \n",
    "print u'创建Series:'  \n",
    "print a  \n",
    "  \n",
    "#创建一个带有索引来确定每一个数据点的Series ;  \n",
    "b = Series([4, 7, -5, 3], index=['d', 'b', 'a', 'c'])  \n",
    "print u'创建带有索引的Series:'  \n",
    "print b  \n",
    "  \n",
    "#如果你有一些数据在一个Python字典中，你可以通过传递字典来创建一个Series；  \n",
    "sdata = {'Ohio': 35000, 'Texas': 71000, 'Oregon': 16000, 'Utah': 5000}  \n",
    "c = Series(sdata)  \n",
    "print u'通过传递字典创建Series:'  \n",
    "print c  \n",
    "states = ['California', 'Ohio', 'Oregon', 'Texas']  \n",
    "d = Series(sdata, index=states)  \n",
    "print u'California没有字典为空:'  \n",
    "print d  "
   ]
  },
  {
   "cell_type": "code",
   "execution_count": null,
   "metadata": {
    "collapsed": true
   },
   "outputs": [],
   "source": []
  }
 ],
 "metadata": {
  "kernelspec": {
   "display_name": "Python 2",
   "language": "python",
   "name": "python2"
  },
  "language_info": {
   "codemirror_mode": {
    "name": "ipython",
    "version": 2
   },
   "file_extension": ".py",
   "mimetype": "text/x-python",
   "name": "python",
   "nbconvert_exporter": "python",
   "pygments_lexer": "ipython2",
   "version": "2.7.13"
  }
 },
 "nbformat": 4,
 "nbformat_minor": 2
}
