{
 "cells": [
  {
   "cell_type": "code",
   "execution_count": 2,
   "metadata": {
    "collapsed": true
   },
   "outputs": [],
   "source": [
    "from sklearn.metrics import confusion_matrix\n",
    "y_true = [2,0,2,2,0,1]\n",
    "y_pred = [0,0,2,2,0,2]\n",
    "'''\n",
    "这个结果可以这样理解，因为一共有3类，所以矩阵就是3*3的\n",
    "按照分类标签的顺序，可以这样解读如下矩阵：\n",
    "array[0,0]：类标签为0 实际被预测为0的样本数\n",
    "array[0,1]：类标签为0 实际被预测为1的样本数\n",
    "array[0,2]：类标签为0 实际被预测为2的样本数\n",
    "矩阵的第二行同理：\n",
    "array[1,0]：类标签为1 实际被预测为0的样本数\n",
    "array[1,1]：类标签为1 实际被预测为1的样本数\n",
    "array[1,2]：类标签为1 实际被预测为2的样本数\n",
    "矩阵的第三行同理：\n",
    "array[2,0]：类标签为2 实际被预测为0的样本数\n",
    "array[2,1]：类标签为2 实际被预测为1的样本数\n",
    "array[2,2]：类标签为2 实际被预测为2的样本数\n",
    "'''\n",
    "confusion_matrix(y_true=y_true,y_pred=y_pred)\n",
    "\n",
    "y_true = ['cat','ant','cat','cat','ant','bird']\n",
    "y_pred = ['ant','ant','cat','cat','ant','cat']\n",
    "'''\n",
    "这里矩阵的排列按labels中元素的顺序来的，这样印证了上面的推断，如果调换bird和cat在labels中的位置，矩阵元素的位置也会改变\n",
    "'''\n",
    "confusion_matrix(y_true=y_true,y_pred=y_pred,labels=['ant','bird','cat'])"
   ]
  },
  {
   "cell_type": "code",
   "execution_count": null,
   "metadata": {},
   "outputs": [],
   "source": [
    ""
   ]
  }
 ],
 "metadata": {
  "kernelspec": {
   "display_name": "Python 2",
   "language": "python",
   "name": "python2"
  },
  "language_info": {
   "codemirror_mode": {
    "name": "ipython",
    "version": 2.0
   },
   "file_extension": ".py",
   "mimetype": "text/x-python",
   "name": "python",
   "nbconvert_exporter": "python",
   "pygments_lexer": "ipython2",
   "version": "2.7.6"
  }
 },
 "nbformat": 4,
 "nbformat_minor": 0
}