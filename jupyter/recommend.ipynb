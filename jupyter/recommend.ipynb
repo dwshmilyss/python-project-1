{
 "cells": [
  {
   "cell_type": "code",
   "execution_count": 1,
   "metadata": {
    "collapsed": true
   },
   "outputs": [
    {
     "name": "stdout",
     "output_type": "stream",
     "text": [
      "Duplicated rows: 155\nThat's weird - let's just drop them\n632677\n"
     ]
    }
   ],
   "source": [
    "%matplotlib inline\n",
    "import matplotlib.pyplot as plt\n",
    "import pandas as pd\n",
    "import numpy as np\n",
    "import scipy.sparse as sparse\n",
    "import pickle\n",
    "import csv\n",
    "import implicit\n",
    "import itertools\n",
    "import copy\n",
    "plt.style.use('ggplot')\n",
    "#read_csv()中的路径./指的是项目的根目录(即工作路径)\n",
    "df = pd.read_csv('./data/model_likes_anon.psv',\n",
    "                 sep='|', quoting=csv.QUOTE_MINIMAL,\n",
    "                 quotechar='\\\\')\n",
    "df.head()\n",
    "#获取表中重复记录的条数\n",
    "print('Duplicated rows: ' + str(df.duplicated().sum()))\n",
    "print('That\\'s weird - let\\'s just drop them')\n",
    "#删除重复的记录\n",
    "df.drop_duplicates(inplace=True)\n",
    "df = df[['uid', 'mid']]\n",
    "df.head()\n",
    "print df.shape[0]"
   ]
  },
  {
   "cell_type": "code",
   "execution_count": 2,
   "metadata": {
    "collapsed": false
   },
   "outputs": [
    {
     "name": "stdout",
     "output_type": "stream",
     "text": [
      "Starting likes info\nNumber of users: 62583\nNumber of models: 28806\nSparsity: 0.035%\n"
     ]
    },
    {
     "name": "stdout",
     "output_type": "stream",
     "text": [
      "Ending likes info\nNumber of users: 15274\nNumber of models: 25655\nSparsity: 0.140%\n"
     ]
    }
   ],
   "source": [
    "'''\n",
    "按条件过滤数据\n",
    "uid_min 过滤出用户查看次数 >=uid_min 的数据\n",
    "mid_min 过滤出物品被查看次数 >=mid_min 的数据\n",
    "'''\n",
    "def threshold_likes(df, uid_min, mid_min):\n",
    "    #获取有多少用户\n",
    "    n_users = df.uid.unique().shape[0]\n",
    "    #获取有多少item\n",
    "    n_items = df.mid.unique().shape[0]\n",
    "    #稀疏程度 值越小越稀疏\n",
    "    sparsity = float(df.shape[0]) / float(n_users*n_items) * 100\n",
    "    print('Starting likes info')\n",
    "    print('Number of users: {}'.format(n_users))\n",
    "    print('Number of models: {}'.format(n_items))\n",
    "    print('Sparsity: {:4.3f}%'.format(sparsity))\n",
    "    \n",
    "    done = False\n",
    "    while not done:\n",
    "        starting_shape = df.shape[0]\n",
    "        #按uid分组 得到的数据就是每个用户查看了多少次 其实按我的理解这里应该是uid_counts\n",
    "        uid_counts = df.groupby('uid').mid.count()\n",
    "        # 过滤掉用户查看次数小于mid_min的数据 ~：取非\n",
    "        df = df[~df.uid.isin(uid_counts[uid_counts < uid_min].index.tolist())]\n",
    "        #按mid分组 得到的数据就是每个item被查看了多少次 其实按我的理解这里应该是mid_counts\n",
    "        mid_counts = df.groupby('mid').uid.count()\n",
    "        # 过滤掉item被查看次数小于mid_min的数据\n",
    "        df = df[~df.mid.isin(mid_counts[mid_counts < mid_min].index.tolist())]\n",
    "        #循环直到再也不能过滤数据为止\n",
    "        ending_shape = df.shape[0]\n",
    "        if starting_shape == ending_shape:\n",
    "            done = True\n",
    "    #断言 所以这里的\n",
    "    assert(df.groupby('uid').mid.count().min() >= uid_min)\n",
    "    assert(df.groupby('mid').uid.count().min() >= mid_min)\n",
    "    \n",
    "    n_users = df.uid.unique().shape[0]\n",
    "    n_items = df.mid.unique().shape[0]\n",
    "    sparsity = float(df.shape[0]) / float(n_users*n_items) * 100\n",
    "    print('Ending likes info')\n",
    "    print('Number of users: {}'.format(n_users))\n",
    "    print('Number of models: {}'.format(n_items))\n",
    "    print('Sparsity: {:4.3f}%'.format(sparsity))\n",
    "    return df\n",
    "\n",
    "df_lim = threshold_likes(df,5,5)"
   ]
  },
  {
   "cell_type": "code",
   "execution_count": 3,
   "metadata": {},
   "outputs": [],
   "source": [
    "# Create mapping\n",
    "'''\n",
    "创建idx -> uid   idx -> item的映射\n",
    "idx由enumerate生产，从0开始 step为1  依次递增\n",
    "'''\n",
    "mid_to_idx = {}\n",
    "idx_to_mid = {}\n",
    "for (idx,mid) in enumerate(df_lim.mid.unique().tolist()):\n",
    "    mid_to_idx[mid] = idx\n",
    "    idx_to_mid[idx] = mid\n",
    "    \n",
    "uid_to_idx = {}\n",
    "idx_to_uid = {}\n",
    "for (idx, uid) in enumerate(df_lim.uid.unique().tolist()):\n",
    "    uid_to_idx[uid] = idx\n",
    "    idx_to_uid[idx] = uid"
   ]
  },
  {
   "cell_type": "code",
   "execution_count": 4,
   "metadata": {
    "collapsed": true
   },
   "outputs": [
    {
     "name": "stdout",
     "output_type": "stream",
     "text": [
      "(15274, 25655)\n(15274, 25655)\n"
     ]
    }
   ],
   "source": [
    "def map_ids(row, mapper):\n",
    "    return mapper[row]\n",
    "# 获取uid对应的idx，返回成矩阵的形式，也就是numpy.ndarray\n",
    "I = df_lim.uid.apply(map_ids, args=[uid_to_idx]).as_matrix()\n",
    "# 获取item对应的idx，返回\n",
    "J = df_lim.mid.apply(map_ids, args=[mid_to_idx]).as_matrix()\n",
    "#根据uid的维度构建一个单位矩阵(在这里就是一个一维的向量)\n",
    "V = np.ones(I.shape[0])\n",
    "# 按坐标存储稀疏矩阵 I,J为坐标  V是值\n",
    "likes = sparse.coo_matrix((V, (I, J)), dtype=np.float64)\n",
    "print likes.shape\n",
    "# 按行压缩 比如同一个坐标出现了3次1 那么这个位置就是3\n",
    "likes = likes.tocsr()\n",
    "print likes.shape"
   ]
  },
  {
   "cell_type": "code",
   "execution_count": 5,
   "metadata": {},
   "outputs": [
    {
     "name": "stdout",
     "output_type": "stream",
     "text": [
      "3054\n[    0     1     2 ..., 15265 15266 15267]\n"
     ]
    }
   ],
   "source": [
    "train = likes.copy().tocoo()\n",
    "print np.int32(np.floor(0.2 * train.shape[0]))\n",
    "print np.where(np.bincount(train.row) >= 5 * 2)[0]"
   ]
  },
  {
   "cell_type": "code",
   "execution_count": 6,
   "metadata": {
    "collapsed": true
   },
   "outputs": [
    {
     "name": "stdout",
     "output_type": "stream",
     "text": [
      "end\n"
     ]
    }
   ],
   "source": [
    "'''\n",
    "切分训练集和测试集\n",
    "'''\n",
    "def train_test_split(ratings, split_count, fraction=None):\n",
    "    \"\"\"\n",
    "    Split recommendation data into train and test sets\n",
    "    \n",
    "    Params\n",
    "    ------\n",
    "    ratings : scipy.sparse matrix\n",
    "        Interactions between users and items.\n",
    "    split_count : int\n",
    "        Number of user-item-interactions per user to move\n",
    "        from training to test set.\n",
    "    fractions : float\n",
    "        Fraction of users to split off some of their\n",
    "        interactions into test set. If None, then all \n",
    "        users are considered.\n",
    "    \"\"\"\n",
    "    # Note: likely not the fastest way to do things below.\n",
    "    train = ratings.copy().tocoo()\n",
    "    test = sparse.lil_matrix(train.shape)\n",
    "    \n",
    "    if fraction:\n",
    "        try:\n",
    "            # 这里就是从8000多个用户中随机挑选出3054个用户 作为测试集\n",
    "            user_index = np.random.choice(\n",
    "                # 获取查看次数 >= split_count * 2 的用户ID的index，这里有8000多个用户\n",
    "                np.where(np.bincount(train.row) >= split_count * 2)[0], \n",
    "                replace=False,\n",
    "                # 总人数的0.2 = 3054\n",
    "                size=np.int32(np.floor(fraction * train.shape[0]))\n",
    "            ).tolist()\n",
    "        except:\n",
    "            print(('Not enough users with > {} '\n",
    "                  'interactions for fraction of {}')\\\n",
    "                  .format(2*k, fraction))\n",
    "            raise\n",
    "    else:\n",
    "        user_index = range(train.shape[0])\n",
    "        \n",
    "    train = train.tolil()\n",
    "\n",
    "    for user in user_index:\n",
    "        test_ratings = np.random.choice(ratings.getrow(user).indices, \n",
    "                                        size=split_count, \n",
    "                                        replace=False)\n",
    "        train[user, test_ratings] = 0.\n",
    "        # These are just 1.0 right now\n",
    "        test[user, test_ratings] = ratings[user, test_ratings]\n",
    "   \n",
    "    # Test and training are truly disjoint\n",
    "    assert(train.multiply(test).nnz == 0)\n",
    "    return train.tocsr(), test.tocsr(), user_index\n",
    "train, test, user_index = train_test_split(likes, 2, fraction=0.2)\n",
    "print \"end\""
   ]
  },
  {
   "cell_type": "code",
   "execution_count": 7,
   "metadata": {},
   "outputs": [],
   "source": [
    "\"\"\" Implicit Alternating Least Squares \"\"\"\n",
    "import numpy as np\n",
    "import time\n",
    "import os\n",
    "import logging\n",
    "\n",
    "log = logging.getLogger(\"implicit\")\n",
    "\n",
    "\n",
    "class ALS(object):\n",
    "\n",
    "    def __init__(self,\n",
    "                 num_factors=40,\n",
    "                 regularization=0.01,\n",
    "                 alpha=1.0,\n",
    "                 iterations=15,\n",
    "                 use_native=True,\n",
    "                 num_threads=0,\n",
    "                 dtype=np.float64):\n",
    "        \"\"\"\n",
    "        Class version of alternating least squares implicit matrix factorization\n",
    "\n",
    "        Args:\n",
    "            num_factors (int): Number of factors to extract\n",
    "            regularization (double): Regularization parameter to use\n",
    "            iterations (int): Number of alternating least squares iterations to\n",
    "            run\n",
    "            use_native (bool): Whether or not to use Cython solver\n",
    "            num_threads (int): Number of threads to run least squares iterations.\n",
    "            0 means to use all CPU cores.\n",
    "            dtype (np dtype): Datatype for numpy arrays\n",
    "        \"\"\"\n",
    "        self.num_factors = num_factors\n",
    "        self.regularization = regularization\n",
    "        self.alpha = alpha\n",
    "        self.iterations = iterations\n",
    "        self.use_native = use_native\n",
    "        self.num_threads = num_threads\n",
    "        self.dtype = dtype\n",
    "\n",
    "    def fit(self, Cui):\n",
    "        \"\"\"\n",
    "        Fit an alternating least squares model on Cui data\n",
    "\n",
    "        Args:\n",
    "            Cui (sparse matrix, shape=(num_users, num_items)): Matrix of\n",
    "            user-item \"interactions\"\n",
    "        \"\"\"\n",
    "\n",
    "        _check_open_blas()\n",
    "\n",
    "        users, items = Cui.shape\n",
    "\n",
    "        self.user_vectors = np.random.normal(size=(users, self.num_factors))\\\n",
    "                                     .astype(self.dtype)\n",
    "\n",
    "        self.item_vectors = np.random.normal(size=(items, self.num_factors))\\\n",
    "                                     .astype(self.dtype)\n",
    "\n",
    "        self.solver = implicit.als.least_squares if self.use_native else least_squares\n",
    "\n",
    "        self.fit_partial(Cui)\n",
    "\n",
    "    def fit_partial(self, Cui):\n",
    "        \"\"\"Continue fitting model\"\"\"\n",
    "\n",
    "        # Scaling\n",
    "        Cui = Cui.copy()\n",
    "        Cui.data *= self.alpha\n",
    "        Cui, Ciu = Cui.tocsr(), Cui.T.tocsr()\n",
    "\n",
    "        for iteration in range(self.iterations):\n",
    "            s = time.time()\n",
    "            self.solver(Cui,\n",
    "                        self.user_vectors,\n",
    "                        self.item_vectors,\n",
    "                        self.regularization,\n",
    "                        self.num_threads)\n",
    "            self.solver(Ciu,\n",
    "                        self.item_vectors,\n",
    "                        self.user_vectors,\n",
    "                        self.regularization,\n",
    "                        self.num_threads)\n",
    "            log.debug(\"finished iteration %i in %s\", iteration, time.time() - s)\n",
    "\n",
    "    def predict(self, user, item):\n",
    "        \"\"\"Predict for single user and item\"\"\"\n",
    "        return self.user_vectors[user, :].dot(self.item_vectors[item, :].T)\n",
    "\n",
    "    def predict_for_customers(self,):\n",
    "        \"\"\"Recommend products for all customers\"\"\"\n",
    "        return self.user_vectors.dot(self.item_vectors.T)\n",
    "\n",
    "    def predict_for_items(self, norm=True):\n",
    "        \"\"\"Recommend products for all products\"\"\"\n",
    "        pred = self.item_vectors.dot(self.item_vectors.T)\n",
    "        if norm:\n",
    "            norms = np.array([np.sqrt(np.diagonal(pred))])\n",
    "            pred = pred / norms / norms.T\n",
    "        return pred\n",
    "\n",
    "def alternating_least_squares(Cui, factors, regularization=0.01,\n",
    "                              iterations=15, use_native=True, num_threads=0,\n",
    "                              dtype=np.float64):\n",
    "    \"\"\" factorizes the matrix Cui using an implicit alternating least squares\n",
    "    algorithm\n",
    "\n",
    "    Args:\n",
    "        Cui (csr_matrix): Confidence Matrix\n",
    "        factors (int): Number of factors to extract\n",
    "        regularization (double): Regularization parameter to use\n",
    "        iterations (int): Number of alternating least squares iterations to\n",
    "        run\n",
    "        num_threads (int): Number of threads to run least squares iterations.\n",
    "        0 means to use all CPU cores.\n",
    "\n",
    "    Returns:\n",
    "        tuple: A tuple of (row, col) factors\n",
    "    \"\"\"\n",
    "    _check_open_blas()\n",
    "\n",
    "    users, items = Cui.shape\n",
    "\n",
    "    X = np.random.rand(users, factors).astype(dtype) * 0.01\n",
    "    Y = np.random.rand(items, factors).astype(dtype) * 0.01\n",
    "\n",
    "    Cui, Ciu = Cui.tocsr(), Cui.T.tocsr()\n",
    "\n",
    "    solver = implicit.als.least_squares if use_native else least_squares\n",
    "\n",
    "    for iteration in range(iterations):\n",
    "        s = time.time()\n",
    "        solver(Cui, X, Y, regularization, num_threads)\n",
    "        solver(Ciu, Y, X, regularization, num_threads)\n",
    "        log.debug(\"finished iteration %i in %s\", iteration, time.time() - s)\n",
    "\n",
    "    return X, Y\n",
    "\n",
    "\n",
    "def least_squares(Cui, X, Y, regularization, num_threads):\n",
    "    \"\"\" For each user in Cui, calculate factors Xu for them\n",
    "    using least squares on Y.\n",
    "\n",
    "    Note: this is at least 10 times slower than the cython version included\n",
    "    here.\n",
    "    \"\"\"\n",
    "    users, factors = X.shape\n",
    "    YtY = Y.T.dot(Y)\n",
    "\n",
    "    for u in range(users):\n",
    "        # accumulate YtCuY + regularization*I in A\n",
    "        A = YtY + regularization * np.eye(factors)\n",
    "\n",
    "        # accumulate YtCuPu in b\n",
    "        b = np.zeros(factors)\n",
    "\n",
    "        for i, confidence in nonzeros(Cui, u):\n",
    "            factor = Y[i]\n",
    "            A += (confidence - 1) * np.outer(factor, factor)\n",
    "            b += confidence * factor\n",
    "\n",
    "        # Xu = (YtCuY + regularization * I)^-1 (YtCuPu)\n",
    "        X[u] = np.linalg.solve(A, b)\n",
    "\n",
    "\n",
    "def nonzeros(m, row):\n",
    "    \"\"\" returns the non zeroes of a row in csr_matrix \"\"\"\n",
    "    for index in range(m.indptr[row], m.indptr[row+1]):\n",
    "        yield m.indices[index], m.data[index]\n",
    "\n",
    "\n",
    "def _check_open_blas():\n",
    "    \"\"\" checks to see if using OpenBlas. If so, warn if the number of threads isn't set to 1\n",
    "    (causes perf issues) \"\"\"\n",
    "    if np.__config__.get_info('openblas_info') and os.environ.get('OPENBLAS_NUM_THREADS') != '1':\n",
    "        log.warn(\"OpenBLAS detected. Its highly recommend to set the environment variable \"\n",
    "                 \"'export OPENBLAS_NUM_THREADS=1' to disable its internal multithreading\")"
   ]
  },
  {
   "cell_type": "code",
   "execution_count": 21,
   "metadata": {},
   "outputs": [],
   "source": [
    "from sklearn.metrics import mean_squared_error\n",
    "def calculate_mse(model, ratings, user_index=None):\n",
    "    preds = model.predict_for_customers()\n",
    "    if user_index:\n",
    "        return mean_squared_error(ratings[user_index, :].toarray().ravel(),\n",
    "                                  preds[user_index, :].ravel())\n",
    "    \n",
    "    return mean_squared_error(ratings.toarray().ravel(),\n",
    "                              preds.ravel())\n",
    "\n",
    "def precision_at_k(model, ratings, k=5, user_index=None):\n",
    "    if not user_index:\n",
    "        user_index = range(ratings.shape[0])\n",
    "    ratings = ratings.tocsr()\n",
    "    precisions = []\n",
    "    # Note: line below may become infeasible for large datasets.\n",
    "    predictions = model.predict_for_customers()\n",
    "    for user in user_index:\n",
    "        # In case of large dataset, compute predictions row-by-row like below\n",
    "        # predictions = np.array([model.predict(row, i) for i in xrange(ratings.shape[1])])\n",
    "        top_k = np.argsort(-predictions[user, :])[:k]\n",
    "        labels = ratings.getrow(user).indices\n",
    "        precision = float(len(set(top_k) & set(labels))) / float(k)\n",
    "        precisions.append(precision)\n",
    "    return np.mean(precisions)  \n",
    "\n",
    "def print_log(row, header=False, spacing=12):\n",
    "    top = ''\n",
    "    middle = ''\n",
    "    bottom = ''\n",
    "    for r in row:\n",
    "        top += '+{}'.format('-'*spacing)\n",
    "        if isinstance(r, str):\n",
    "            middle += '| {0:^{1}} '.format(r, spacing-2)\n",
    "        elif isinstance(r, int):\n",
    "            middle += '| {0:^{1}} '.format(r, spacing-2)\n",
    "        elif isinstance(r, float):\n",
    "            middle += '| {0:^{1}.5f} '.format(r, spacing-2)\n",
    "        bottom += '+{}'.format('='*spacing)\n",
    "    top += '+'\n",
    "    middle += '|'\n",
    "    bottom += '+'\n",
    "    if header:\n",
    "        print(top)\n",
    "        print(middle)\n",
    "        print(bottom)\n",
    "    else:\n",
    "        print(middle)\n",
    "        print(top)\n",
    "        \n",
    "def learning_curve(model, train, test, epochs, k=5, user_index=None):\n",
    "    if not user_index:\n",
    "        user_index = range(train.shape[0])\n",
    "    prev_epoch = 0\n",
    "    train_precision = []\n",
    "    train_mse = []\n",
    "    test_precision = []\n",
    "    test_mse = []\n",
    "    \n",
    "    headers = ['epochs', 'p@k train', 'p@k test',\n",
    "               'mse train', 'mse test']\n",
    "    print_log(headers, header=True)\n",
    "    \n",
    "    for epoch in epochs:\n",
    "        model.iterations = epoch - prev_epoch\n",
    "        if not hasattr(model, 'user_vectors'):\n",
    "            model.fit(train)\n",
    "        else:\n",
    "            model.fit_partial(train)\n",
    "        train_mse.append(calculate_mse(model, train, user_index))\n",
    "        train_precision.append(precision_at_k(model, train, k, user_index))\n",
    "        test_mse.append(calculate_mse(model, test, user_index))\n",
    "        test_precision.append(precision_at_k(model, test, k, user_index))\n",
    "        row = [epoch, train_precision[-1], test_precision[-1],\n",
    "               train_mse[-1], test_mse[-1]]\n",
    "        print_log(row)\n",
    "        prev_epoch = epoch\n",
    "    return model, train_precision, train_mse, test_precision, test_mse\n",
    "\n",
    "def grid_search_learning_curve(base_model, train, test, param_grid,\n",
    "                               user_index=None, patk=5, epochs=range(2, 40, 2)):\n",
    "    \"\"\"\n",
    "    \"Inspired\" (stolen) from sklearn gridsearch\n",
    "    https://github.com/scikit-learn/scikit-learn/blob/master/sklearn/model_selection/_search.py\n",
    "    \"\"\"\n",
    "    curves = []\n",
    "    keys, values = zip(*param_grid.items())\n",
    "    for v in itertools.product(*values):\n",
    "        params = dict(zip(keys, v))\n",
    "        this_model = copy.deepcopy(base_model)\n",
    "        print_line = []\n",
    "        for k, v in params.items():\n",
    "            setattr(this_model, k, v)\n",
    "            print_line.append((k, v))\n",
    "\n",
    "        print(' | '.join('{}: {}'.format(k, v) for (k, v) in print_line))\n",
    "        _, train_patk, train_mse, test_patk, test_mse = learning_curve(this_model, train, test,\n",
    "                                                                epochs, k=patk, user_index=user_index)\n",
    "        curves.append({'params': params,\n",
    "                       'patk': {'train': train_patk, 'test': test_patk},\n",
    "                       'mse': {'train': train_mse, 'test': test_mse}})\n",
    "    return curves"
   ]
  },
  {
   "cell_type": "code",
   "execution_count": 22,
   "metadata": {
    "collapsed": true
   },
   "outputs": [
    {
     "name": "stdout",
     "output_type": "stream",
     "text": [
      "alpha: 1 | regularization: 0.0 | num_factors: 10\n+------------+------------+------------+------------+------------+\n|   epochs   | p@k train  |  p@k test  | mse train  |  mse test  |\n+============+============+============+============+============+\n"
     ]
    },
    {
     "name": "stdout",
     "output_type": "stream",
     "text": [
      "|     2      |  0.11893   |  0.01153   |  0.00121   |  0.00032   |\n+------------+------------+------------+------------+------------+\n"
     ]
    },
    {
     "name": "stdout",
     "output_type": "stream",
     "text": [
      "|     4      |  0.11958   |  0.01336   |  0.00119   |  0.00035   |\n+------------+------------+------------+------------+------------+\n"
     ]
    },
    {
     "name": "stdout",
     "output_type": "stream",
     "text": [
      "|     6      |  0.11978   |  0.01297   |  0.00118   |  0.00035   |\n+------------+------------+------------+------------+------------+\n"
     ]
    },
    {
     "name": "stdout",
     "output_type": "stream",
     "text": [
      "|     8      |  0.12037   |  0.01264   |  0.00118   |  0.00036   |\n+------------+------------+------------+------------+------------+\n"
     ]
    },
    {
     "name": "stdout",
     "output_type": "stream",
     "text": [
      "|     10     |  0.12010   |  0.01284   |  0.00118   |  0.00036   |\n+------------+------------+------------+------------+------------+\n"
     ]
    },
    {
     "name": "stdout",
     "output_type": "stream",
     "text": [
      "|     12     |  0.11893   |  0.01231   |  0.00118   |  0.00036   |\n+------------+------------+------------+------------+------------+\n"
     ]
    },
    {
     "name": "stdout",
     "output_type": "stream",
     "text": [
      "|     14     |  0.11834   |  0.01238   |  0.00118   |  0.00036   |\n+------------+------------+------------+------------+------------+\n"
     ]
    },
    {
     "name": "stdout",
     "output_type": "stream",
     "text": [
      "|     16     |  0.11742   |  0.01244   |  0.00118   |  0.00036   |\n+------------+------------+------------+------------+------------+\n"
     ]
    },
    {
     "name": "stdout",
     "output_type": "stream",
     "text": [
      "|     18     |  0.11663   |  0.01218   |  0.00118   |  0.00036   |\n+------------+------------+------------+------------+------------+\n"
     ]
    },
    {
     "name": "stdout",
     "output_type": "stream",
     "text": [
      "|     20     |  0.11670   |  0.01212   |  0.00118   |  0.00036   |\n+------------+------------+------------+------------+------------+\n"
     ]
    },
    {
     "name": "stdout",
     "output_type": "stream",
     "text": [
      "|     22     |  0.11624   |  0.01218   |  0.00118   |  0.00036   |\n+------------+------------+------------+------------+------------+\n"
     ]
    },
    {
     "name": "stdout",
     "output_type": "stream",
     "text": [
      "|     24     |  0.11591   |  0.01218   |  0.00118   |  0.00036   |\n+------------+------------+------------+------------+------------+\n"
     ]
    },
    {
     "name": "stdout",
     "output_type": "stream",
     "text": [
      "|     26     |  0.11591   |  0.01225   |  0.00118   |  0.00036   |\n+------------+------------+------------+------------+------------+\n"
     ]
    },
    {
     "name": "stdout",
     "output_type": "stream",
     "text": [
      "|     28     |  0.11591   |  0.01218   |  0.00118   |  0.00036   |\n+------------+------------+------------+------------+------------+\n"
     ]
    },
    {
     "name": "stdout",
     "output_type": "stream",
     "text": [
      "|     30     |  0.11611   |  0.01218   |  0.00118   |  0.00036   |\n+------------+------------+------------+------------+------------+\n"
     ]
    },
    {
     "name": "stdout",
     "output_type": "stream",
     "text": [
      "|     32     |  0.11598   |  0.01218   |  0.00118   |  0.00036   |\n+------------+------------+------------+------------+------------+\n"
     ]
    },
    {
     "name": "stdout",
     "output_type": "stream",
     "text": [
      "|     34     |  0.11565   |  0.01218   |  0.00118   |  0.00036   |\n+------------+------------+------------+------------+------------+\n"
     ]
    },
    {
     "name": "stdout",
     "output_type": "stream",
     "text": [
      "|     36     |  0.11559   |  0.01218   |  0.00118   |  0.00036   |\n+------------+------------+------------+------------+------------+\n"
     ]
    },
    {
     "name": "stdout",
     "output_type": "stream",
     "text": [
      "|     38     |  0.11552   |  0.01225   |  0.00118   |  0.00036   |\n+------------+------------+------------+------------+------------+\nalpha: 1 | regularization: 0.0 | num_factors: 20\n+------------+------------+------------+------------+------------+\n|   epochs   | p@k train  |  p@k test  | mse train  |  mse test  |\n+============+============+============+============+============+\n"
     ]
    },
    {
     "name": "stdout",
     "output_type": "stream",
     "text": [
      "|     2      |  0.17917   |  0.01356   |  0.00116   |  0.00038   |\n+------------+------------+------------+------------+------------+\n"
     ]
    },
    {
     "name": "stdout",
     "output_type": "stream",
     "text": [
      "|     4      |  0.16791   |  0.01546   |  0.00114   |  0.00040   |\n+------------+------------+------------+------------+------------+\n"
     ]
    },
    {
     "name": "stdout",
     "output_type": "stream",
     "text": [
      "|     6      |  0.16509   |  0.01526   |  0.00114   |  0.00040   |\n+------------+------------+------------+------------+------------+\n"
     ]
    },
    {
     "name": "stdout",
     "output_type": "stream",
     "text": [
      "|     8      |  0.16385   |  0.01539   |  0.00113   |  0.00040   |\n+------------+------------+------------+------------+------------+\n"
     ]
    },
    {
     "name": "stdout",
     "output_type": "stream",
     "text": [
      "|     10     |  0.16516   |  0.01565   |  0.00113   |  0.00040   |\n+------------+------------+------------+------------+------------+\n"
     ]
    },
    {
     "name": "stdout",
     "output_type": "stream",
     "text": [
      "|     12     |  0.16555   |  0.01532   |  0.00113   |  0.00040   |\n+------------+------------+------------+------------+------------+\n"
     ]
    },
    {
     "name": "stdout",
     "output_type": "stream",
     "text": [
      "|     14     |  0.16496   |  0.01552   |  0.00114   |  0.00040   |\n+------------+------------+------------+------------+------------+\n"
     ]
    },
    {
     "name": "stdout",
     "output_type": "stream",
     "text": [
      "|     16     |  0.16595   |  0.01552   |  0.00114   |  0.00040   |\n+------------+------------+------------+------------+------------+\n"
     ]
    },
    {
     "name": "stdout",
     "output_type": "stream",
     "text": [
      "|     18     |  0.16627   |  0.01552   |  0.00114   |  0.00040   |\n+------------+------------+------------+------------+------------+\n"
     ]
    },
    {
     "name": "stdout",
     "output_type": "stream",
     "text": [
      "|     20     |  0.16686   |  0.01546   |  0.00114   |  0.00040   |\n+------------+------------+------------+------------+------------+\n"
     ]
    },
    {
     "name": "stdout",
     "output_type": "stream",
     "text": [
      "|     22     |  0.16706   |  0.01546   |  0.00114   |  0.00040   |\n+------------+------------+------------+------------+------------+\n"
     ]
    },
    {
     "name": "stdout",
     "output_type": "stream",
     "text": [
      "|     24     |  0.16719   |  0.01559   |  0.00114   |  0.00040   |\n+------------+------------+------------+------------+------------+\n"
     ]
    },
    {
     "name": "stdout",
     "output_type": "stream",
     "text": [
      "|     26     |  0.16693   |  0.01559   |  0.00114   |  0.00040   |\n+------------+------------+------------+------------+------------+\n"
     ]
    },
    {
     "name": "stdout",
     "output_type": "stream",
     "text": [
      "|     28     |  0.16706   |  0.01552   |  0.00114   |  0.00040   |\n+------------+------------+------------+------------+------------+\n"
     ]
    },
    {
     "name": "stdout",
     "output_type": "stream",
     "text": [
      "|     30     |  0.16739   |  0.01552   |  0.00114   |  0.00040   |\n+------------+------------+------------+------------+------------+\n"
     ]
    },
    {
     "name": "stdout",
     "output_type": "stream",
     "text": [
      "|     32     |  0.16739   |  0.01552   |  0.00114   |  0.00040   |\n+------------+------------+------------+------------+------------+\n"
     ]
    },
    {
     "name": "stdout",
     "output_type": "stream",
     "text": [
      "|     34     |  0.16785   |  0.01546   |  0.00114   |  0.00040   |\n+------------+------------+------------+------------+------------+\n"
     ]
    },
    {
     "name": "stdout",
     "output_type": "stream",
     "text": [
      "|     36     |  0.16785   |  0.01539   |  0.00114   |  0.00040   |\n+------------+------------+------------+------------+------------+\n"
     ]
    },
    {
     "name": "stdout",
     "output_type": "stream",
     "text": [
      "|     38     |  0.16785   |  0.01532   |  0.00114   |  0.00040   |\n+------------+------------+------------+------------+------------+\nalpha: 1 | regularization: 0.0 | num_factors: 40\n+------------+------------+------------+------------+------------+\n|   epochs   | p@k train  |  p@k test  | mse train  |  mse test  |\n+============+============+============+============+============+\n"
     ]
    },
    {
     "name": "stdout",
     "output_type": "stream",
     "text": [
      "|     2      |  0.25377   |  0.01310   |  0.00109   |  0.00044   |\n+------------+------------+------------+------------+------------+\n"
     ]
    },
    {
     "name": "stdout",
     "output_type": "stream",
     "text": [
      "|     4      |  0.24741   |  0.01703   |  0.00106   |  0.00048   |\n+------------+------------+------------+------------+------------+\n"
     ]
    },
    {
     "name": "stdout",
     "output_type": "stream",
     "text": [
      "|     6      |  0.24506   |  0.01663   |  0.00105   |  0.00049   |\n+------------+------------+------------+------------+------------+\n"
     ]
    },
    {
     "name": "stdout",
     "output_type": "stream",
     "text": [
      "|     8      |  0.24381   |  0.01690   |  0.00105   |  0.00049   |\n+------------+------------+------------+------------+------------+\n"
     ]
    },
    {
     "name": "stdout",
     "output_type": "stream",
     "text": [
      "|     10     |  0.24303   |  0.01703   |  0.00105   |  0.00049   |\n+------------+------------+------------+------------+------------+\n"
     ]
    },
    {
     "name": "stdout",
     "output_type": "stream",
     "text": [
      "|     12     |  0.24257   |  0.01709   |  0.00105   |  0.00049   |\n+------------+------------+------------+------------+------------+\n"
     ]
    },
    {
     "name": "stdout",
     "output_type": "stream",
     "text": [
      "|     14     |  0.24185   |  0.01722   |  0.00105   |  0.00049   |\n+------------+------------+------------+------------+------------+\n"
     ]
    },
    {
     "name": "stdout",
     "output_type": "stream",
     "text": [
      "|     16     |  0.24158   |  0.01722   |  0.00105   |  0.00049   |\n+------------+------------+------------+------------+------------+\n"
     ]
    },
    {
     "name": "stdout",
     "output_type": "stream",
     "text": [
      "|     18     |  0.24145   |  0.01742   |  0.00105   |  0.00049   |\n+------------+------------+------------+------------+------------+\n"
     ]
    },
    {
     "name": "stdout",
     "output_type": "stream",
     "text": [
      "|     20     |  0.24067   |  0.01749   |  0.00105   |  0.00049   |\n+------------+------------+------------+------------+------------+\n"
     ]
    },
    {
     "name": "stdout",
     "output_type": "stream",
     "text": [
      "|     22     |  0.24093   |  0.01755   |  0.00105   |  0.00049   |\n+------------+------------+------------+------------+------------+\n"
     ]
    },
    {
     "name": "stdout",
     "output_type": "stream",
     "text": [
      "|     24     |  0.24067   |  0.01755   |  0.00105   |  0.00049   |\n+------------+------------+------------+------------+------------+\n"
     ]
    },
    {
     "name": "stdout",
     "output_type": "stream",
     "text": [
      "|     26     |  0.24034   |  0.01749   |  0.00105   |  0.00049   |\n+------------+------------+------------+------------+------------+\n"
     ]
    },
    {
     "name": "stdout",
     "output_type": "stream",
     "text": [
      "|     28     |  0.23982   |  0.01768   |  0.00105   |  0.00049   |\n+------------+------------+------------+------------+------------+\n"
     ]
    },
    {
     "name": "stdout",
     "output_type": "stream",
     "text": [
      "|     30     |  0.23975   |  0.01775   |  0.00105   |  0.00049   |\n+------------+------------+------------+------------+------------+\n"
     ]
    },
    {
     "name": "stdout",
     "output_type": "stream",
     "text": [
      "|     32     |  0.23929   |  0.01781   |  0.00105   |  0.00049   |\n+------------+------------+------------+------------+------------+\n"
     ]
    },
    {
     "name": "stdout",
     "output_type": "stream",
     "text": [
      "|     34     |  0.23969   |  0.01788   |  0.00105   |  0.00049   |\n+------------+------------+------------+------------+------------+\n"
     ]
    },
    {
     "name": "stdout",
     "output_type": "stream",
     "text": [
      "|     36     |  0.23923   |  0.01781   |  0.00105   |  0.00049   |\n+------------+------------+------------+------------+------------+\n"
     ]
    },
    {
     "name": "stdout",
     "output_type": "stream",
     "text": [
      "|     38     |  0.23955   |  0.01781   |  0.00105   |  0.00049   |\n+------------+------------+------------+------------+------------+\nalpha: 1 | regularization: 0.1 | num_factors: 10\n+------------+------------+------------+------------+------------+\n|   epochs   | p@k train  |  p@k test  | mse train  |  mse test  |\n+============+============+============+============+============+\n"
     ]
    },
    {
     "name": "stdout",
     "output_type": "stream",
     "text": [
      "|     2      |  0.12502   |  0.01107   |  0.00121   |  0.00032   |\n+------------+------------+------------+------------+------------+\n"
     ]
    },
    {
     "name": "stdout",
     "output_type": "stream",
     "text": [
      "|     4      |  0.11775   |  0.01244   |  0.00119   |  0.00035   |\n+------------+------------+------------+------------+------------+\n"
     ]
    },
    {
     "name": "stdout",
     "output_type": "stream",
     "text": [
      "|     6      |  0.11572   |  0.01297   |  0.00119   |  0.00035   |\n+------------+------------+------------+------------+------------+\n"
     ]
    },
    {
     "name": "stdout",
     "output_type": "stream",
     "text": [
      "|     8      |  0.11506   |  0.01264   |  0.00119   |  0.00035   |\n+------------+------------+------------+------------+------------+\n"
     ]
    },
    {
     "name": "stdout",
     "output_type": "stream",
     "text": [
      "|     10     |  0.11506   |  0.01212   |  0.00119   |  0.00035   |\n+------------+------------+------------+------------+------------+\n"
     ]
    },
    {
     "name": "stdout",
     "output_type": "stream",
     "text": [
      "|     12     |  0.11500   |  0.01185   |  0.00119   |  0.00035   |\n+------------+------------+------------+------------+------------+\n"
     ]
    },
    {
     "name": "stdout",
     "output_type": "stream",
     "text": [
      "|     14     |  0.11480   |  0.01205   |  0.00119   |  0.00035   |\n+------------+------------+------------+------------+------------+\n"
     ]
    },
    {
     "name": "stdout",
     "output_type": "stream",
     "text": [
      "|     16     |  0.11506   |  0.01185   |  0.00119   |  0.00035   |\n+------------+------------+------------+------------+------------+\n"
     ]
    },
    {
     "name": "stdout",
     "output_type": "stream",
     "text": [
      "|     18     |  0.11401   |  0.01192   |  0.00119   |  0.00035   |\n+------------+------------+------------+------------+------------+\n"
     ]
    },
    {
     "name": "stdout",
     "output_type": "stream",
     "text": [
      "|     20     |  0.11408   |  0.01185   |  0.00118   |  0.00035   |\n+------------+------------+------------+------------+------------+\n"
     ]
    },
    {
     "name": "stdout",
     "output_type": "stream",
     "text": [
      "|     22     |  0.11460   |  0.01198   |  0.00118   |  0.00035   |\n+------------+------------+------------+------------+------------+\n"
     ]
    },
    {
     "name": "stdout",
     "output_type": "stream",
     "text": [
      "|     24     |  0.11480   |  0.01205   |  0.00118   |  0.00035   |\n+------------+------------+------------+------------+------------+\n"
     ]
    },
    {
     "name": "stdout",
     "output_type": "stream",
     "text": [
      "|     26     |  0.11460   |  0.01212   |  0.00118   |  0.00035   |\n+------------+------------+------------+------------+------------+\n"
     ]
    },
    {
     "name": "stdout",
     "output_type": "stream",
     "text": [
      "|     28     |  0.11454   |  0.01218   |  0.00118   |  0.00035   |\n+------------+------------+------------+------------+------------+\n"
     ]
    },
    {
     "name": "stdout",
     "output_type": "stream",
     "text": [
      "|     30     |  0.11434   |  0.01225   |  0.00118   |  0.00035   |\n+------------+------------+------------+------------+------------+\n"
     ]
    },
    {
     "name": "stdout",
     "output_type": "stream",
     "text": [
      "|     32     |  0.11441   |  0.01218   |  0.00118   |  0.00035   |\n+------------+------------+------------+------------+------------+\n"
     ]
    },
    {
     "name": "stdout",
     "output_type": "stream",
     "text": [
      "|     34     |  0.11454   |  0.01218   |  0.00118   |  0.00035   |\n+------------+------------+------------+------------+------------+\n"
     ]
    },
    {
     "name": "stdout",
     "output_type": "stream",
     "text": [
      "|     36     |  0.11473   |  0.01218   |  0.00118   |  0.00035   |\n+------------+------------+------------+------------+------------+\n"
     ]
    },
    {
     "name": "stdout",
     "output_type": "stream",
     "text": [
      "|     38     |  0.11467   |  0.01218   |  0.00118   |  0.00035   |\n+------------+------------+------------+------------+------------+\nalpha: 1 | regularization: 0.1 | num_factors: 20\n+------------+------------+------------+------------+------------+\n|   epochs   | p@k train  |  p@k test  | mse train  |  mse test  |\n+============+============+============+============+============+\n"
     ]
    },
    {
     "name": "stdout",
     "output_type": "stream",
     "text": [
      "|     2      |  0.17544   |  0.01408   |  0.00116   |  0.00037   |\n+------------+------------+------------+------------+------------+\n"
     ]
    },
    {
     "name": "stdout",
     "output_type": "stream",
     "text": [
      "|     4      |  0.16765   |  0.01585   |  0.00114   |  0.00040   |\n+------------+------------+------------+------------+------------+\n"
     ]
    },
    {
     "name": "stdout",
     "output_type": "stream",
     "text": [
      "|     6      |  0.16837   |  0.01565   |  0.00114   |  0.00040   |\n+------------+------------+------------+------------+------------+\n"
     ]
    },
    {
     "name": "stdout",
     "output_type": "stream",
     "text": [
      "|     8      |  0.16935   |  0.01598   |  0.00114   |  0.00040   |\n+------------+------------+------------+------------+------------+\n"
     ]
    },
    {
     "name": "stdout",
     "output_type": "stream",
     "text": [
      "|     10     |  0.17040   |  0.01650   |  0.00114   |  0.00040   |\n+------------+------------+------------+------------+------------+\n"
     ]
    },
    {
     "name": "stdout",
     "output_type": "stream",
     "text": [
      "|     12     |  0.16961   |  0.01624   |  0.00114   |  0.00040   |\n+------------+------------+------------+------------+------------+\n"
     ]
    },
    {
     "name": "stdout",
     "output_type": "stream",
     "text": [
      "|     14     |  0.17001   |  0.01624   |  0.00114   |  0.00040   |\n+------------+------------+------------+------------+------------+\n"
     ]
    },
    {
     "name": "stdout",
     "output_type": "stream",
     "text": [
      "|     16     |  0.16889   |  0.01650   |  0.00114   |  0.00040   |\n+------------+------------+------------+------------+------------+\n"
     ]
    },
    {
     "name": "stdout",
     "output_type": "stream",
     "text": [
      "|     18     |  0.16916   |  0.01663   |  0.00114   |  0.00040   |\n+------------+------------+------------+------------+------------+\n"
     ]
    },
    {
     "name": "stdout",
     "output_type": "stream",
     "text": [
      "|     20     |  0.16974   |  0.01637   |  0.00114   |  0.00040   |\n+------------+------------+------------+------------+------------+\n"
     ]
    },
    {
     "name": "stdout",
     "output_type": "stream",
     "text": [
      "|     22     |  0.16988   |  0.01637   |  0.00114   |  0.00040   |\n+------------+------------+------------+------------+------------+\n"
     ]
    },
    {
     "name": "stdout",
     "output_type": "stream",
     "text": [
      "|     24     |  0.16961   |  0.01618   |  0.00114   |  0.00040   |\n+------------+------------+------------+------------+------------+\n"
     ]
    },
    {
     "name": "stdout",
     "output_type": "stream",
     "text": [
      "|     26     |  0.16935   |  0.01644   |  0.00114   |  0.00040   |\n+------------+------------+------------+------------+------------+\n"
     ]
    },
    {
     "name": "stdout",
     "output_type": "stream",
     "text": [
      "|     28     |  0.16916   |  0.01637   |  0.00113   |  0.00040   |\n+------------+------------+------------+------------+------------+\n"
     ]
    },
    {
     "name": "stdout",
     "output_type": "stream",
     "text": [
      "|     30     |  0.16909   |  0.01624   |  0.00113   |  0.00040   |\n+------------+------------+------------+------------+------------+\n"
     ]
    },
    {
     "name": "stdout",
     "output_type": "stream",
     "text": [
      "|     32     |  0.16870   |  0.01591   |  0.00113   |  0.00040   |\n+------------+------------+------------+------------+------------+\n"
     ]
    },
    {
     "name": "stdout",
     "output_type": "stream",
     "text": [
      "|     34     |  0.16830   |  0.01585   |  0.00113   |  0.00040   |\n+------------+------------+------------+------------+------------+\n"
     ]
    },
    {
     "name": "stdout",
     "output_type": "stream",
     "text": [
      "|     36     |  0.16804   |  0.01591   |  0.00113   |  0.00040   |\n+------------+------------+------------+------------+------------+\n"
     ]
    },
    {
     "name": "stdout",
     "output_type": "stream",
     "text": [
      "|     38     |  0.16811   |  0.01604   |  0.00113   |  0.00040   |\n+------------+------------+------------+------------+------------+\nalpha: 1 | regularization: 0.1 | num_factors: 40\n+------------+------------+------------+------------+------------+\n|   epochs   | p@k train  |  p@k test  | mse train  |  mse test  |\n+============+============+============+============+============+\n"
     ]
    },
    {
     "name": "stdout",
     "output_type": "stream",
     "text": [
      "|     2      |  0.25547   |  0.01526   |  0.00109   |  0.00043   |\n+------------+------------+------------+------------+------------+\n"
     ]
    },
    {
     "name": "stdout",
     "output_type": "stream",
     "text": [
      "|     4      |  0.25010   |  0.01755   |  0.00106   |  0.00047   |\n+------------+------------+------------+------------+------------+\n"
     ]
    },
    {
     "name": "stdout",
     "output_type": "stream",
     "text": [
      "|     6      |  0.24695   |  0.01834   |  0.00106   |  0.00048   |\n+------------+------------+------------+------------+------------+\n"
     ]
    },
    {
     "name": "stdout",
     "output_type": "stream",
     "text": [
      "|     8      |  0.24407   |  0.01768   |  0.00105   |  0.00048   |\n+------------+------------+------------+------------+------------+\n"
     ]
    },
    {
     "name": "stdout",
     "output_type": "stream",
     "text": [
      "|     10     |  0.24361   |  0.01781   |  0.00105   |  0.00048   |\n+------------+------------+------------+------------+------------+\n"
     ]
    },
    {
     "name": "stdout",
     "output_type": "stream",
     "text": [
      "|     12     |  0.24381   |  0.01762   |  0.00105   |  0.00048   |\n+------------+------------+------------+------------+------------+\n"
     ]
    },
    {
     "name": "stdout",
     "output_type": "stream",
     "text": [
      "|     14     |  0.24204   |  0.01801   |  0.00105   |  0.00048   |\n+------------+------------+------------+------------+------------+\n"
     ]
    },
    {
     "name": "stdout",
     "output_type": "stream",
     "text": [
      "|     16     |  0.24237   |  0.01801   |  0.00105   |  0.00048   |\n+------------+------------+------------+------------+------------+\n"
     ]
    },
    {
     "name": "stdout",
     "output_type": "stream",
     "text": [
      "|     18     |  0.24224   |  0.01821   |  0.00105   |  0.00049   |\n+------------+------------+------------+------------+------------+\n"
     ]
    },
    {
     "name": "stdout",
     "output_type": "stream",
     "text": [
      "|     20     |  0.24191   |  0.01827   |  0.00105   |  0.00049   |\n+------------+------------+------------+------------+------------+\n"
     ]
    },
    {
     "name": "stdout",
     "output_type": "stream",
     "text": [
      "|     22     |  0.24165   |  0.01821   |  0.00105   |  0.00049   |\n+------------+------------+------------+------------+------------+\n"
     ]
    },
    {
     "name": "stdout",
     "output_type": "stream",
     "text": [
      "|     24     |  0.24211   |  0.01827   |  0.00105   |  0.00049   |\n+------------+------------+------------+------------+------------+\n"
     ]
    },
    {
     "name": "stdout",
     "output_type": "stream",
     "text": [
      "|     26     |  0.24119   |  0.01821   |  0.00105   |  0.00049   |\n+------------+------------+------------+------------+------------+\n"
     ]
    },
    {
     "name": "stdout",
     "output_type": "stream",
     "text": [
      "|     28     |  0.24100   |  0.01814   |  0.00105   |  0.00049   |\n+------------+------------+------------+------------+------------+\n"
     ]
    },
    {
     "name": "stdout",
     "output_type": "stream",
     "text": [
      "|     30     |  0.24106   |  0.01807   |  0.00105   |  0.00049   |\n+------------+------------+------------+------------+------------+\n"
     ]
    },
    {
     "name": "stdout",
     "output_type": "stream",
     "text": [
      "|     32     |  0.24093   |  0.01788   |  0.00105   |  0.00049   |\n+------------+------------+------------+------------+------------+\n"
     ]
    },
    {
     "name": "stdout",
     "output_type": "stream",
     "text": [
      "|     34     |  0.24113   |  0.01788   |  0.00105   |  0.00049   |\n+------------+------------+------------+------------+------------+\n"
     ]
    },
    {
     "name": "stdout",
     "output_type": "stream",
     "text": [
      "|     36     |  0.24073   |  0.01788   |  0.00105   |  0.00049   |\n+------------+------------+------------+------------+------------+\n"
     ]
    },
    {
     "name": "stdout",
     "output_type": "stream",
     "text": [
      "|     38     |  0.24086   |  0.01781   |  0.00105   |  0.00049   |\n+------------+------------+------------+------------+------------+\nalpha: 1 | regularization: 10.0 | num_factors: 10\n+------------+------------+------------+------------+------------+\n|   epochs   | p@k train  |  p@k test  | mse train  |  mse test  |\n+============+============+============+============+============+\n"
     ]
    },
    {
     "name": "stdout",
     "output_type": "stream",
     "text": [
      "|     2      |  0.06208   |  0.00681   |  0.00133   |  0.00018   |\n+------------+------------+------------+------------+------------+\n"
     ]
    },
    {
     "name": "stdout",
     "output_type": "stream",
     "text": [
      "|     4      |  0.12436   |  0.01336   |  0.00119   |  0.00029   |\n+------------+------------+------------+------------+------------+\n"
     ]
    },
    {
     "name": "stdout",
     "output_type": "stream",
     "text": [
      "|     6      |  0.12220   |  0.01362   |  0.00119   |  0.00030   |\n+------------+------------+------------+------------+------------+\n"
     ]
    },
    {
     "name": "stdout",
     "output_type": "stream",
     "text": [
      "|     8      |  0.11906   |  0.01329   |  0.00119   |  0.00030   |\n+------------+------------+------------+------------+------------+\n"
     ]
    },
    {
     "name": "stdout",
     "output_type": "stream",
     "text": [
      "|     10     |  0.11611   |  0.01212   |  0.00119   |  0.00030   |\n+------------+------------+------------+------------+------------+\n"
     ]
    },
    {
     "name": "stdout",
     "output_type": "stream",
     "text": [
      "|     12     |  0.11428   |  0.01205   |  0.00119   |  0.00030   |\n+------------+------------+------------+------------+------------+\n"
     ]
    },
    {
     "name": "stdout",
     "output_type": "stream",
     "text": [
      "|     14     |  0.11395   |  0.01166   |  0.00119   |  0.00030   |\n+------------+------------+------------+------------+------------+\n"
     ]
    },
    {
     "name": "stdout",
     "output_type": "stream",
     "text": [
      "|     16     |  0.11316   |  0.01198   |  0.00119   |  0.00030   |\n+------------+------------+------------+------------+------------+\n"
     ]
    },
    {
     "name": "stdout",
     "output_type": "stream",
     "text": [
      "|     18     |  0.11244   |  0.01205   |  0.00119   |  0.00030   |\n+------------+------------+------------+------------+------------+\n"
     ]
    },
    {
     "name": "stdout",
     "output_type": "stream",
     "text": [
      "|     20     |  0.11244   |  0.01212   |  0.00119   |  0.00030   |\n+------------+------------+------------+------------+------------+\n"
     ]
    },
    {
     "name": "stdout",
     "output_type": "stream",
     "text": [
      "|     22     |  0.11198   |  0.01212   |  0.00119   |  0.00030   |\n+------------+------------+------------+------------+------------+\n"
     ]
    },
    {
     "name": "stdout",
     "output_type": "stream",
     "text": [
      "|     24     |  0.11218   |  0.01205   |  0.00119   |  0.00030   |\n+------------+------------+------------+------------+------------+\n"
     ]
    },
    {
     "name": "stdout",
     "output_type": "stream",
     "text": [
      "|     26     |  0.11257   |  0.01218   |  0.00119   |  0.00030   |\n+------------+------------+------------+------------+------------+\n"
     ]
    },
    {
     "name": "stdout",
     "output_type": "stream",
     "text": [
      "|     28     |  0.11264   |  0.01225   |  0.00119   |  0.00030   |\n+------------+------------+------------+------------+------------+\n"
     ]
    },
    {
     "name": "stdout",
     "output_type": "stream",
     "text": [
      "|     30     |  0.11251   |  0.01225   |  0.00119   |  0.00030   |\n+------------+------------+------------+------------+------------+\n"
     ]
    },
    {
     "name": "stdout",
     "output_type": "stream",
     "text": [
      "|     32     |  0.11303   |  0.01225   |  0.00119   |  0.00030   |\n+------------+------------+------------+------------+------------+\n"
     ]
    },
    {
     "name": "stdout",
     "output_type": "stream",
     "text": [
      "|     34     |  0.11303   |  0.01225   |  0.00119   |  0.00030   |\n+------------+------------+------------+------------+------------+\n"
     ]
    },
    {
     "name": "stdout",
     "output_type": "stream",
     "text": [
      "|     36     |  0.11323   |  0.01231   |  0.00119   |  0.00030   |\n+------------+------------+------------+------------+------------+\n"
     ]
    },
    {
     "name": "stdout",
     "output_type": "stream",
     "text": [
      "|     38     |  0.11336   |  0.01231   |  0.00119   |  0.00030   |\n+------------+------------+------------+------------+------------+\nalpha: 1 | regularization: 10.0 | num_factors: 20\n+------------+------------+------------+------------+------------+\n|   epochs   | p@k train  |  p@k test  | mse train  |  mse test  |\n+============+============+============+============+============+\n"
     ]
    },
    {
     "name": "stdout",
     "output_type": "stream",
     "text": [
      "|     2      |  0.06202   |  0.00753   |  0.00132   |  0.00018   |\n+------------+------------+------------+------------+------------+\n"
     ]
    },
    {
     "name": "stdout",
     "output_type": "stream",
     "text": [
      "|     4      |  0.16536   |  0.01618   |  0.00114   |  0.00033   |\n+------------+------------+------------+------------+------------+\n"
     ]
    },
    {
     "name": "stdout",
     "output_type": "stream",
     "text": [
      "|     6      |  0.16248   |  0.01604   |  0.00114   |  0.00033   |\n+------------+------------+------------+------------+------------+\n"
     ]
    },
    {
     "name": "stdout",
     "output_type": "stream",
     "text": [
      "|     8      |  0.16320   |  0.01618   |  0.00114   |  0.00033   |\n+------------+------------+------------+------------+------------+\n"
     ]
    },
    {
     "name": "stdout",
     "output_type": "stream",
     "text": [
      "|     10     |  0.16287   |  0.01598   |  0.00114   |  0.00033   |\n+------------+------------+------------+------------+------------+\n"
     ]
    },
    {
     "name": "stdout",
     "output_type": "stream",
     "text": [
      "|     12     |  0.16398   |  0.01644   |  0.00114   |  0.00033   |\n+------------+------------+------------+------------+------------+\n"
     ]
    },
    {
     "name": "stdout",
     "output_type": "stream",
     "text": [
      "|     14     |  0.16457   |  0.01637   |  0.00114   |  0.00033   |\n+------------+------------+------------+------------+------------+\n"
     ]
    },
    {
     "name": "stdout",
     "output_type": "stream",
     "text": [
      "|     16     |  0.16529   |  0.01611   |  0.00114   |  0.00033   |\n+------------+------------+------------+------------+------------+\n"
     ]
    },
    {
     "name": "stdout",
     "output_type": "stream",
     "text": [
      "|     18     |  0.16549   |  0.01611   |  0.00114   |  0.00033   |\n+------------+------------+------------+------------+------------+\n"
     ]
    },
    {
     "name": "stdout",
     "output_type": "stream",
     "text": [
      "|     20     |  0.16562   |  0.01604   |  0.00114   |  0.00033   |\n+------------+------------+------------+------------+------------+\n"
     ]
    },
    {
     "name": "stdout",
     "output_type": "stream",
     "text": [
      "|     22     |  0.16529   |  0.01604   |  0.00114   |  0.00033   |\n+------------+------------+------------+------------+------------+\n"
     ]
    },
    {
     "name": "stdout",
     "output_type": "stream",
     "text": [
      "|     24     |  0.16542   |  0.01598   |  0.00114   |  0.00033   |\n+------------+------------+------------+------------+------------+\n"
     ]
    },
    {
     "name": "stdout",
     "output_type": "stream",
     "text": [
      "|     26     |  0.16523   |  0.01598   |  0.00114   |  0.00033   |\n+------------+------------+------------+------------+------------+\n"
     ]
    },
    {
     "name": "stdout",
     "output_type": "stream",
     "text": [
      "|     28     |  0.16490   |  0.01591   |  0.00114   |  0.00033   |\n+------------+------------+------------+------------+------------+\n"
     ]
    },
    {
     "name": "stdout",
     "output_type": "stream",
     "text": [
      "|     30     |  0.16490   |  0.01598   |  0.00114   |  0.00033   |\n+------------+------------+------------+------------+------------+\n"
     ]
    },
    {
     "name": "stdout",
     "output_type": "stream",
     "text": [
      "|     32     |  0.16464   |  0.01598   |  0.00114   |  0.00033   |\n+------------+------------+------------+------------+------------+\n"
     ]
    },
    {
     "name": "stdout",
     "output_type": "stream",
     "text": [
      "|     34     |  0.16451   |  0.01598   |  0.00114   |  0.00033   |\n+------------+------------+------------+------------+------------+\n"
     ]
    },
    {
     "name": "stdout",
     "output_type": "stream",
     "text": [
      "|     36     |  0.16431   |  0.01598   |  0.00114   |  0.00033   |\n+------------+------------+------------+------------+------------+\n"
     ]
    },
    {
     "name": "stdout",
     "output_type": "stream",
     "text": [
      "|     38     |  0.16424   |  0.01598   |  0.00114   |  0.00033   |\n+------------+------------+------------+------------+------------+\nalpha: 1 | regularization: 10.0 | num_factors: 40\n+------------+------------+------------+------------+------------+\n|   epochs   | p@k train  |  p@k test  | mse train  |  mse test  |\n+============+============+============+============+============+\n"
     ]
    },
    {
     "name": "stdout",
     "output_type": "stream",
     "text": [
      "|     2      |  0.07014   |  0.00812   |  0.00131   |  0.00020   |\n+------------+------------+------------+------------+------------+\n"
     ]
    },
    {
     "name": "stdout",
     "output_type": "stream",
     "text": [
      "|     4      |  0.24145   |  0.01775   |  0.00107   |  0.00037   |\n+------------+------------+------------+------------+------------+\n"
     ]
    },
    {
     "name": "stdout",
     "output_type": "stream",
     "text": [
      "|     6      |  0.23759   |  0.01788   |  0.00107   |  0.00037   |\n+------------+------------+------------+------------+------------+\n"
     ]
    },
    {
     "name": "stdout",
     "output_type": "stream",
     "text": [
      "|     8      |  0.23694   |  0.01762   |  0.00106   |  0.00037   |\n+------------+------------+------------+------------+------------+\n"
     ]
    },
    {
     "name": "stdout",
     "output_type": "stream",
     "text": [
      "|     10     |  0.23635   |  0.01788   |  0.00106   |  0.00037   |\n+------------+------------+------------+------------+------------+\n"
     ]
    },
    {
     "name": "stdout",
     "output_type": "stream",
     "text": [
      "|     12     |  0.23595   |  0.01781   |  0.00106   |  0.00037   |\n+------------+------------+------------+------------+------------+\n"
     ]
    },
    {
     "name": "stdout",
     "output_type": "stream",
     "text": [
      "|     14     |  0.23608   |  0.01775   |  0.00106   |  0.00037   |\n+------------+------------+------------+------------+------------+\n"
     ]
    },
    {
     "name": "stdout",
     "output_type": "stream",
     "text": [
      "|     16     |  0.23608   |  0.01775   |  0.00106   |  0.00037   |\n+------------+------------+------------+------------+------------+\n"
     ]
    },
    {
     "name": "stdout",
     "output_type": "stream",
     "text": [
      "|     18     |  0.23615   |  0.01775   |  0.00106   |  0.00037   |\n+------------+------------+------------+------------+------------+\n"
     ]
    },
    {
     "name": "stdout",
     "output_type": "stream",
     "text": [
      "|     20     |  0.23635   |  0.01794   |  0.00106   |  0.00037   |\n+------------+------------+------------+------------+------------+\n"
     ]
    },
    {
     "name": "stdout",
     "output_type": "stream",
     "text": [
      "|     22     |  0.23680   |  0.01788   |  0.00106   |  0.00037   |\n+------------+------------+------------+------------+------------+\n"
     ]
    },
    {
     "name": "stdout",
     "output_type": "stream",
     "text": [
      "|     24     |  0.23746   |  0.01788   |  0.00106   |  0.00037   |\n+------------+------------+------------+------------+------------+\n"
     ]
    },
    {
     "name": "stdout",
     "output_type": "stream",
     "text": [
      "|     26     |  0.23733   |  0.01788   |  0.00106   |  0.00037   |\n+------------+------------+------------+------------+------------+\n"
     ]
    },
    {
     "name": "stdout",
     "output_type": "stream",
     "text": [
      "|     28     |  0.23713   |  0.01775   |  0.00106   |  0.00037   |\n+------------+------------+------------+------------+------------+\n"
     ]
    },
    {
     "name": "stdout",
     "output_type": "stream",
     "text": [
      "|     30     |  0.23746   |  0.01768   |  0.00106   |  0.00037   |\n+------------+------------+------------+------------+------------+\n"
     ]
    },
    {
     "name": "stdout",
     "output_type": "stream",
     "text": [
      "|     32     |  0.23739   |  0.01768   |  0.00106   |  0.00037   |\n+------------+------------+------------+------------+------------+\n"
     ]
    },
    {
     "name": "stdout",
     "output_type": "stream",
     "text": [
      "|     34     |  0.23772   |  0.01768   |  0.00106   |  0.00037   |\n+------------+------------+------------+------------+------------+\n"
     ]
    },
    {
     "name": "stdout",
     "output_type": "stream",
     "text": [
      "|     36     |  0.23759   |  0.01762   |  0.00106   |  0.00037   |\n+------------+------------+------------+------------+------------+\n"
     ]
    },
    {
     "name": "stdout",
     "output_type": "stream",
     "text": [
      "|     38     |  0.23739   |  0.01762   |  0.00106   |  0.00037   |\n+------------+------------+------------+------------+------------+\nalpha: 10 | regularization: 0.0 | num_factors: 10\n+------------+------------+------------+------------+------------+\n|   epochs   | p@k train  |  p@k test  | mse train  |  mse test  |\n+============+============+============+============+============+\n"
     ]
    },
    {
     "name": "stdout",
     "output_type": "stream",
     "text": [
      "|     2      |  0.14578   |  0.01146   |  0.00254   |  0.00220   |\n+------------+------------+------------+------------+------------+\n"
     ]
    },
    {
     "name": "stdout",
     "output_type": "stream",
     "text": [
      "|     4      |  0.14021   |  0.01657   |  0.00259   |  0.00234   |\n+------------+------------+------------+------------+------------+\n"
     ]
    },
    {
     "name": "stdout",
     "output_type": "stream",
     "text": [
      "|     6      |  0.14185   |  0.01755   |  0.00261   |  0.00237   |\n+------------+------------+------------+------------+------------+\n"
     ]
    },
    {
     "name": "stdout",
     "output_type": "stream",
     "text": [
      "|     8      |  0.14316   |  0.01735   |  0.00261   |  0.00238   |\n+------------+------------+------------+------------+------------+\n"
     ]
    },
    {
     "name": "stdout",
     "output_type": "stream",
     "text": [
      "|     10     |  0.14322   |  0.01650   |  0.00261   |  0.00238   |\n+------------+------------+------------+------------+------------+\n"
     ]
    },
    {
     "name": "stdout",
     "output_type": "stream",
     "text": [
      "|     12     |  0.14329   |  0.01637   |  0.00261   |  0.00238   |\n+------------+------------+------------+------------+------------+\n"
     ]
    },
    {
     "name": "stdout",
     "output_type": "stream",
     "text": [
      "|     14     |  0.14185   |  0.01591   |  0.00261   |  0.00238   |\n+------------+------------+------------+------------+------------+\n"
     ]
    },
    {
     "name": "stdout",
     "output_type": "stream",
     "text": [
      "|     16     |  0.14093   |  0.01585   |  0.00261   |  0.00238   |\n+------------+------------+------------+------------+------------+\n"
     ]
    },
    {
     "name": "stdout",
     "output_type": "stream",
     "text": [
      "|     18     |  0.14080   |  0.01598   |  0.00261   |  0.00238   |\n+------------+------------+------------+------------+------------+\n"
     ]
    },
    {
     "name": "stdout",
     "output_type": "stream",
     "text": [
      "|     20     |  0.14080   |  0.01591   |  0.00261   |  0.00238   |\n+------------+------------+------------+------------+------------+\n"
     ]
    },
    {
     "name": "stdout",
     "output_type": "stream",
     "text": [
      "|     22     |  0.13995   |  0.01591   |  0.00260   |  0.00238   |\n+------------+------------+------------+------------+------------+\n"
     ]
    },
    {
     "name": "stdout",
     "output_type": "stream",
     "text": [
      "|     24     |  0.13969   |  0.01604   |  0.00260   |  0.00238   |\n+------------+------------+------------+------------+------------+\n"
     ]
    },
    {
     "name": "stdout",
     "output_type": "stream",
     "text": [
      "|     26     |  0.13942   |  0.01611   |  0.00260   |  0.00238   |\n+------------+------------+------------+------------+------------+\n"
     ]
    },
    {
     "name": "stdout",
     "output_type": "stream",
     "text": [
      "|     28     |  0.13897   |  0.01604   |  0.00260   |  0.00238   |\n+------------+------------+------------+------------+------------+\n"
     ]
    },
    {
     "name": "stdout",
     "output_type": "stream",
     "text": [
      "|     30     |  0.13870   |  0.01604   |  0.00260   |  0.00238   |\n+------------+------------+------------+------------+------------+\n"
     ]
    },
    {
     "name": "stdout",
     "output_type": "stream",
     "text": [
      "|     32     |  0.13851   |  0.01585   |  0.00260   |  0.00238   |\n+------------+------------+------------+------------+------------+\n"
     ]
    },
    {
     "name": "stdout",
     "output_type": "stream",
     "text": [
      "|     34     |  0.13864   |  0.01585   |  0.00260   |  0.00238   |\n+------------+------------+------------+------------+------------+\n"
     ]
    },
    {
     "name": "stdout",
     "output_type": "stream",
     "text": [
      "|     36     |  0.13851   |  0.01591   |  0.00260   |  0.00238   |\n+------------+------------+------------+------------+------------+\n"
     ]
    },
    {
     "name": "stdout",
     "output_type": "stream",
     "text": [
      "|     38     |  0.13851   |  0.01585   |  0.00260   |  0.00238   |\n+------------+------------+------------+------------+------------+\nalpha: 10 | regularization: 0.0 | num_factors: 20\n+------------+------------+------------+------------+------------+\n|   epochs   | p@k train  |  p@k test  | mse train  |  mse test  |\n+============+============+============+============+============+\n"
     ]
    },
    {
     "name": "stdout",
     "output_type": "stream",
     "text": [
      "|     2      |  0.23091   |  0.01493   |  0.00258   |  0.00239   |\n+------------+------------+------------+------------+------------+\n"
     ]
    },
    {
     "name": "stdout",
     "output_type": "stream",
     "text": [
      "|     4      |  0.20904   |  0.02083   |  0.00260   |  0.00250   |\n+------------+------------+------------+------------+------------+\n"
     ]
    },
    {
     "name": "stdout",
     "output_type": "stream",
     "text": [
      "|     6      |  0.20838   |  0.02128   |  0.00260   |  0.00252   |\n+------------+------------+------------+------------+------------+\n"
     ]
    },
    {
     "name": "stdout",
     "output_type": "stream",
     "text": [
      "|     8      |  0.20832   |  0.02161   |  0.00260   |  0.00252   |\n+------------+------------+------------+------------+------------+\n"
     ]
    },
    {
     "name": "stdout",
     "output_type": "stream",
     "text": [
      "|     10     |  0.21002   |  0.02141   |  0.00260   |  0.00252   |\n+------------+------------+------------+------------+------------+\n"
     ]
    },
    {
     "name": "stdout",
     "output_type": "stream",
     "text": [
      "|     12     |  0.20963   |  0.02128   |  0.00260   |  0.00252   |\n+------------+------------+------------+------------+------------+\n"
     ]
    },
    {
     "name": "stdout",
     "output_type": "stream",
     "text": [
      "|     14     |  0.20864   |  0.02155   |  0.00260   |  0.00252   |\n+------------+------------+------------+------------+------------+\n"
     ]
    },
    {
     "name": "stdout",
     "output_type": "stream",
     "text": [
      "|     16     |  0.20773   |  0.02168   |  0.00261   |  0.00252   |\n+------------+------------+------------+------------+------------+\n"
     ]
    },
    {
     "name": "stdout",
     "output_type": "stream",
     "text": [
      "|     18     |  0.20753   |  0.02187   |  0.00261   |  0.00252   |\n+------------+------------+------------+------------+------------+\n"
     ]
    },
    {
     "name": "stdout",
     "output_type": "stream",
     "text": [
      "|     20     |  0.20602   |  0.02135   |  0.00261   |  0.00252   |\n+------------+------------+------------+------------+------------+\n"
     ]
    },
    {
     "name": "stdout",
     "output_type": "stream",
     "text": [
      "|     22     |  0.20537   |  0.02128   |  0.00260   |  0.00253   |\n+------------+------------+------------+------------+------------+\n"
     ]
    },
    {
     "name": "stdout",
     "output_type": "stream",
     "text": [
      "|     24     |  0.20517   |  0.02122   |  0.00260   |  0.00253   |\n+------------+------------+------------+------------+------------+\n"
     ]
    },
    {
     "name": "stdout",
     "output_type": "stream",
     "text": [
      "|     26     |  0.20524   |  0.02115   |  0.00260   |  0.00253   |\n+------------+------------+------------+------------+------------+\n"
     ]
    },
    {
     "name": "stdout",
     "output_type": "stream",
     "text": [
      "|     28     |  0.20478   |  0.02096   |  0.00260   |  0.00253   |\n+------------+------------+------------+------------+------------+\n"
     ]
    },
    {
     "name": "stdout",
     "output_type": "stream",
     "text": [
      "|     30     |  0.20530   |  0.02076   |  0.00260   |  0.00253   |\n+------------+------------+------------+------------+------------+\n"
     ]
    },
    {
     "name": "stdout",
     "output_type": "stream",
     "text": [
      "|     32     |  0.20530   |  0.02083   |  0.00260   |  0.00253   |\n+------------+------------+------------+------------+------------+\n"
     ]
    },
    {
     "name": "stdout",
     "output_type": "stream",
     "text": [
      "|     34     |  0.20629   |  0.02083   |  0.00260   |  0.00253   |\n+------------+------------+------------+------------+------------+\n"
     ]
    },
    {
     "name": "stdout",
     "output_type": "stream",
     "text": [
      "|     36     |  0.20661   |  0.02076   |  0.00260   |  0.00253   |\n+------------+------------+------------+------------+------------+\n"
     ]
    },
    {
     "name": "stdout",
     "output_type": "stream",
     "text": [
      "|     38     |  0.20714   |  0.02076   |  0.00260   |  0.00253   |\n+------------+------------+------------+------------+------------+\nalpha: 10 | regularization: 0.0 | num_factors: 40\n+------------+------------+------------+------------+------------+\n|   epochs   | p@k train  |  p@k test  | mse train  |  mse test  |\n+============+============+============+============+============+\n"
     ]
    },
    {
     "name": "stdout",
     "output_type": "stream",
     "text": [
      "|     2      |  0.32705   |  0.01749   |  0.00256   |  0.00257   |\n+------------+------------+------------+------------+------------+\n"
     ]
    },
    {
     "name": "stdout",
     "output_type": "stream",
     "text": [
      "|     4      |  0.30825   |  0.02187   |  0.00256   |  0.00264   |\n+------------+------------+------------+------------+------------+\n"
     ]
    },
    {
     "name": "stdout",
     "output_type": "stream",
     "text": [
      "|     6      |  0.30255   |  0.02128   |  0.00255   |  0.00265   |\n+------------+------------+------------+------------+------------+\n"
     ]
    },
    {
     "name": "stdout",
     "output_type": "stream",
     "text": [
      "|     8      |  0.30131   |  0.02135   |  0.00255   |  0.00265   |\n+------------+------------+------------+------------+------------+\n"
     ]
    },
    {
     "name": "stdout",
     "output_type": "stream",
     "text": [
      "|     10     |  0.30118   |  0.02174   |  0.00255   |  0.00265   |\n+------------+------------+------------+------------+------------+\n"
     ]
    },
    {
     "name": "stdout",
     "output_type": "stream",
     "text": [
      "|     12     |  0.29895   |  0.02220   |  0.00255   |  0.00265   |\n+------------+------------+------------+------------+------------+\n"
     ]
    },
    {
     "name": "stdout",
     "output_type": "stream",
     "text": [
      "|     14     |  0.29836   |  0.02233   |  0.00255   |  0.00265   |\n+------------+------------+------------+------------+------------+\n"
     ]
    },
    {
     "name": "stdout",
     "output_type": "stream",
     "text": [
      "|     16     |  0.29686   |  0.02266   |  0.00255   |  0.00265   |\n+------------+------------+------------+------------+------------+\n"
     ]
    },
    {
     "name": "stdout",
     "output_type": "stream",
     "text": [
      "|     18     |  0.29679   |  0.02325   |  0.00255   |  0.00265   |\n+------------+------------+------------+------------+------------+\n"
     ]
    },
    {
     "name": "stdout",
     "output_type": "stream",
     "text": [
      "|     20     |  0.29666   |  0.02344   |  0.00255   |  0.00265   |\n+------------+------------+------------+------------+------------+\n"
     ]
    },
    {
     "name": "stdout",
     "output_type": "stream",
     "text": [
      "|     22     |  0.29633   |  0.02344   |  0.00255   |  0.00265   |\n+------------+------------+------------+------------+------------+\n"
     ]
    },
    {
     "name": "stdout",
     "output_type": "stream",
     "text": [
      "|     24     |  0.29731   |  0.02331   |  0.00255   |  0.00265   |\n+------------+------------+------------+------------+------------+\n"
     ]
    },
    {
     "name": "stdout",
     "output_type": "stream",
     "text": [
      "|     26     |  0.29771   |  0.02318   |  0.00255   |  0.00266   |\n+------------+------------+------------+------------+------------+\n"
     ]
    },
    {
     "name": "stdout",
     "output_type": "stream",
     "text": [
      "|     28     |  0.29790   |  0.02318   |  0.00255   |  0.00266   |\n+------------+------------+------------+------------+------------+\n"
     ]
    },
    {
     "name": "stdout",
     "output_type": "stream",
     "text": [
      "|     30     |  0.29797   |  0.02338   |  0.00255   |  0.00266   |\n+------------+------------+------------+------------+------------+\n"
     ]
    },
    {
     "name": "stdout",
     "output_type": "stream",
     "text": [
      "|     32     |  0.29830   |  0.02325   |  0.00255   |  0.00266   |\n+------------+------------+------------+------------+------------+\n"
     ]
    },
    {
     "name": "stdout",
     "output_type": "stream",
     "text": [
      "|     34     |  0.29817   |  0.02344   |  0.00255   |  0.00266   |\n+------------+------------+------------+------------+------------+\n"
     ]
    },
    {
     "name": "stdout",
     "output_type": "stream",
     "text": [
      "|     36     |  0.29836   |  0.02331   |  0.00255   |  0.00266   |\n+------------+------------+------------+------------+------------+\n"
     ]
    },
    {
     "name": "stdout",
     "output_type": "stream",
     "text": [
      "|     38     |  0.29876   |  0.02312   |  0.00255   |  0.00266   |\n+------------+------------+------------+------------+------------+\nalpha: 10 | regularization: 0.1 | num_factors: 10\n+------------+------------+------------+------------+------------+\n|   epochs   | p@k train  |  p@k test  | mse train  |  mse test  |\n+============+============+============+============+============+\n"
     ]
    },
    {
     "name": "stdout",
     "output_type": "stream",
     "text": [
      "|     2      |  0.15259   |  0.01231   |  0.00230   |  0.00187   |\n+------------+------------+------------+------------+------------+\n"
     ]
    },
    {
     "name": "stdout",
     "output_type": "stream",
     "text": [
      "|     4      |  0.14361   |  0.01552   |  0.00239   |  0.00208   |\n+------------+------------+------------+------------+------------+\n"
     ]
    },
    {
     "name": "stdout",
     "output_type": "stream",
     "text": [
      "|     6      |  0.14617   |  0.01578   |  0.00243   |  0.00215   |\n+------------+------------+------------+------------+------------+\n"
     ]
    },
    {
     "name": "stdout",
     "output_type": "stream",
     "text": [
      "|     8      |  0.14565   |  0.01572   |  0.00246   |  0.00219   |\n+------------+------------+------------+------------+------------+\n"
     ]
    },
    {
     "name": "stdout",
     "output_type": "stream",
     "text": [
      "|     10     |  0.14322   |  0.01618   |  0.00248   |  0.00222   |\n+------------+------------+------------+------------+------------+\n"
     ]
    },
    {
     "name": "stdout",
     "output_type": "stream",
     "text": [
      "|     12     |  0.14257   |  0.01604   |  0.00249   |  0.00223   |\n+------------+------------+------------+------------+------------+\n"
     ]
    },
    {
     "name": "stdout",
     "output_type": "stream",
     "text": [
      "|     14     |  0.14139   |  0.01618   |  0.00250   |  0.00225   |\n+------------+------------+------------+------------+------------+\n"
     ]
    },
    {
     "name": "stdout",
     "output_type": "stream",
     "text": [
      "|     16     |  0.14152   |  0.01611   |  0.00251   |  0.00226   |\n+------------+------------+------------+------------+------------+\n"
     ]
    },
    {
     "name": "stdout",
     "output_type": "stream",
     "text": [
      "|     18     |  0.14100   |  0.01611   |  0.00252   |  0.00227   |\n+------------+------------+------------+------------+------------+\n"
     ]
    },
    {
     "name": "stdout",
     "output_type": "stream",
     "text": [
      "|     20     |  0.14021   |  0.01598   |  0.00253   |  0.00228   |\n+------------+------------+------------+------------+------------+\n"
     ]
    },
    {
     "name": "stdout",
     "output_type": "stream",
     "text": [
      "|     22     |  0.14001   |  0.01598   |  0.00253   |  0.00229   |\n+------------+------------+------------+------------+------------+\n"
     ]
    },
    {
     "name": "stdout",
     "output_type": "stream",
     "text": [
      "|     24     |  0.13969   |  0.01591   |  0.00254   |  0.00229   |\n+------------+------------+------------+------------+------------+\n"
     ]
    },
    {
     "name": "stdout",
     "output_type": "stream",
     "text": [
      "|     26     |  0.13923   |  0.01598   |  0.00254   |  0.00230   |\n+------------+------------+------------+------------+------------+\n"
     ]
    },
    {
     "name": "stdout",
     "output_type": "stream",
     "text": [
      "|     28     |  0.13923   |  0.01598   |  0.00255   |  0.00230   |\n+------------+------------+------------+------------+------------+\n"
     ]
    },
    {
     "name": "stdout",
     "output_type": "stream",
     "text": [
      "|     30     |  0.13890   |  0.01611   |  0.00255   |  0.00231   |\n+------------+------------+------------+------------+------------+\n"
     ]
    },
    {
     "name": "stdout",
     "output_type": "stream",
     "text": [
      "|     32     |  0.13883   |  0.01611   |  0.00255   |  0.00231   |\n+------------+------------+------------+------------+------------+\n"
     ]
    },
    {
     "name": "stdout",
     "output_type": "stream",
     "text": [
      "|     34     |  0.13877   |  0.01611   |  0.00256   |  0.00231   |\n+------------+------------+------------+------------+------------+\n"
     ]
    },
    {
     "name": "stdout",
     "output_type": "stream",
     "text": [
      "|     36     |  0.13870   |  0.01611   |  0.00256   |  0.00232   |\n+------------+------------+------------+------------+------------+\n"
     ]
    },
    {
     "name": "stdout",
     "output_type": "stream",
     "text": [
      "|     38     |  0.13864   |  0.01611   |  0.00256   |  0.00232   |\n+------------+------------+------------+------------+------------+\nalpha: 10 | regularization: 0.1 | num_factors: 20\n+------------+------------+------------+------------+------------+\n|   epochs   | p@k train  |  p@k test  | mse train  |  mse test  |\n+============+============+============+============+============+\n"
     ]
    },
    {
     "name": "stdout",
     "output_type": "stream",
     "text": [
      "|     2      |  0.21866   |  0.01624   |  0.00215   |  0.00183   |\n+------------+------------+------------+------------+------------+\n"
     ]
    },
    {
     "name": "stdout",
     "output_type": "stream",
     "text": [
      "|     4      |  0.21225   |  0.02069   |  0.00231   |  0.00212   |\n+------------+------------+------------+------------+------------+\n"
     ]
    },
    {
     "name": "stdout",
     "output_type": "stream",
     "text": [
      "|     6      |  0.21100   |  0.02089   |  0.00238   |  0.00222   |\n+------------+------------+------------+------------+------------+\n"
     ]
    },
    {
     "name": "stdout",
     "output_type": "stream",
     "text": [
      "|     8      |  0.20976   |  0.02069   |  0.00242   |  0.00228   |\n+------------+------------+------------+------------+------------+\n"
     ]
    },
    {
     "name": "stdout",
     "output_type": "stream",
     "text": [
      "|     10     |  0.20936   |  0.02030   |  0.00245   |  0.00232   |\n+------------+------------+------------+------------+------------+\n"
     ]
    },
    {
     "name": "stdout",
     "output_type": "stream",
     "text": [
      "|     12     |  0.21048   |  0.02017   |  0.00247   |  0.00235   |\n+------------+------------+------------+------------+------------+\n"
     ]
    },
    {
     "name": "stdout",
     "output_type": "stream",
     "text": [
      "|     14     |  0.20976   |  0.01991   |  0.00249   |  0.00237   |\n+------------+------------+------------+------------+------------+\n"
     ]
    },
    {
     "name": "stdout",
     "output_type": "stream",
     "text": [
      "|     16     |  0.20851   |  0.01991   |  0.00250   |  0.00239   |\n+------------+------------+------------+------------+------------+\n"
     ]
    },
    {
     "name": "stdout",
     "output_type": "stream",
     "text": [
      "|     18     |  0.20779   |  0.01991   |  0.00251   |  0.00240   |\n+------------+------------+------------+------------+------------+\n"
     ]
    },
    {
     "name": "stdout",
     "output_type": "stream",
     "text": [
      "|     20     |  0.20740   |  0.01984   |  0.00252   |  0.00241   |\n+------------+------------+------------+------------+------------+\n"
     ]
    },
    {
     "name": "stdout",
     "output_type": "stream",
     "text": [
      "|     22     |  0.20753   |  0.02017   |  0.00252   |  0.00242   |\n+------------+------------+------------+------------+------------+\n"
     ]
    },
    {
     "name": "stdout",
     "output_type": "stream",
     "text": [
      "|     24     |  0.20786   |  0.02024   |  0.00253   |  0.00243   |\n+------------+------------+------------+------------+------------+\n"
     ]
    },
    {
     "name": "stdout",
     "output_type": "stream",
     "text": [
      "|     26     |  0.20733   |  0.02030   |  0.00254   |  0.00244   |\n+------------+------------+------------+------------+------------+\n"
     ]
    },
    {
     "name": "stdout",
     "output_type": "stream",
     "text": [
      "|     28     |  0.20740   |  0.02024   |  0.00254   |  0.00244   |\n+------------+------------+------------+------------+------------+\n"
     ]
    },
    {
     "name": "stdout",
     "output_type": "stream",
     "text": [
      "|     30     |  0.20799   |  0.02030   |  0.00254   |  0.00245   |\n+------------+------------+------------+------------+------------+\n"
     ]
    },
    {
     "name": "stdout",
     "output_type": "stream",
     "text": [
      "|     32     |  0.20812   |  0.02017   |  0.00255   |  0.00245   |\n+------------+------------+------------+------------+------------+\n"
     ]
    },
    {
     "name": "stdout",
     "output_type": "stream",
     "text": [
      "|     34     |  0.20851   |  0.02043   |  0.00255   |  0.00246   |\n+------------+------------+------------+------------+------------+\n"
     ]
    },
    {
     "name": "stdout",
     "output_type": "stream",
     "text": [
      "|     36     |  0.20753   |  0.02043   |  0.00255   |  0.00246   |\n+------------+------------+------------+------------+------------+\n"
     ]
    },
    {
     "name": "stdout",
     "output_type": "stream",
     "text": [
      "|     38     |  0.20760   |  0.02050   |  0.00256   |  0.00246   |\n+------------+------------+------------+------------+------------+\nalpha: 10 | regularization: 0.1 | num_factors: 40\n+------------+------------+------------+------------+------------+\n|   epochs   | p@k train  |  p@k test  | mse train  |  mse test  |\n+============+============+============+============+============+\n"
     ]
    },
    {
     "name": "stdout",
     "output_type": "stream",
     "text": [
      "|     2      |  0.32069   |  0.01762   |  0.00211   |  0.00194   |\n+------------+------------+------------+------------+------------+\n"
     ]
    },
    {
     "name": "stdout",
     "output_type": "stream",
     "text": [
      "|     4      |  0.30714   |  0.02187   |  0.00225   |  0.00221   |\n+------------+------------+------------+------------+------------+\n"
     ]
    },
    {
     "name": "stdout",
     "output_type": "stream",
     "text": [
      "|     6      |  0.30399   |  0.02227   |  0.00232   |  0.00233   |\n+------------+------------+------------+------------+------------+\n"
     ]
    },
    {
     "name": "stdout",
     "output_type": "stream",
     "text": [
      "|     8      |  0.30164   |  0.02272   |  0.00236   |  0.00239   |\n+------------+------------+------------+------------+------------+\n"
     ]
    },
    {
     "name": "stdout",
     "output_type": "stream",
     "text": [
      "|     10     |  0.30124   |  0.02266   |  0.00240   |  0.00244   |\n+------------+------------+------------+------------+------------+\n"
     ]
    },
    {
     "name": "stdout",
     "output_type": "stream",
     "text": [
      "|     12     |  0.30046   |  0.02233   |  0.00242   |  0.00247   |\n+------------+------------+------------+------------+------------+\n"
     ]
    },
    {
     "name": "stdout",
     "output_type": "stream",
     "text": [
      "|     14     |  0.30111   |  0.02266   |  0.00244   |  0.00250   |\n+------------+------------+------------+------------+------------+\n"
     ]
    },
    {
     "name": "stdout",
     "output_type": "stream",
     "text": [
      "|     16     |  0.29928   |  0.02292   |  0.00245   |  0.00252   |\n+------------+------------+------------+------------+------------+\n"
     ]
    },
    {
     "name": "stdout",
     "output_type": "stream",
     "text": [
      "|     18     |  0.29993   |  0.02299   |  0.00246   |  0.00253   |\n+------------+------------+------------+------------+------------+\n"
     ]
    },
    {
     "name": "stdout",
     "output_type": "stream",
     "text": [
      "|     20     |  0.29889   |  0.02286   |  0.00247   |  0.00254   |\n+------------+------------+------------+------------+------------+\n"
     ]
    },
    {
     "name": "stdout",
     "output_type": "stream",
     "text": [
      "|     22     |  0.29928   |  0.02325   |  0.00248   |  0.00256   |\n+------------+------------+------------+------------+------------+\n"
     ]
    },
    {
     "name": "stdout",
     "output_type": "stream",
     "text": [
      "|     24     |  0.29987   |  0.02292   |  0.00249   |  0.00257   |\n+------------+------------+------------+------------+------------+\n"
     ]
    },
    {
     "name": "stdout",
     "output_type": "stream",
     "text": [
      "|     26     |  0.29961   |  0.02292   |  0.00249   |  0.00257   |\n+------------+------------+------------+------------+------------+\n"
     ]
    },
    {
     "name": "stdout",
     "output_type": "stream",
     "text": [
      "|     28     |  0.29967   |  0.02299   |  0.00250   |  0.00258   |\n+------------+------------+------------+------------+------------+\n"
     ]
    },
    {
     "name": "stdout",
     "output_type": "stream",
     "text": [
      "|     30     |  0.29980   |  0.02292   |  0.00250   |  0.00259   |\n+------------+------------+------------+------------+------------+\n"
     ]
    },
    {
     "name": "stdout",
     "output_type": "stream",
     "text": [
      "|     32     |  0.29967   |  0.02279   |  0.00251   |  0.00259   |\n+------------+------------+------------+------------+------------+\n"
     ]
    },
    {
     "name": "stdout",
     "output_type": "stream",
     "text": [
      "|     34     |  0.29961   |  0.02292   |  0.00251   |  0.00260   |\n+------------+------------+------------+------------+------------+\n"
     ]
    },
    {
     "name": "stdout",
     "output_type": "stream",
     "text": [
      "|     36     |  0.29915   |  0.02292   |  0.00251   |  0.00260   |\n+------------+------------+------------+------------+------------+\n"
     ]
    },
    {
     "name": "stdout",
     "output_type": "stream",
     "text": [
      "|     38     |  0.29895   |  0.02292   |  0.00252   |  0.00260   |\n+------------+------------+------------+------------+------------+\nalpha: 10 | regularization: 10.0 | num_factors: 10\n+------------+------------+------------+------------+------------+\n|   epochs   | p@k train  |  p@k test  | mse train  |  mse test  |\n+============+============+============+============+============+\n"
     ]
    },
    {
     "name": "stdout",
     "output_type": "stream",
     "text": [
      "|     2      |  0.16313   |  0.01388   |  0.00255   |  0.00221   |\n+------------+------------+------------+------------+------------+\n"
     ]
    },
    {
     "name": "stdout",
     "output_type": "stream",
     "text": [
      "|     4      |  0.15023   |  0.01788   |  0.00256   |  0.00231   |\n+------------+------------+------------+------------+------------+\n"
     ]
    },
    {
     "name": "stdout",
     "output_type": "stream",
     "text": [
      "|     6      |  0.14728   |  0.01742   |  0.00256   |  0.00232   |\n+------------+------------+------------+------------+------------+\n"
     ]
    },
    {
     "name": "stdout",
     "output_type": "stream",
     "text": [
      "|     8      |  0.14761   |  0.01670   |  0.00256   |  0.00232   |\n+------------+------------+------------+------------+------------+\n"
     ]
    },
    {
     "name": "stdout",
     "output_type": "stream",
     "text": [
      "|     10     |  0.14506   |  0.01670   |  0.00256   |  0.00232   |\n+------------+------------+------------+------------+------------+\n"
     ]
    },
    {
     "name": "stdout",
     "output_type": "stream",
     "text": [
      "|     12     |  0.14250   |  0.01690   |  0.00255   |  0.00231   |\n+------------+------------+------------+------------+------------+\n"
     ]
    },
    {
     "name": "stdout",
     "output_type": "stream",
     "text": [
      "|     14     |  0.14296   |  0.01670   |  0.00255   |  0.00231   |\n+------------+------------+------------+------------+------------+\n"
     ]
    },
    {
     "name": "stdout",
     "output_type": "stream",
     "text": [
      "|     16     |  0.14191   |  0.01631   |  0.00255   |  0.00231   |\n+------------+------------+------------+------------+------------+\n"
     ]
    },
    {
     "name": "stdout",
     "output_type": "stream",
     "text": [
      "|     18     |  0.14067   |  0.01670   |  0.00255   |  0.00231   |\n+------------+------------+------------+------------+------------+\n"
     ]
    },
    {
     "name": "stdout",
     "output_type": "stream",
     "text": [
      "|     20     |  0.14073   |  0.01644   |  0.00255   |  0.00231   |\n+------------+------------+------------+------------+------------+\n"
     ]
    },
    {
     "name": "stdout",
     "output_type": "stream",
     "text": [
      "|     22     |  0.13995   |  0.01624   |  0.00255   |  0.00231   |\n+------------+------------+------------+------------+------------+\n"
     ]
    },
    {
     "name": "stdout",
     "output_type": "stream",
     "text": [
      "|     24     |  0.13936   |  0.01631   |  0.00255   |  0.00231   |\n+------------+------------+------------+------------+------------+\n"
     ]
    },
    {
     "name": "stdout",
     "output_type": "stream",
     "text": [
      "|     26     |  0.13929   |  0.01624   |  0.00255   |  0.00231   |\n+------------+------------+------------+------------+------------+\n"
     ]
    },
    {
     "name": "stdout",
     "output_type": "stream",
     "text": [
      "|     28     |  0.13923   |  0.01631   |  0.00255   |  0.00231   |\n+------------+------------+------------+------------+------------+\n"
     ]
    },
    {
     "name": "stdout",
     "output_type": "stream",
     "text": [
      "|     30     |  0.13923   |  0.01631   |  0.00254   |  0.00231   |\n+------------+------------+------------+------------+------------+\n"
     ]
    },
    {
     "name": "stdout",
     "output_type": "stream",
     "text": [
      "|     32     |  0.13929   |  0.01611   |  0.00254   |  0.00231   |\n+------------+------------+------------+------------+------------+\n"
     ]
    },
    {
     "name": "stdout",
     "output_type": "stream",
     "text": [
      "|     34     |  0.13916   |  0.01604   |  0.00254   |  0.00230   |\n+------------+------------+------------+------------+------------+\n"
     ]
    },
    {
     "name": "stdout",
     "output_type": "stream",
     "text": [
      "|     36     |  0.13916   |  0.01598   |  0.00254   |  0.00230   |\n+------------+------------+------------+------------+------------+\n"
     ]
    },
    {
     "name": "stdout",
     "output_type": "stream",
     "text": [
      "|     38     |  0.13897   |  0.01598   |  0.00254   |  0.00230   |\n+------------+------------+------------+------------+------------+\nalpha: 10 | regularization: 10.0 | num_factors: 20\n+------------+------------+------------+------------+------------+\n|   epochs   | p@k train  |  p@k test  | mse train  |  mse test  |\n+============+============+============+============+============+\n"
     ]
    },
    {
     "name": "stdout",
     "output_type": "stream",
     "text": [
      "|     2      |  0.22017   |  0.01467   |  0.00252   |  0.00232   |\n+------------+------------+------------+------------+------------+\n"
     ]
    },
    {
     "name": "stdout",
     "output_type": "stream",
     "text": [
      "|     4      |  0.19987   |  0.01997   |  0.00251   |  0.00240   |\n+------------+------------+------------+------------+------------+\n"
     ]
    },
    {
     "name": "stdout",
     "output_type": "stream",
     "text": [
      "|     6      |  0.20144   |  0.02024   |  0.00252   |  0.00242   |\n+------------+------------+------------+------------+------------+\n"
     ]
    },
    {
     "name": "stdout",
     "output_type": "stream",
     "text": [
      "|     8      |  0.20472   |  0.02043   |  0.00252   |  0.00242   |\n+------------+------------+------------+------------+------------+\n"
     ]
    },
    {
     "name": "stdout",
     "output_type": "stream",
     "text": [
      "|     10     |  0.20602   |  0.02024   |  0.00252   |  0.00242   |\n+------------+------------+------------+------------+------------+\n"
     ]
    },
    {
     "name": "stdout",
     "output_type": "stream",
     "text": [
      "|     12     |  0.20694   |  0.02043   |  0.00252   |  0.00242   |\n+------------+------------+------------+------------+------------+\n"
     ]
    },
    {
     "name": "stdout",
     "output_type": "stream",
     "text": [
      "|     14     |  0.20707   |  0.02030   |  0.00252   |  0.00242   |\n+------------+------------+------------+------------+------------+\n"
     ]
    },
    {
     "name": "stdout",
     "output_type": "stream",
     "text": [
      "|     16     |  0.20714   |  0.02017   |  0.00252   |  0.00242   |\n+------------+------------+------------+------------+------------+\n"
     ]
    },
    {
     "name": "stdout",
     "output_type": "stream",
     "text": [
      "|     18     |  0.20688   |  0.02017   |  0.00252   |  0.00242   |\n+------------+------------+------------+------------+------------+\n"
     ]
    },
    {
     "name": "stdout",
     "output_type": "stream",
     "text": [
      "|     20     |  0.20720   |  0.02010   |  0.00252   |  0.00242   |\n+------------+------------+------------+------------+------------+\n"
     ]
    },
    {
     "name": "stdout",
     "output_type": "stream",
     "text": [
      "|     22     |  0.20655   |  0.01984   |  0.00252   |  0.00242   |\n+------------+------------+------------+------------+------------+\n"
     ]
    },
    {
     "name": "stdout",
     "output_type": "stream",
     "text": [
      "|     24     |  0.20668   |  0.02010   |  0.00252   |  0.00242   |\n+------------+------------+------------+------------+------------+\n"
     ]
    },
    {
     "name": "stdout",
     "output_type": "stream",
     "text": [
      "|     26     |  0.20727   |  0.02024   |  0.00252   |  0.00242   |\n+------------+------------+------------+------------+------------+\n"
     ]
    },
    {
     "name": "stdout",
     "output_type": "stream",
     "text": [
      "|     28     |  0.20740   |  0.02043   |  0.00252   |  0.00242   |\n+------------+------------+------------+------------+------------+\n"
     ]
    },
    {
     "name": "stdout",
     "output_type": "stream",
     "text": [
      "|     30     |  0.20655   |  0.02037   |  0.00252   |  0.00242   |\n+------------+------------+------------+------------+------------+\n"
     ]
    },
    {
     "name": "stdout",
     "output_type": "stream",
     "text": [
      "|     32     |  0.20622   |  0.02037   |  0.00252   |  0.00242   |\n+------------+------------+------------+------------+------------+\n"
     ]
    },
    {
     "name": "stdout",
     "output_type": "stream",
     "text": [
      "|     34     |  0.20622   |  0.02024   |  0.00252   |  0.00242   |\n+------------+------------+------------+------------+------------+\n"
     ]
    },
    {
     "name": "stdout",
     "output_type": "stream",
     "text": [
      "|     36     |  0.20681   |  0.02024   |  0.00252   |  0.00242   |\n+------------+------------+------------+------------+------------+\n"
     ]
    },
    {
     "name": "stdout",
     "output_type": "stream",
     "text": [
      "|     38     |  0.20720   |  0.02043   |  0.00252   |  0.00242   |\n+------------+------------+------------+------------+------------+\nalpha: 10 | regularization: 10.0 | num_factors: 40\n+------------+------------+------------+------------+------------+\n|   epochs   | p@k train  |  p@k test  | mse train  |  mse test  |\n+============+============+============+============+============+\n"
     ]
    },
    {
     "name": "stdout",
     "output_type": "stream",
     "text": [
      "|     2      |  0.32377   |  0.01657   |  0.00246   |  0.00245   |\n+------------+------------+------------+------------+------------+\n"
     ]
    },
    {
     "name": "stdout",
     "output_type": "stream",
     "text": [
      "|     4      |  0.30707   |  0.02141   |  0.00244   |  0.00250   |\n+------------+------------+------------+------------+------------+\n"
     ]
    },
    {
     "name": "stdout",
     "output_type": "stream",
     "text": [
      "|     6      |  0.30504   |  0.02292   |  0.00243   |  0.00251   |\n+------------+------------+------------+------------+------------+\n"
     ]
    },
    {
     "name": "stdout",
     "output_type": "stream",
     "text": [
      "|     8      |  0.30413   |  0.02312   |  0.00243   |  0.00251   |\n+------------+------------+------------+------------+------------+\n"
     ]
    },
    {
     "name": "stdout",
     "output_type": "stream",
     "text": [
      "|     10     |  0.30269   |  0.02331   |  0.00243   |  0.00251   |\n+------------+------------+------------+------------+------------+\n"
     ]
    },
    {
     "name": "stdout",
     "output_type": "stream",
     "text": [
      "|     12     |  0.30249   |  0.02338   |  0.00243   |  0.00251   |\n+------------+------------+------------+------------+------------+\n"
     ]
    },
    {
     "name": "stdout",
     "output_type": "stream",
     "text": [
      "|     14     |  0.30079   |  0.02351   |  0.00243   |  0.00251   |\n+------------+------------+------------+------------+------------+\n"
     ]
    },
    {
     "name": "stdout",
     "output_type": "stream",
     "text": [
      "|     16     |  0.29849   |  0.02364   |  0.00243   |  0.00251   |\n+------------+------------+------------+------------+------------+\n"
     ]
    },
    {
     "name": "stdout",
     "output_type": "stream",
     "text": [
      "|     18     |  0.29738   |  0.02364   |  0.00243   |  0.00251   |\n+------------+------------+------------+------------+------------+\n"
     ]
    },
    {
     "name": "stdout",
     "output_type": "stream",
     "text": [
      "|     20     |  0.29725   |  0.02371   |  0.00243   |  0.00251   |\n+------------+------------+------------+------------+------------+\n"
     ]
    },
    {
     "name": "stdout",
     "output_type": "stream",
     "text": [
      "|     22     |  0.29659   |  0.02358   |  0.00243   |  0.00251   |\n+------------+------------+------------+------------+------------+\n"
     ]
    },
    {
     "name": "stdout",
     "output_type": "stream",
     "text": [
      "|     24     |  0.29594   |  0.02351   |  0.00243   |  0.00251   |\n+------------+------------+------------+------------+------------+\n"
     ]
    },
    {
     "name": "stdout",
     "output_type": "stream",
     "text": [
      "|     26     |  0.29574   |  0.02312   |  0.00243   |  0.00251   |\n+------------+------------+------------+------------+------------+\n"
     ]
    },
    {
     "name": "stdout",
     "output_type": "stream",
     "text": [
      "|     28     |  0.29522   |  0.02338   |  0.00243   |  0.00251   |\n+------------+------------+------------+------------+------------+\n"
     ]
    },
    {
     "name": "stdout",
     "output_type": "stream",
     "text": [
      "|     30     |  0.29463   |  0.02331   |  0.00243   |  0.00251   |\n+------------+------------+------------+------------+------------+\n"
     ]
    },
    {
     "name": "stdout",
     "output_type": "stream",
     "text": [
      "|     32     |  0.29456   |  0.02318   |  0.00243   |  0.00251   |\n+------------+------------+------------+------------+------------+\n"
     ]
    },
    {
     "name": "stdout",
     "output_type": "stream",
     "text": [
      "|     34     |  0.29417   |  0.02305   |  0.00243   |  0.00251   |\n+------------+------------+------------+------------+------------+\n"
     ]
    },
    {
     "name": "stdout",
     "output_type": "stream",
     "text": [
      "|     36     |  0.29470   |  0.02318   |  0.00243   |  0.00251   |\n+------------+------------+------------+------------+------------+\n"
     ]
    },
    {
     "name": "stdout",
     "output_type": "stream",
     "text": [
      "|     38     |  0.29483   |  0.02312   |  0.00244   |  0.00251   |\n+------------+------------+------------+------------+------------+\nalpha: 50 | regularization: 0.0 | num_factors: 10\n+------------+------------+------------+------------+------------+\n|   epochs   | p@k train  |  p@k test  | mse train  |  mse test  |\n+============+============+============+============+============+\n"
     ]
    },
    {
     "name": "stdout",
     "output_type": "stream",
     "text": [
      "|     2      |  0.15377   |  0.01303   |  0.01028   |  0.01049   |\n+------------+------------+------------+------------+------------+\n"
     ]
    },
    {
     "name": "stdout",
     "output_type": "stream",
     "text": [
      "|     4      |  0.13988   |  0.01676   |  0.01021   |  0.01057   |\n+------------+------------+------------+------------+------------+\n"
     ]
    },
    {
     "name": "stdout",
     "output_type": "stream",
     "text": [
      "|     6      |  0.13844   |  0.01624   |  0.01018   |  0.01056   |\n+------------+------------+------------+------------+------------+\n"
     ]
    },
    {
     "name": "stdout",
     "output_type": "stream",
     "text": [
      "|     8      |  0.13916   |  0.01696   |  0.01016   |  0.01054   |\n+------------+------------+------------+------------+------------+\n"
     ]
    },
    {
     "name": "stdout",
     "output_type": "stream",
     "text": [
      "|     10     |  0.14244   |  0.01722   |  0.01014   |  0.01052   |\n+------------+------------+------------+------------+------------+\n"
     ]
    },
    {
     "name": "stdout",
     "output_type": "stream",
     "text": [
      "|     12     |  0.14257   |  0.01801   |  0.01013   |  0.01052   |\n+------------+------------+------------+------------+------------+\n"
     ]
    },
    {
     "name": "stdout",
     "output_type": "stream",
     "text": [
      "|     14     |  0.14289   |  0.01814   |  0.01013   |  0.01051   |\n+------------+------------+------------+------------+------------+\n"
     ]
    },
    {
     "name": "stdout",
     "output_type": "stream",
     "text": [
      "|     16     |  0.14283   |  0.01755   |  0.01013   |  0.01051   |\n+------------+------------+------------+------------+------------+\n"
     ]
    },
    {
     "name": "stdout",
     "output_type": "stream",
     "text": [
      "|     18     |  0.14257   |  0.01729   |  0.01013   |  0.01051   |\n+------------+------------+------------+------------+------------+\n"
     ]
    },
    {
     "name": "stdout",
     "output_type": "stream",
     "text": [
      "|     20     |  0.14067   |  0.01696   |  0.01012   |  0.01051   |\n+------------+------------+------------+------------+------------+\n"
     ]
    },
    {
     "name": "stdout",
     "output_type": "stream",
     "text": [
      "|     22     |  0.13995   |  0.01696   |  0.01012   |  0.01051   |\n+------------+------------+------------+------------+------------+\n"
     ]
    },
    {
     "name": "stdout",
     "output_type": "stream",
     "text": [
      "|     24     |  0.14034   |  0.01670   |  0.01012   |  0.01051   |\n+------------+------------+------------+------------+------------+\n"
     ]
    },
    {
     "name": "stdout",
     "output_type": "stream",
     "text": [
      "|     26     |  0.14080   |  0.01676   |  0.01012   |  0.01051   |\n+------------+------------+------------+------------+------------+\n"
     ]
    },
    {
     "name": "stdout",
     "output_type": "stream",
     "text": [
      "|     28     |  0.14060   |  0.01663   |  0.01012   |  0.01051   |\n+------------+------------+------------+------------+------------+\n"
     ]
    },
    {
     "name": "stdout",
     "output_type": "stream",
     "text": [
      "|     30     |  0.14034   |  0.01657   |  0.01012   |  0.01051   |\n+------------+------------+------------+------------+------------+\n"
     ]
    },
    {
     "name": "stdout",
     "output_type": "stream",
     "text": [
      "|     32     |  0.14073   |  0.01657   |  0.01012   |  0.01051   |\n+------------+------------+------------+------------+------------+\n"
     ]
    },
    {
     "name": "stdout",
     "output_type": "stream",
     "text": [
      "|     34     |  0.14073   |  0.01683   |  0.01012   |  0.01051   |\n+------------+------------+------------+------------+------------+\n"
     ]
    },
    {
     "name": "stdout",
     "output_type": "stream",
     "text": [
      "|     36     |  0.14060   |  0.01670   |  0.01012   |  0.01051   |\n+------------+------------+------------+------------+------------+\n"
     ]
    },
    {
     "name": "stdout",
     "output_type": "stream",
     "text": [
      "|     38     |  0.14054   |  0.01663   |  0.01012   |  0.01051   |\n+------------+------------+------------+------------+------------+\nalpha: 50 | regularization: 0.0 | num_factors: 20\n+------------+------------+------------+------------+------------+\n|   epochs   | p@k train  |  p@k test  | mse train  |  mse test  |\n+============+============+============+============+============+\n"
     ]
    },
    {
     "name": "stdout",
     "output_type": "stream",
     "text": [
      "|     2      |  0.23353   |  0.01460   |  0.01019   |  0.01058   |\n+------------+------------+------------+------------+------------+\n"
     ]
    },
    {
     "name": "stdout",
     "output_type": "stream",
     "text": [
      "|     4      |  0.21532   |  0.02102   |  0.01000   |  0.01051   |\n+------------+------------+------------+------------+------------+\n"
     ]
    },
    {
     "name": "stdout",
     "output_type": "stream",
     "text": [
      "|     6      |  0.21002   |  0.02305   |  0.00996   |  0.01049   |\n+------------+------------+------------+------------+------------+\n"
     ]
    },
    {
     "name": "stdout",
     "output_type": "stream",
     "text": [
      "|     8      |  0.20786   |  0.02194   |  0.00995   |  0.01048   |\n+------------+------------+------------+------------+------------+\n"
     ]
    },
    {
     "name": "stdout",
     "output_type": "stream",
     "text": [
      "|     10     |  0.20760   |  0.02187   |  0.00994   |  0.01047   |\n+------------+------------+------------+------------+------------+\n"
     ]
    },
    {
     "name": "stdout",
     "output_type": "stream",
     "text": [
      "|     12     |  0.20681   |  0.02174   |  0.00993   |  0.01047   |\n+------------+------------+------------+------------+------------+\n"
     ]
    },
    {
     "name": "stdout",
     "output_type": "stream",
     "text": [
      "|     14     |  0.20557   |  0.02181   |  0.00993   |  0.01046   |\n+------------+------------+------------+------------+------------+\n"
     ]
    },
    {
     "name": "stdout",
     "output_type": "stream",
     "text": [
      "|     16     |  0.20537   |  0.02135   |  0.00992   |  0.01046   |\n+------------+------------+------------+------------+------------+\n"
     ]
    },
    {
     "name": "stdout",
     "output_type": "stream",
     "text": [
      "|     18     |  0.20393   |  0.02161   |  0.00992   |  0.01046   |\n+------------+------------+------------+------------+------------+\n"
     ]
    },
    {
     "name": "stdout",
     "output_type": "stream",
     "text": [
      "|     20     |  0.20321   |  0.02194   |  0.00992   |  0.01046   |\n+------------+------------+------------+------------+------------+\n"
     ]
    },
    {
     "name": "stdout",
     "output_type": "stream",
     "text": [
      "|     22     |  0.20144   |  0.02246   |  0.00992   |  0.01046   |\n+------------+------------+------------+------------+------------+\n"
     ]
    },
    {
     "name": "stdout",
     "output_type": "stream",
     "text": [
      "|     24     |  0.20216   |  0.02233   |  0.00992   |  0.01046   |\n+------------+------------+------------+------------+------------+\n"
     ]
    },
    {
     "name": "stdout",
     "output_type": "stream",
     "text": [
      "|     26     |  0.20242   |  0.02253   |  0.00992   |  0.01046   |\n+------------+------------+------------+------------+------------+\n"
     ]
    },
    {
     "name": "stdout",
     "output_type": "stream",
     "text": [
      "|     28     |  0.20229   |  0.02253   |  0.00992   |  0.01046   |\n+------------+------------+------------+------------+------------+\n"
     ]
    },
    {
     "name": "stdout",
     "output_type": "stream",
     "text": [
      "|     30     |  0.20236   |  0.02240   |  0.00992   |  0.01046   |\n+------------+------------+------------+------------+------------+\n"
     ]
    },
    {
     "name": "stdout",
     "output_type": "stream",
     "text": [
      "|     32     |  0.20203   |  0.02240   |  0.00992   |  0.01046   |\n+------------+------------+------------+------------+------------+\n"
     ]
    },
    {
     "name": "stdout",
     "output_type": "stream",
     "text": [
      "|     34     |  0.20196   |  0.02240   |  0.00992   |  0.01046   |\n+------------+------------+------------+------------+------------+\n"
     ]
    },
    {
     "name": "stdout",
     "output_type": "stream",
     "text": [
      "|     36     |  0.20098   |  0.02233   |  0.00992   |  0.01046   |\n+------------+------------+------------+------------+------------+\n"
     ]
    },
    {
     "name": "stdout",
     "output_type": "stream",
     "text": [
      "|     38     |  0.20092   |  0.02233   |  0.00992   |  0.01046   |\n+------------+------------+------------+------------+------------+\nalpha: 50 | regularization: 0.0 | num_factors: 40\n+------------+------------+------------+------------+------------+\n|   epochs   | p@k train  |  p@k test  | mse train  |  mse test  |\n+============+============+============+============+============+\n"
     ]
    },
    {
     "name": "stdout",
     "output_type": "stream",
     "text": [
      "|     2      |  0.34787   |  0.01460   |  0.00995   |  0.01054   |\n+------------+------------+------------+------------+------------+\n"
     ]
    },
    {
     "name": "stdout",
     "output_type": "stream",
     "text": [
      "|     4      |  0.32089   |  0.02344   |  0.00966   |  0.01034   |\n+------------+------------+------------+------------+------------+\n"
     ]
    },
    {
     "name": "stdout",
     "output_type": "stream",
     "text": [
      "|     6      |  0.30589   |  0.02462   |  0.00958   |  0.01028   |\n+------------+------------+------------+------------+------------+\n"
     ]
    },
    {
     "name": "stdout",
     "output_type": "stream",
     "text": [
      "|     8      |  0.29993   |  0.02495   |  0.00955   |  0.01025   |\n+------------+------------+------------+------------+------------+\n"
     ]
    },
    {
     "name": "stdout",
     "output_type": "stream",
     "text": [
      "|     10     |  0.29633   |  0.02423   |  0.00952   |  0.01024   |\n+------------+------------+------------+------------+------------+\n"
     ]
    },
    {
     "name": "stdout",
     "output_type": "stream",
     "text": [
      "|     12     |  0.29601   |  0.02475   |  0.00951   |  0.01022   |\n+------------+------------+------------+------------+------------+\n"
     ]
    },
    {
     "name": "stdout",
     "output_type": "stream",
     "text": [
      "|     14     |  0.29437   |  0.02502   |  0.00950   |  0.01022   |\n+------------+------------+------------+------------+------------+\n"
     ]
    },
    {
     "name": "stdout",
     "output_type": "stream",
     "text": [
      "|     16     |  0.29286   |  0.02495   |  0.00949   |  0.01021   |\n+------------+------------+------------+------------+------------+\n"
     ]
    },
    {
     "name": "stdout",
     "output_type": "stream",
     "text": [
      "|     18     |  0.29260   |  0.02528   |  0.00949   |  0.01021   |\n+------------+------------+------------+------------+------------+\n"
     ]
    },
    {
     "name": "stdout",
     "output_type": "stream",
     "text": [
      "|     20     |  0.29024   |  0.02541   |  0.00949   |  0.01020   |\n+------------+------------+------------+------------+------------+\n"
     ]
    },
    {
     "name": "stdout",
     "output_type": "stream",
     "text": [
      "|     22     |  0.28861   |  0.02528   |  0.00948   |  0.01020   |\n+------------+------------+------------+------------+------------+\n"
     ]
    },
    {
     "name": "stdout",
     "output_type": "stream",
     "text": [
      "|     24     |  0.28808   |  0.02534   |  0.00948   |  0.01020   |\n+------------+------------+------------+------------+------------+\n"
     ]
    },
    {
     "name": "stdout",
     "output_type": "stream",
     "text": [
      "|     26     |  0.28808   |  0.02554   |  0.00948   |  0.01020   |\n+------------+------------+------------+------------+------------+\n"
     ]
    },
    {
     "name": "stdout",
     "output_type": "stream",
     "text": [
      "|     28     |  0.28697   |  0.02547   |  0.00948   |  0.01020   |\n+------------+------------+------------+------------+------------+\n"
     ]
    },
    {
     "name": "stdout",
     "output_type": "stream",
     "text": [
      "|     30     |  0.28795   |  0.02521   |  0.00948   |  0.01020   |\n+------------+------------+------------+------------+------------+\n"
     ]
    },
    {
     "name": "stdout",
     "output_type": "stream",
     "text": [
      "|     32     |  0.28769   |  0.02489   |  0.00948   |  0.01020   |\n+------------+------------+------------+------------+------------+\n"
     ]
    },
    {
     "name": "stdout",
     "output_type": "stream",
     "text": [
      "|     34     |  0.28657   |  0.02489   |  0.00948   |  0.01020   |\n+------------+------------+------------+------------+------------+\n"
     ]
    },
    {
     "name": "stdout",
     "output_type": "stream",
     "text": [
      "|     36     |  0.28697   |  0.02502   |  0.00948   |  0.01020   |\n+------------+------------+------------+------------+------------+\n"
     ]
    },
    {
     "name": "stdout",
     "output_type": "stream",
     "text": [
      "|     38     |  0.28644   |  0.02508   |  0.00948   |  0.01020   |\n+------------+------------+------------+------------+------------+\nalpha: 50 | regularization: 0.1 | num_factors: 10\n+------------+------------+------------+------------+------------+\n|   epochs   | p@k train  |  p@k test  | mse train  |  mse test  |\n+============+============+============+============+============+\n"
     ]
    },
    {
     "name": "stdout",
     "output_type": "stream",
     "text": [
      "|     2      |  0.15082   |  0.01087   |  0.00989   |  0.01006   |\n+------------+------------+------------+------------+------------+\n"
     ]
    },
    {
     "name": "stdout",
     "output_type": "stream",
     "text": [
      "|     4      |  0.14813   |  0.01716   |  0.00985   |  0.01019   |\n+------------+------------+------------+------------+------------+\n"
     ]
    },
    {
     "name": "stdout",
     "output_type": "stream",
     "text": [
      "|     6      |  0.14722   |  0.01755   |  0.00988   |  0.01023   |\n+------------+------------+------------+------------+------------+\n"
     ]
    },
    {
     "name": "stdout",
     "output_type": "stream",
     "text": [
      "|     8      |  0.14597   |  0.01788   |  0.00990   |  0.01026   |\n+------------+------------+------------+------------+------------+\n"
     ]
    },
    {
     "name": "stdout",
     "output_type": "stream",
     "text": [
      "|     10     |  0.14506   |  0.01768   |  0.00990   |  0.01027   |\n+------------+------------+------------+------------+------------+\n"
     ]
    },
    {
     "name": "stdout",
     "output_type": "stream",
     "text": [
      "|     12     |  0.14388   |  0.01801   |  0.00990   |  0.01027   |\n+------------+------------+------------+------------+------------+\n"
     ]
    },
    {
     "name": "stdout",
     "output_type": "stream",
     "text": [
      "|     14     |  0.14178   |  0.01794   |  0.00990   |  0.01027   |\n+------------+------------+------------+------------+------------+\n"
     ]
    },
    {
     "name": "stdout",
     "output_type": "stream",
     "text": [
      "|     16     |  0.14152   |  0.01794   |  0.00990   |  0.01027   |\n+------------+------------+------------+------------+------------+\n"
     ]
    },
    {
     "name": "stdout",
     "output_type": "stream",
     "text": [
      "|     18     |  0.14211   |  0.01775   |  0.00991   |  0.01028   |\n+------------+------------+------------+------------+------------+\n"
     ]
    },
    {
     "name": "stdout",
     "output_type": "stream",
     "text": [
      "|     20     |  0.14152   |  0.01755   |  0.00991   |  0.01028   |\n+------------+------------+------------+------------+------------+\n"
     ]
    },
    {
     "name": "stdout",
     "output_type": "stream",
     "text": [
      "|     22     |  0.14185   |  0.01768   |  0.00991   |  0.01029   |\n+------------+------------+------------+------------+------------+\n"
     ]
    },
    {
     "name": "stdout",
     "output_type": "stream",
     "text": [
      "|     24     |  0.14244   |  0.01762   |  0.00992   |  0.01029   |\n+------------+------------+------------+------------+------------+\n"
     ]
    },
    {
     "name": "stdout",
     "output_type": "stream",
     "text": [
      "|     26     |  0.14217   |  0.01762   |  0.00992   |  0.01030   |\n+------------+------------+------------+------------+------------+\n"
     ]
    },
    {
     "name": "stdout",
     "output_type": "stream",
     "text": [
      "|     28     |  0.14276   |  0.01775   |  0.00993   |  0.01030   |\n+------------+------------+------------+------------+------------+\n"
     ]
    },
    {
     "name": "stdout",
     "output_type": "stream",
     "text": [
      "|     30     |  0.14316   |  0.01781   |  0.00993   |  0.01031   |\n+------------+------------+------------+------------+------------+\n"
     ]
    },
    {
     "name": "stdout",
     "output_type": "stream",
     "text": [
      "|     32     |  0.14316   |  0.01807   |  0.00994   |  0.01031   |\n+------------+------------+------------+------------+------------+\n"
     ]
    },
    {
     "name": "stdout",
     "output_type": "stream",
     "text": [
      "|     34     |  0.14407   |  0.01794   |  0.00994   |  0.01032   |\n+------------+------------+------------+------------+------------+\n"
     ]
    },
    {
     "name": "stdout",
     "output_type": "stream",
     "text": [
      "|     36     |  0.14394   |  0.01781   |  0.00995   |  0.01032   |\n+------------+------------+------------+------------+------------+\n"
     ]
    },
    {
     "name": "stdout",
     "output_type": "stream",
     "text": [
      "|     38     |  0.14420   |  0.01788   |  0.00995   |  0.01033   |\n+------------+------------+------------+------------+------------+\nalpha: 50 | regularization: 0.1 | num_factors: 20\n+------------+------------+------------+------------+------------+\n|   epochs   | p@k train  |  p@k test  | mse train  |  mse test  |\n+============+============+============+============+============+\n"
     ]
    },
    {
     "name": "stdout",
     "output_type": "stream",
     "text": [
      "|     2      |  0.23255   |  0.01382   |  0.00977   |  0.01013   |\n+------------+------------+------------+------------+------------+\n"
     ]
    },
    {
     "name": "stdout",
     "output_type": "stream",
     "text": [
      "|     4      |  0.21546   |  0.02109   |  0.00960   |  0.01008   |\n+------------+------------+------------+------------+------------+\n"
     ]
    },
    {
     "name": "stdout",
     "output_type": "stream",
     "text": [
      "|     6      |  0.20766   |  0.02148   |  0.00960   |  0.01010   |\n+------------+------------+------------+------------+------------+\n"
     ]
    },
    {
     "name": "stdout",
     "output_type": "stream",
     "text": [
      "|     8      |  0.20439   |  0.02227   |  0.00960   |  0.01011   |\n+------------+------------+------------+------------+------------+\n"
     ]
    },
    {
     "name": "stdout",
     "output_type": "stream",
     "text": [
      "|     10     |  0.20321   |  0.02161   |  0.00961   |  0.01012   |\n+------------+------------+------------+------------+------------+\n"
     ]
    },
    {
     "name": "stdout",
     "output_type": "stream",
     "text": [
      "|     12     |  0.20157   |  0.02128   |  0.00962   |  0.01014   |\n+------------+------------+------------+------------+------------+\n"
     ]
    },
    {
     "name": "stdout",
     "output_type": "stream",
     "text": [
      "|     14     |  0.20052   |  0.02141   |  0.00964   |  0.01015   |\n+------------+------------+------------+------------+------------+\n"
     ]
    },
    {
     "name": "stdout",
     "output_type": "stream",
     "text": [
      "|     16     |  0.19941   |  0.02122   |  0.00965   |  0.01017   |\n+------------+------------+------------+------------+------------+\n"
     ]
    },
    {
     "name": "stdout",
     "output_type": "stream",
     "text": [
      "|     18     |  0.19849   |  0.02096   |  0.00966   |  0.01018   |\n+------------+------------+------------+------------+------------+\n"
     ]
    },
    {
     "name": "stdout",
     "output_type": "stream",
     "text": [
      "|     20     |  0.20000   |  0.02102   |  0.00967   |  0.01019   |\n+------------+------------+------------+------------+------------+\n"
     ]
    },
    {
     "name": "stdout",
     "output_type": "stream",
     "text": [
      "|     22     |  0.19928   |  0.02122   |  0.00968   |  0.01020   |\n+------------+------------+------------+------------+------------+\n"
     ]
    },
    {
     "name": "stdout",
     "output_type": "stream",
     "text": [
      "|     24     |  0.19882   |  0.02135   |  0.00969   |  0.01021   |\n+------------+------------+------------+------------+------------+\n"
     ]
    },
    {
     "name": "stdout",
     "output_type": "stream",
     "text": [
      "|     26     |  0.19790   |  0.02155   |  0.00970   |  0.01022   |\n+------------+------------+------------+------------+------------+\n"
     ]
    },
    {
     "name": "stdout",
     "output_type": "stream",
     "text": [
      "|     28     |  0.19738   |  0.02135   |  0.00970   |  0.01023   |\n+------------+------------+------------+------------+------------+\n"
     ]
    },
    {
     "name": "stdout",
     "output_type": "stream",
     "text": [
      "|     30     |  0.19771   |  0.02148   |  0.00971   |  0.01024   |\n+------------+------------+------------+------------+------------+\n"
     ]
    },
    {
     "name": "stdout",
     "output_type": "stream",
     "text": [
      "|     32     |  0.19745   |  0.02135   |  0.00972   |  0.01024   |\n+------------+------------+------------+------------+------------+\n"
     ]
    },
    {
     "name": "stdout",
     "output_type": "stream",
     "text": [
      "|     34     |  0.19731   |  0.02122   |  0.00972   |  0.01025   |\n+------------+------------+------------+------------+------------+\n"
     ]
    },
    {
     "name": "stdout",
     "output_type": "stream",
     "text": [
      "|     36     |  0.19751   |  0.02141   |  0.00973   |  0.01026   |\n+------------+------------+------------+------------+------------+\n"
     ]
    },
    {
     "name": "stdout",
     "output_type": "stream",
     "text": [
      "|     38     |  0.19718   |  0.02135   |  0.00974   |  0.01026   |\n+------------+------------+------------+------------+------------+\nalpha: 50 | regularization: 0.1 | num_factors: 40\n+------------+------------+------------+------------+------------+\n|   epochs   | p@k train  |  p@k test  | mse train  |  mse test  |\n+============+============+============+============+============+\n"
     ]
    },
    {
     "name": "stdout",
     "output_type": "stream",
     "text": [
      "|     2      |  0.34597   |  0.01591   |  0.00945   |  0.00999   |\n+------------+------------+------------+------------+------------+\n"
     ]
    },
    {
     "name": "stdout",
     "output_type": "stream",
     "text": [
      "|     4      |  0.31146   |  0.02331   |  0.00921   |  0.00985   |\n+------------+------------+------------+------------+------------+\n"
     ]
    },
    {
     "name": "stdout",
     "output_type": "stream",
     "text": [
      "|     6      |  0.29804   |  0.02462   |  0.00917   |  0.00984   |\n+------------+------------+------------+------------+------------+\n"
     ]
    },
    {
     "name": "stdout",
     "output_type": "stream",
     "text": [
      "|     8      |  0.29391   |  0.02502   |  0.00917   |  0.00984   |\n+------------+------------+------------+------------+------------+\n"
     ]
    },
    {
     "name": "stdout",
     "output_type": "stream",
     "text": [
      "|     10     |  0.28887   |  0.02436   |  0.00917   |  0.00986   |\n+------------+------------+------------+------------+------------+\n"
     ]
    },
    {
     "name": "stdout",
     "output_type": "stream",
     "text": [
      "|     12     |  0.28657   |  0.02489   |  0.00918   |  0.00987   |\n+------------+------------+------------+------------+------------+\n"
     ]
    },
    {
     "name": "stdout",
     "output_type": "stream",
     "text": [
      "|     14     |  0.28271   |  0.02508   |  0.00919   |  0.00988   |\n+------------+------------+------------+------------+------------+\n"
     ]
    },
    {
     "name": "stdout",
     "output_type": "stream",
     "text": [
      "|     16     |  0.28343   |  0.02482   |  0.00920   |  0.00990   |\n+------------+------------+------------+------------+------------+\n"
     ]
    },
    {
     "name": "stdout",
     "output_type": "stream",
     "text": [
      "|     18     |  0.28304   |  0.02449   |  0.00921   |  0.00991   |\n+------------+------------+------------+------------+------------+\n"
     ]
    },
    {
     "name": "stdout",
     "output_type": "stream",
     "text": [
      "|     20     |  0.28461   |  0.02462   |  0.00922   |  0.00992   |\n+------------+------------+------------+------------+------------+\n"
     ]
    },
    {
     "name": "stdout",
     "output_type": "stream",
     "text": [
      "|     22     |  0.28546   |  0.02410   |  0.00923   |  0.00993   |\n+------------+------------+------------+------------+------------+\n"
     ]
    },
    {
     "name": "stdout",
     "output_type": "stream",
     "text": [
      "|     24     |  0.28572   |  0.02423   |  0.00924   |  0.00994   |\n+------------+------------+------------+------------+------------+\n"
     ]
    },
    {
     "name": "stdout",
     "output_type": "stream",
     "text": [
      "|     26     |  0.28454   |  0.02410   |  0.00925   |  0.00995   |\n+------------+------------+------------+------------+------------+\n"
     ]
    },
    {
     "name": "stdout",
     "output_type": "stream",
     "text": [
      "|     28     |  0.28369   |  0.02410   |  0.00926   |  0.00996   |\n+------------+------------+------------+------------+------------+\n"
     ]
    },
    {
     "name": "stdout",
     "output_type": "stream",
     "text": [
      "|     30     |  0.28415   |  0.02390   |  0.00926   |  0.00996   |\n+------------+------------+------------+------------+------------+\n"
     ]
    },
    {
     "name": "stdout",
     "output_type": "stream",
     "text": [
      "|     32     |  0.28356   |  0.02397   |  0.00927   |  0.00997   |\n+------------+------------+------------+------------+------------+\n"
     ]
    },
    {
     "name": "stdout",
     "output_type": "stream",
     "text": [
      "|     34     |  0.28369   |  0.02410   |  0.00927   |  0.00998   |\n+------------+------------+------------+------------+------------+\n"
     ]
    },
    {
     "name": "stdout",
     "output_type": "stream",
     "text": [
      "|     36     |  0.28382   |  0.02417   |  0.00928   |  0.00998   |\n+------------+------------+------------+------------+------------+\n"
     ]
    },
    {
     "name": "stdout",
     "output_type": "stream",
     "text": [
      "|     38     |  0.28350   |  0.02417   |  0.00929   |  0.00999   |\n+------------+------------+------------+------------+------------+\nalpha: 50 | regularization: 10.0 | num_factors: 10\n+------------+------------+------------+------------+------------+\n|   epochs   | p@k train  |  p@k test  | mse train  |  mse test  |\n+============+============+============+============+============+\n"
     ]
    },
    {
     "name": "stdout",
     "output_type": "stream",
     "text": [
      "|     2      |  0.14329   |  0.01264   |  0.00879   |  0.00891   |\n+------------+------------+------------+------------+------------+\n"
     ]
    },
    {
     "name": "stdout",
     "output_type": "stream",
     "text": [
      "|     4      |  0.14781   |  0.01670   |  0.00893   |  0.00920   |\n+------------+------------+------------+------------+------------+\n"
     ]
    },
    {
     "name": "stdout",
     "output_type": "stream",
     "text": [
      "|     6      |  0.14473   |  0.01762   |  0.00915   |  0.00946   |\n+------------+------------+------------+------------+------------+\n"
     ]
    },
    {
     "name": "stdout",
     "output_type": "stream",
     "text": [
      "|     8      |  0.14348   |  0.01735   |  0.00929   |  0.00962   |\n+------------+------------+------------+------------+------------+\n"
     ]
    },
    {
     "name": "stdout",
     "output_type": "stream",
     "text": [
      "|     10     |  0.14375   |  0.01755   |  0.00939   |  0.00973   |\n+------------+------------+------------+------------+------------+\n"
     ]
    },
    {
     "name": "stdout",
     "output_type": "stream",
     "text": [
      "|     12     |  0.14394   |  0.01742   |  0.00947   |  0.00981   |\n+------------+------------+------------+------------+------------+\n"
     ]
    },
    {
     "name": "stdout",
     "output_type": "stream",
     "text": [
      "|     14     |  0.14303   |  0.01755   |  0.00953   |  0.00988   |\n+------------+------------+------------+------------+------------+\n"
     ]
    },
    {
     "name": "stdout",
     "output_type": "stream",
     "text": [
      "|     16     |  0.14316   |  0.01781   |  0.00958   |  0.00993   |\n+------------+------------+------------+------------+------------+\n"
     ]
    },
    {
     "name": "stdout",
     "output_type": "stream",
     "text": [
      "|     18     |  0.14348   |  0.01807   |  0.00962   |  0.00998   |\n+------------+------------+------------+------------+------------+\n"
     ]
    },
    {
     "name": "stdout",
     "output_type": "stream",
     "text": [
      "|     20     |  0.14368   |  0.01794   |  0.00966   |  0.01002   |\n+------------+------------+------------+------------+------------+\n"
     ]
    },
    {
     "name": "stdout",
     "output_type": "stream",
     "text": [
      "|     22     |  0.14407   |  0.01807   |  0.00969   |  0.01005   |\n+------------+------------+------------+------------+------------+\n"
     ]
    },
    {
     "name": "stdout",
     "output_type": "stream",
     "text": [
      "|     24     |  0.14342   |  0.01814   |  0.00972   |  0.01008   |\n+------------+------------+------------+------------+------------+\n"
     ]
    },
    {
     "name": "stdout",
     "output_type": "stream",
     "text": [
      "|     26     |  0.14309   |  0.01801   |  0.00974   |  0.01010   |\n+------------+------------+------------+------------+------------+\n"
     ]
    },
    {
     "name": "stdout",
     "output_type": "stream",
     "text": [
      "|     28     |  0.14335   |  0.01807   |  0.00976   |  0.01012   |\n+------------+------------+------------+------------+------------+\n"
     ]
    },
    {
     "name": "stdout",
     "output_type": "stream",
     "text": [
      "|     30     |  0.14335   |  0.01794   |  0.00978   |  0.01014   |\n+------------+------------+------------+------------+------------+\n"
     ]
    },
    {
     "name": "stdout",
     "output_type": "stream",
     "text": [
      "|     32     |  0.14361   |  0.01821   |  0.00979   |  0.01016   |\n+------------+------------+------------+------------+------------+\n"
     ]
    },
    {
     "name": "stdout",
     "output_type": "stream",
     "text": [
      "|     34     |  0.14414   |  0.01821   |  0.00981   |  0.01017   |\n+------------+------------+------------+------------+------------+\n"
     ]
    },
    {
     "name": "stdout",
     "output_type": "stream",
     "text": [
      "|     36     |  0.14407   |  0.01814   |  0.00982   |  0.01019   |\n+------------+------------+------------+------------+------------+\n"
     ]
    },
    {
     "name": "stdout",
     "output_type": "stream",
     "text": [
      "|     38     |  0.14407   |  0.01814   |  0.00983   |  0.01020   |\n+------------+------------+------------+------------+------------+\nalpha: 50 | regularization: 10.0 | num_factors: 20\n+------------+------------+------------+------------+------------+\n|   epochs   | p@k train  |  p@k test  | mse train  |  mse test  |\n+============+============+============+============+============+\n"
     ]
    },
    {
     "name": "stdout",
     "output_type": "stream",
     "text": [
      "|     2      |  0.19181   |  0.01356   |  0.00833   |  0.00853   |\n+------------+------------+------------+------------+------------+\n"
     ]
    },
    {
     "name": "stdout",
     "output_type": "stream",
     "text": [
      "|     4      |  0.20576   |  0.02089   |  0.00851   |  0.00891   |\n+------------+------------+------------+------------+------------+\n"
     ]
    },
    {
     "name": "stdout",
     "output_type": "stream",
     "text": [
      "|     6      |  0.20413   |  0.02161   |  0.00880   |  0.00924   |\n+------------+------------+------------+------------+------------+\n"
     ]
    },
    {
     "name": "stdout",
     "output_type": "stream",
     "text": [
      "|     8      |  0.20026   |  0.02187   |  0.00898   |  0.00944   |\n+------------+------------+------------+------------+------------+\n"
     ]
    },
    {
     "name": "stdout",
     "output_type": "stream",
     "text": [
      "|     10     |  0.19948   |  0.02122   |  0.00911   |  0.00958   |\n+------------+------------+------------+------------+------------+\n"
     ]
    },
    {
     "name": "stdout",
     "output_type": "stream",
     "text": [
      "|     12     |  0.20046   |  0.02083   |  0.00920   |  0.00969   |\n+------------+------------+------------+------------+------------+\n"
     ]
    },
    {
     "name": "stdout",
     "output_type": "stream",
     "text": [
      "|     14     |  0.20105   |  0.02083   |  0.00928   |  0.00977   |\n+------------+------------+------------+------------+------------+\n"
     ]
    },
    {
     "name": "stdout",
     "output_type": "stream",
     "text": [
      "|     16     |  0.20177   |  0.02135   |  0.00934   |  0.00983   |\n+------------+------------+------------+------------+------------+\n"
     ]
    },
    {
     "name": "stdout",
     "output_type": "stream",
     "text": [
      "|     18     |  0.20183   |  0.02148   |  0.00938   |  0.00989   |\n+------------+------------+------------+------------+------------+\n"
     ]
    },
    {
     "name": "stdout",
     "output_type": "stream",
     "text": [
      "|     20     |  0.20157   |  0.02155   |  0.00942   |  0.00993   |\n+------------+------------+------------+------------+------------+\n"
     ]
    },
    {
     "name": "stdout",
     "output_type": "stream",
     "text": [
      "|     22     |  0.20275   |  0.02148   |  0.00946   |  0.00997   |\n+------------+------------+------------+------------+------------+\n"
     ]
    },
    {
     "name": "stdout",
     "output_type": "stream",
     "text": [
      "|     24     |  0.20210   |  0.02155   |  0.00949   |  0.01000   |\n+------------+------------+------------+------------+------------+\n"
     ]
    },
    {
     "name": "stdout",
     "output_type": "stream",
     "text": [
      "|     26     |  0.20216   |  0.02168   |  0.00951   |  0.01002   |\n+------------+------------+------------+------------+------------+\n"
     ]
    },
    {
     "name": "stdout",
     "output_type": "stream",
     "text": [
      "|     28     |  0.20301   |  0.02174   |  0.00953   |  0.01005   |\n+------------+------------+------------+------------+------------+\n"
     ]
    },
    {
     "name": "stdout",
     "output_type": "stream",
     "text": [
      "|     30     |  0.20380   |  0.02155   |  0.00955   |  0.01007   |\n+------------+------------+------------+------------+------------+\n"
     ]
    },
    {
     "name": "stdout",
     "output_type": "stream",
     "text": [
      "|     32     |  0.20360   |  0.02168   |  0.00957   |  0.01008   |\n+------------+------------+------------+------------+------------+\n"
     ]
    },
    {
     "name": "stdout",
     "output_type": "stream",
     "text": [
      "|     34     |  0.20341   |  0.02181   |  0.00958   |  0.01010   |\n+------------+------------+------------+------------+------------+\n"
     ]
    },
    {
     "name": "stdout",
     "output_type": "stream",
     "text": [
      "|     36     |  0.20426   |  0.02181   |  0.00959   |  0.01011   |\n+------------+------------+------------+------------+------------+\n"
     ]
    },
    {
     "name": "stdout",
     "output_type": "stream",
     "text": [
      "|     38     |  0.20465   |  0.02168   |  0.00960   |  0.01012   |\n+------------+------------+------------+------------+------------+\nalpha: 50 | regularization: 10.0 | num_factors: 40\n+------------+------------+------------+------------+------------+\n|   epochs   | p@k train  |  p@k test  | mse train  |  mse test  |\n+============+============+============+============+============+\n"
     ]
    },
    {
     "name": "stdout",
     "output_type": "stream",
     "text": [
      "|     2      |  0.28664   |  0.01624   |  0.00725   |  0.00760   |\n+------------+------------+------------+------------+------------+\n"
     ]
    },
    {
     "name": "stdout",
     "output_type": "stream",
     "text": [
      "|     4      |  0.28631   |  0.02168   |  0.00793   |  0.00847   |\n+------------+------------+------------+------------+------------+\n"
     ]
    },
    {
     "name": "stdout",
     "output_type": "stream",
     "text": [
      "|     6      |  0.28350   |  0.02410   |  0.00828   |  0.00887   |\n+------------+------------+------------+------------+------------+\n"
     ]
    },
    {
     "name": "stdout",
     "output_type": "stream",
     "text": [
      "|     8      |  0.28101   |  0.02449   |  0.00849   |  0.00911   |\n+------------+------------+------------+------------+------------+\n"
     ]
    },
    {
     "name": "stdout",
     "output_type": "stream",
     "text": [
      "|     10     |  0.28284   |  0.02430   |  0.00863   |  0.00927   |\n+------------+------------+------------+------------+------------+\n"
     ]
    },
    {
     "name": "stdout",
     "output_type": "stream",
     "text": [
      "|     12     |  0.28068   |  0.02443   |  0.00873   |  0.00938   |\n+------------+------------+------------+------------+------------+\n"
     ]
    },
    {
     "name": "stdout",
     "output_type": "stream",
     "text": [
      "|     14     |  0.28278   |  0.02443   |  0.00880   |  0.00946   |\n+------------+------------+------------+------------+------------+\n"
     ]
    },
    {
     "name": "stdout",
     "output_type": "stream",
     "text": [
      "|     16     |  0.28101   |  0.02436   |  0.00886   |  0.00953   |\n+------------+------------+------------+------------+------------+\n"
     ]
    },
    {
     "name": "stdout",
     "output_type": "stream",
     "text": [
      "|     18     |  0.28147   |  0.02417   |  0.00891   |  0.00958   |\n+------------+------------+------------+------------+------------+\n"
     ]
    },
    {
     "name": "stdout",
     "output_type": "stream",
     "text": [
      "|     20     |  0.28101   |  0.02443   |  0.00895   |  0.00963   |\n+------------+------------+------------+------------+------------+\n"
     ]
    },
    {
     "name": "stdout",
     "output_type": "stream",
     "text": [
      "|     22     |  0.28225   |  0.02423   |  0.00898   |  0.00966   |\n+------------+------------+------------+------------+------------+\n"
     ]
    },
    {
     "name": "stdout",
     "output_type": "stream",
     "text": [
      "|     24     |  0.28081   |  0.02430   |  0.00901   |  0.00969   |\n+------------+------------+------------+------------+------------+\n"
     ]
    },
    {
     "name": "stdout",
     "output_type": "stream",
     "text": [
      "|     26     |  0.28088   |  0.02436   |  0.00903   |  0.00972   |\n+------------+------------+------------+------------+------------+\n"
     ]
    },
    {
     "name": "stdout",
     "output_type": "stream",
     "text": [
      "|     28     |  0.28173   |  0.02456   |  0.00906   |  0.00974   |\n+------------+------------+------------+------------+------------+\n"
     ]
    },
    {
     "name": "stdout",
     "output_type": "stream",
     "text": [
      "|     30     |  0.28035   |  0.02449   |  0.00907   |  0.00976   |\n+------------+------------+------------+------------+------------+\n"
     ]
    },
    {
     "name": "stdout",
     "output_type": "stream",
     "text": [
      "|     32     |  0.28127   |  0.02410   |  0.00909   |  0.00978   |\n+------------+------------+------------+------------+------------+\n"
     ]
    },
    {
     "name": "stdout",
     "output_type": "stream",
     "text": [
      "|     34     |  0.28166   |  0.02443   |  0.00910   |  0.00980   |\n+------------+------------+------------+------------+------------+\n"
     ]
    },
    {
     "name": "stdout",
     "output_type": "stream",
     "text": [
      "|     36     |  0.28199   |  0.02430   |  0.00911   |  0.00981   |\n+------------+------------+------------+------------+------------+\n"
     ]
    },
    {
     "name": "stdout",
     "output_type": "stream",
     "text": [
      "|     38     |  0.28062   |  0.02423   |  0.00913   |  0.00982   |\n+------------+------------+------------+------------+------------+\n"
     ]
    }
   ],
   "source": [
    "param_grid = {'num_factors': [10, 20, 40],\n",
    "              'regularization': [0.0, 1e-1, 1e1],\n",
    "              'alpha': [1, 10, 50]}\n",
    "\n",
    "base_model = ALS()\n",
    "\n",
    "curves = grid_search_learning_curve(base_model, train, test,\n",
    "                                    param_grid,\n",
    "                                    user_index=user_index,\n",
    "                                    patk=5)"
   ]
  },
  {
   "cell_type": "code",
   "execution_count": 24,
   "metadata": {
    "collapsed": true
   },
   "outputs": [
    {
     "name": "stdout",
     "output_type": "stream",
     "text": [
      "{'alpha': 50, 'regularization': 0.0, 'num_factors': 40}\n0.0255402750491\nEpoch: 26\n"
     ]
    }
   ],
   "source": [
    "'''\n",
    "获取最好的模型超参数\n",
    "'''\n",
    "best_curves = sorted(curves, key=lambda x: max(x['patk']['test']), reverse=True)\n",
    "print(best_curves[0]['params'])\n",
    "max_score = max(best_curves[0]['patk']['test'])\n",
    "print max_score\n",
    "iterations = range(2, 40, 2)[best_curves[0]['patk']['test'].index(max_score)]\n",
    "print('Epoch: {}'.format(iterations))"
   ]
  },
  {
   "cell_type": "code",
   "execution_count": 25,
   "metadata": {},
   "outputs": [
    {
     "data": {
      "text/plain": [
       "<matplotlib.text.Text at 0x11162fa90>"
      ]
     },
     "execution_count": 25,
     "metadata": {},
     "output_type": "execute_result"
    },
    {
     "data": {
      "image/png": "[encoded data removed]",
      "text/plain": [
       "<matplotlib.figure.Figure at 0x11112ad10>"
      ]
     },
     "metadata": {},
     "output_type": "display_data"
    }
   ],
   "source": [
    "'''\n",
    "根据top k的精确度最高的模型参数画出学习曲线\n",
    "'''\n",
    "import seaborn as sns\n",
    "sns.set_style('white')\n",
    "fig, ax = plt.subplots()\n",
    "sns.despine(fig)\n",
    "epochs = range(2, 40, 2)\n",
    "plt.plot(epochs, best_curves[0]['patk']['test'])\n",
    "plt.xlabel('Epochs', fontsize=24)\n",
    "plt.ylabel('Test p@k', fontsize=24)\n",
    "plt.xticks(fontsize=18)\n",
    "plt.yticks(fontsize=18)\n",
    "plt.title('Best learning curve', fontsize=30)"
   ]
  },
  {
   "cell_type": "code",
   "execution_count": 27,
   "metadata": {},
   "outputs": [
    {
     "data": {
      "text/plain": [
       "<matplotlib.text.Text at 0x111266450>"
      ]
     },
     "execution_count": 27,
     "metadata": {},
     "output_type": "execute_result"
    },
    {
     "data": {
      "image/png": "[encoded data removed]",
      "text/plain": [
       "<matplotlib.figure.Figure at 0x1108e7bd0>"
      ]
     },
     "metadata": {},
     "output_type": "display_data"
    }
   ],
   "source": [
    "'''\n",
    "根据所有的参数画出模型的学习曲线\n",
    "'''\n",
    "all_test_patks = [x['patk']['test'] for x in best_curves]\n",
    "fig, ax = plt.subplots(figsize=(8, 10))\n",
    "sns.despine(fig)\n",
    "epochs = range(2, 40, 2)\n",
    "totes = len(all_test_patks)\n",
    "for i, test_patk in enumerate(all_test_patks):\n",
    "    ax.plot(epochs, test_patk,\n",
    "             alpha=1/(.1*i+1),\n",
    "             c=sns.color_palette()[0])\n",
    "    \n",
    "plt.xlabel('Epochs', fontsize=24)\n",
    "plt.ylabel('Test p@k', fontsize=24)\n",
    "plt.xticks(fontsize=18)\n",
    "plt.yticks(fontsize=18)\n",
    "plt.title('Grid-search p@k traces', fontsize=30)"
   ]
  },
  {
   "cell_type": "code",
   "execution_count": 31,
   "metadata": {},
   "outputs": [
    {
     "name": "stdout",
     "output_type": "stream",
     "text": [
      "{'alpha': 50, 'regularization': 0.0, 'iterations': 26, 'num_factors': 40}\n"
     ]
    }
   ],
   "source": [
    "'''\n",
    "利用最好的拟合参数训练模型\n",
    "'''\n",
    "params = best_curves[0]['params']\n",
    "params['iterations'] = range(2, 40, 2)[best_curves[0]['patk']['test'].index(max_score)]\n",
    "print params\n",
    "'''\n",
    "{'alpha': 50, 'regularization': 0.0, 'iterations': 26, 'num_factors': 40}\n",
    "'''\n",
    "bestALS = ALS(**params)\n",
    "bestALS.fit(likes)"
   ]
  },
  {
   "cell_type": "code",
   "execution_count": 31,
   "metadata": {},
   "outputs": [],
   "source": [
    "item_similarities = bestALS.predict_for_items()"
   ]
  },
  {
   "cell_type": "code",
   "execution_count": null,
   "metadata": {},
   "outputs": [],
   "source": []
  }
 ],
 "metadata": {
  "kernelspec": {
   "display_name": "Python 2",
   "language": "python",
   "name": "python2"
  },
  "language_info": {
   "codemirror_mode": {
    "name": "ipython",
    "version": 2
   },
   "file_extension": ".py",
   "mimetype": "text/x-python",
   "name": "python",
   "nbconvert_exporter": "python",
   "pygments_lexer": "ipython2",
   "version": "2.7.6"
  }
 },
 "nbformat": 4,
 "nbformat_minor": 0
}
