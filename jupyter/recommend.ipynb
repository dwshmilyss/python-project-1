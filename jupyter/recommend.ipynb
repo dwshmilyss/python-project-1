{
 "cells": [
  {
   "cell_type": "code",
   "execution_count": 20,
   "metadata": {
    "collapsed": true
   },
   "outputs": [
    {
     "name": "stdout",
     "output_type": "stream",
     "text": [
      "Duplicated rows: 155\nThat's weird - let's just drop them\n"
     ]
    },
    {
     "name": "stdout",
     "output_type": "stream",
     "text": [
      "Number of users: 62583\nNumber of models: 28806\nSparsity: 0.035%\n"
     ]
    },
    {
     "data": {
      "text/plain": [
       "mid\n0002cd76a9f04a4ca653ef623af0946f     29\n0003d3d8e7a34205a1c7e7d91019a994    584\n0004ed4e0ae34add94b0761120894afd     10\n000553865b0449fda05da7389eded4e2     61\n00058160ef75429e9f89054d02cd2bf9     23\n0007009db4da4f0eb26482324062d0b3     10\n00099fa513df45a8a6e1f70013e0f695     76\n000c74de4a9748cca5ea7aa4aba19e75      9\n000ecb9d75e245d7b851e5f2e61294c6     26\n000f88bb21164319ae797d315be6bc0e     11\n00115c0e3eb14464bda401f25af653b3      5\n00174cebac78410a82db5122aa3a9849      9\n001a2df1f7ec44898739f4e9184999c7     25\n002246c2fad948e88e0d187e7ed4edde     22\n0025edf310694a83a7e8f7af7b7e98f7     15\n002a460caafa49199dd46eff2595bc21      8\n002ba305262a409eabc8510e38b131ae     10\n002c8501d5094132bd6806854fa5a3d8     27\n002dde40344c4089932952e13bea10f5      5\n00318ba6e94d4fde9bc8f30688e38293      6\n0031f5a1fc344af6aa3ba37da38a3e56      6\n00347c2453b5419f92277d677b4a603f      8\n0034f617a40d4a589243cf255730d66f     12\n0035761c571e4d5d803b8bcf947be5ee     24\n003837366df74feaa62d6653cdff36ac     19\n00397584ae124c3a92529acba240c2c3      9\n003bab510248442587e6db051d60a0f2     12\n003c629de4d84dca9d3ac17c93aab24a     10\n00401c67224d4d55973ec4a5b67b0bf9     23\n00453df9615a4c4aa01d9ca1c6bb2312     10\n                                   ... \nyqtBciTWjjpb0pWUstA50Ay3a55           6\nysMU3WVTlVzUpLR9Ke7ZU7gXJHF          10\nysqP6VH2x99bODrQRbcYdQjSLjV          18\nywhAn3318Ce5XpCWTCnQGMX1uLo           9\nyybXRiq58sbIPDKlnatfS3XilmJ          16\nz2xPBxLv1AdrGDkWKXwHI5e19fu           5\nz8J8yjAvVuSYdcLoB5p76R2mDSU          22\nz95oC60DbW0SUfoPV82NE23Htvr           4\nz9MJsWZH8fgik3UMr7KKCV4yTXP          47\nzI4vvVvbz85okjFh3mItUAVGKkS           8\nzKAjvnodKferDaWHjCyenwFiL2c           9\nzKoEntP74w9yEOztUuYUdOA6E3L          54\nzRQXLbtLOcZhJAk2PENfDWPOfxJ           7\nzSTpPRH9PfYaf6YPjouiwEHTj05          79\nzSlqkXzUrqxtaTUQA81rewHjp14           8\nzTPpZf5AIJqIOdGUK12xPgyJ7Zt           5\nzVqomPrOh2RwARo8oUnxoUHVgYT           7\nzX518f6yJZkQamEhZnbWsgbbMUa          12\nzbfpTyuC5zKAxaTTso5EUfH701g          24\nzdYQzx9xxVoNb8OJbR8iQf6GOK6          28\nzg0lAitYQLuU1klNTsJgGlBhf6W          12\nzhRqaEfTCOlO0J8zEKObBhiCiYh           8\nzicHab4DIw41ZXdXHMYVogs7RXm           5\nzkeiKXJYXepRCFeOmcVOIjZ5knW           6\nzl1ZHdqCY5bYbwbWNypasS7VT6N           5\nzlhIVhuH4PMrYs4azmyJ7zz7XaT           6\nzoHx8iQZvGLrrGEXftqcj1XMRVt           6\nzsqpMYSGtQolQOFd2R9qJIGHMOs           6\nzuPDwe2ATu6xoSDcUN7Bv8AbMrp          21\nzvtHmOyAEnJn8xCyIa7TmwkebgI          16\nName: uid, dtype: int64"
      ]
     },
     "execution_count": 20,
     "metadata": {},
     "output_type": "execute_result"
    }
   ],
   "source": [
    "%matplotlib inline\n",
    "import matplotlib.pyplot as plt\n",
    "import pandas as pd\n",
    "import numpy as np\n",
    "import scipy.sparse as sparse\n",
    "import pickle\n",
    "import csv\n",
    "import implicit\n",
    "import itertools\n",
    "import copy\n",
    "plt.style.use('ggplot')\n",
    "#read_csv()中的路径./指的是项目的根目录(即工作路径)\n",
    "df = pd.read_csv('./data/model_likes_anon.psv',\n",
    "                 sep='|', quoting=csv.QUOTE_MINIMAL,\n",
    "                 quotechar='\\\\')\n",
    "df.head()\n",
    "#获取表中重复记录的条数\n",
    "print('Duplicated rows: ' + str(df.duplicated().sum()))\n",
    "print('That\\'s weird - let\\'s just drop them')\n",
    "#删除重复的记录\n",
    "df.drop_duplicates(inplace=True)\n",
    "df = df[['uid', 'mid']]\n",
    "df.head()\n",
    "n_users = df.uid.unique().shape[0]\n",
    "n_items = df.mid.unique().shape[0]\n",
    "\n",
    "print('Number of users: {}'.format(n_users))\n",
    "print('Number of models: {}'.format(n_items))\n",
    "print('Sparsity: {:4.3f}%'.format(float(df.shape[0]) / float(n_users*n_items) * 100))\n",
    "df.groupby('mid').uid.count()"
   ]
  },
  {
   "cell_type": "code",
   "execution_count": 9,
   "metadata": {},
   "outputs": [
    {
     "data": {
      "text/html": [
       "<div>\n",
       "<table border=\"1\" class=\"dataframe\">\n",
       "  <thead>\n",
       "    <tr style=\"text-align: right;\">\n",
       "      <th></th>\n",
       "      <th>col1</th>\n",
       "      <th>col2</th>\n",
       "      <th>col3</th>\n",
       "    </tr>\n",
       "  </thead>\n",
       "  <tbody>\n",
       "    <tr>\n",
       "      <th>a</th>\n",
       "      <td>one</td>\n",
       "      <td>1</td>\n",
       "      <td>AA</td>\n",
       "    </tr>\n",
       "    <tr>\n",
       "      <th>a</th>\n",
       "      <td>one</td>\n",
       "      <td>2</td>\n",
       "      <td>BB</td>\n",
       "    </tr>\n",
       "    <tr>\n",
       "      <th>b</th>\n",
       "      <td>two</td>\n",
       "      <td>1</td>\n",
       "      <td>CC</td>\n",
       "    </tr>\n",
       "    <tr>\n",
       "      <th>c</th>\n",
       "      <td>two</td>\n",
       "      <td>2</td>\n",
       "      <td>DD</td>\n",
       "    </tr>\n",
       "    <tr>\n",
       "      <th>b</th>\n",
       "      <td>two</td>\n",
       "      <td>1</td>\n",
       "      <td>EE</td>\n",
       "    </tr>\n",
       "    <tr>\n",
       "      <th>a</th>\n",
       "      <td>three</td>\n",
       "      <td>1</td>\n",
       "      <td>FF</td>\n",
       "    </tr>\n",
       "    <tr>\n",
       "      <th>c</th>\n",
       "      <td>four</td>\n",
       "      <td>1</td>\n",
       "      <td>GG</td>\n",
       "    </tr>\n",
       "  </tbody>\n",
       "</table>\n",
       "</div>"
      ],
      "text/plain": [
       "<div>\n",
       "<table border=\"1\" class=\"dataframe\">\n",
       "  <thead>\n",
       "    <tr style=\"text-align: right;\">\n",
       "      <th></th>\n",
       "      <th>col1</th>\n",
       "      <th>col2</th>\n",
       "      <th>col3</th>\n",
       "    </tr>\n",
       "  </thead>\n",
       "  <tbody>\n",
       "    <tr>\n",
       "      <th>a</th>\n",
       "      <td>one</td>\n",
       "      <td>1</td>\n",
       "      <td>AA</td>\n",
       "    </tr>\n",
       "    <tr>\n",
       "      <th>a</th>\n",
       "      <td>one</td>\n",
       "      <td>2</td>\n",
       "      <td>BB</td>\n",
       "    </tr>\n",
       "    <tr>\n",
       "      <th>b</th>\n",
       "      <td>two</td>\n",
       "      <td>1</td>\n",
       "      <td>CC</td>\n",
       "    </tr>\n",
       "    <tr>\n",
       "      <th>c</th>\n",
       "      <td>two</td>\n",
       "      <td>2</td>\n",
       "      <td>DD</td>\n",
       "    </tr>\n",
       "    <tr>\n",
       "      <th>b</th>\n",
       "      <td>two</td>\n",
       "      <td>1</td>\n",
       "      <td>EE</td>\n",
       "    </tr>\n",
       "    <tr>\n",
       "      <th>a</th>\n",
       "      <td>three</td>\n",
       "      <td>1</td>\n",
       "      <td>FF</td>\n",
       "    </tr>\n",
       "    <tr>\n",
       "      <th>c</th>\n",
       "      <td>four</td>\n",
       "      <td>1</td>\n",
       "      <td>GG</td>\n",
       "    </tr>\n",
       "  </tbody>\n",
       "</table>\n",
       "</div>"
      ]
     },
     "execution_count": 9,
     "metadata": {},
     "output_type": "execute_result"
    }
   ],
   "source": [
    "import numpy as np\n",
    "import pandas as pd\n",
    "#标记DataFrame重复例子  \n",
    "df = pd.DataFrame({'col1': ['one', 'one', 'two', 'two', 'two', 'three', 'four'], 'col2': [1, 2, 1, 2, 1, 1, 1],  \n",
    "                   'col3':['AA','BB','CC','DD','EE','FF','GG']},index=['a', 'a', 'b', 'c', 'b', 'a','c'])  \n",
    "df"
   ]
  },
  {
   "cell_type": "code",
   "execution_count": null,
   "metadata": {},
   "outputs": [],
   "source": [
    ""
   ]
  }
 ],
 "metadata": {
  "kernelspec": {
   "display_name": "Python 2",
   "language": "python",
   "name": "python2"
  },
  "language_info": {
   "codemirror_mode": {
    "name": "ipython",
    "version": 2.0
   },
   "file_extension": ".py",
   "mimetype": "text/x-python",
   "name": "python",
   "nbconvert_exporter": "python",
   "pygments_lexer": "ipython2",
   "version": "2.7.6"
  }
 },
 "nbformat": 4,
 "nbformat_minor": 0
}