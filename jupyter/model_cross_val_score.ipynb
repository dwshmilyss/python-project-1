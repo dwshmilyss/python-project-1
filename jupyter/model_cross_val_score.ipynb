{
 "cells": [
  {
   "cell_type": "code",
   "execution_count": 6,
   "metadata": {
    "collapsed": true
   },
   "outputs": [
    {
     "name": "stdout",
     "output_type": "stream",
     "text": [
      "[  1.00000000e-10   1.29154967e-09   1.66810054e-08   2.15443469e-07\n   2.78255940e-06   3.59381366e-05   4.64158883e-04   5.99484250e-03\n   7.74263683e-02   1.00000000e+00]\n参数列表长度 10\n"
     ]
    },
    {
     "name": "stdout",
     "output_type": "stream",
     "text": [
      "[ 0.1013289   0.10183639  0.26342282]\n[0.15552937214547155]\n[0.076292469084665332]\n"
     ]
    },
    {
     "name": "stdout",
     "output_type": "stream",
     "text": [
      "[ 0.1013289   0.10183639  0.26342282]\n[0.15552937214547155, 0.15552937214547155]\n[0.076292469084665332, 0.076292469084665332]\n"
     ]
    },
    {
     "name": "stdout",
     "output_type": "stream",
     "text": [
      "[ 0.1013289   0.10183639  0.26342282]\n[0.15552937214547155, 0.15552937214547155, 0.15552937214547155]\n[0.076292469084665332, 0.076292469084665332, 0.076292469084665332]\n"
     ]
    },
    {
     "name": "stdout",
     "output_type": "stream",
     "text": [
      "[ 0.1013289   0.10183639  0.26342282]\n[0.15552937214547155, 0.15552937214547155, 0.15552937214547155, 0.15552937214547155]\n[0.076292469084665332, 0.076292469084665332, 0.076292469084665332, 0.076292469084665332]\n"
     ]
    },
    {
     "name": "stdout",
     "output_type": "stream",
     "text": [
      "[ 0.1013289   0.10183639  0.26342282]\n[0.15552937214547155, 0.15552937214547155, 0.15552937214547155, 0.15552937214547155, 0.15552937214547155]\n[0.076292469084665332, 0.076292469084665332, 0.076292469084665332, 0.076292469084665332, 0.076292469084665332]\n"
     ]
    },
    {
     "name": "stdout",
     "output_type": "stream",
     "text": [
      "[ 0.90697674  0.9015025   0.89932886]\n[0.15552937214547155, 0.15552937214547155, 0.15552937214547155, 0.15552937214547155, 0.15552937214547155, 0.90260270247335728]\n[0.076292469084665332, 0.076292469084665332, 0.076292469084665332, 0.076292469084665332, 0.076292469084665332, 0.0032176973078911469]\n"
     ]
    },
    {
     "name": "stdout",
     "output_type": "stream",
     "text": [
      "[ 0.95348837  0.96160267  0.9295302 ]\n[0.15552937214547155, 0.15552937214547155, 0.15552937214547155, 0.15552937214547155, 0.15552937214547155, 0.90260270247335728, 0.9482070815179453]\n[0.076292469084665332, 0.076292469084665332, 0.076292469084665332, 0.076292469084665332, 0.076292469084665332, 0.0032176973078911469, 0.013615673615136992]\n"
     ]
    },
    {
     "name": "stdout",
     "output_type": "stream",
     "text": [
      "[ 0.93853821  0.95826377  0.93791946]\n[0.15552937214547155, 0.15552937214547155, 0.15552937214547155, 0.15552937214547155, 0.15552937214547155, 0.90260270247335728, 0.9482070815179453, 0.94490714734074643]\n[0.076292469084665332, 0.076292469084665332, 0.076292469084665332, 0.076292469084665332, 0.076292469084665332, 0.0032176973078911469, 0.013615673615136992, 0.0094479379245719138]\n"
     ]
    },
    {
     "name": "stdout",
     "output_type": "stream",
     "text": [
      "[ 0.93521595  0.95826377  0.93791946]\n[0.15552937214547155, 0.15552937214547155, 0.15552937214547155, 0.15552937214547155, 0.15552937214547155, 0.90260270247335728, 0.9482070815179453, 0.94490714734074643, 0.94379972762867548]\n[0.076292469084665332, 0.076292469084665332, 0.076292469084665332, 0.076292469084665332, 0.076292469084665332, 0.0032176973078911469, 0.013615673615136992, 0.0094479379245719138, 0.010287004922697952]\n"
     ]
    },
    {
     "name": "stdout",
     "output_type": "stream",
     "text": [
      "[ 0.93521595  0.95826377  0.93791946]\n[0.15552937214547155, 0.15552937214547155, 0.15552937214547155, 0.15552937214547155, 0.15552937214547155, 0.90260270247335728, 0.9482070815179453, 0.94490714734074643, 0.94379972762867548, 0.94379972762867548]\n[0.076292469084665332, 0.076292469084665332, 0.076292469084665332, 0.076292469084665332, 0.076292469084665332, 0.0032176973078911469, 0.013615673615136992, 0.0094479379245719138, 0.010287004922697952, 0.010287004922697952]\n"
     ]
    },
    {
     "data": {
      "image/png": "[encoded data removed]",
      "text/plain": [
       "<matplotlib.figure.Figure at 0x1e2b9e48>"
      ]
     },
     "metadata": {},
     "output_type": "display_data"
    }
   ],
   "source": [
    "import numpy as np\n",
    "from sklearn.model_selection import cross_val_score\n",
    "from sklearn import datasets,svm\n",
    "\n",
    "digits = datasets.load_digits()\n",
    "X = digits.data\n",
    "y = digits.target\n",
    "svc = svm.SVC(kernel=\"linear\")\n",
    "#指定超参数C的取值范围\n",
    "C_s = np.logspace(-10,0,10)\n",
    "print C_s\n",
    "print \"参数列表长度\",len(C_s)\n",
    "scores = list()\n",
    "scores_std = list()\n",
    "for C in C_s:\n",
    "    svc.C = C\n",
    "    #n_jobs代表计算机有几个线程就可以指定几个并行计算，this_scores是一个3维的数组 因为默认有3次交叉验证 每一折都会生成一个score\n",
    "    this_scores = cross_val_score(svc,X,y,n_jobs=4)\n",
    "    print this_scores\n",
    "    scores.append(np.mean(this_scores))\n",
    "    print scores\n",
    "    scores_std.append(np.std(this_scores))\n",
    "    print scores_std\n",
    "#画图交叉验证曲线\n",
    "import matplotlib.pyplot as plt\n",
    "plt.figure(1,figsize=(4,3))\n",
    "plt.clf()\n",
    "plt.semilogx(C_s,scores)\n",
    "plt.semilogx(C_s,np.array(scores)+np.array(scores_std),'b--')\n",
    "plt.semilogx(C_s,np.array(scores)-np.array(scores_std),'b--')\n",
    "locs,labels = plt.yticks()\n",
    "# %g:格式化成浮点数字(根据值的大小采用%e(科学计数法)或%f)\n",
    "plt.yticks(locs,list(map(lambda x:\"%g\" % x,locs)))\n",
    "plt.ylabel('cv score')\n",
    "plt.xlabel('parameter C')\n",
    "plt.ylim(0,1.1)\n",
    "plt.show()"
   ]
  },
  {
   "cell_type": "code",
   "execution_count": 7,
   "metadata": {},
   "outputs": [
    {
     "name": "stdout",
     "output_type": "stream",
     "text": [
      "[  1.00000000e-09   1.29154967e-08   1.66810054e-07   2.15443469e-06\n   2.78255940e-05   3.59381366e-04   4.64158883e-03   5.99484250e-02\n   7.74263683e-01   1.00000000e+01]\n[ 0.1    0.325  0.55   0.775  1.   ]\n"
     ]
    }
   ],
   "source": [
    "print np.logspace(-9,1,10)\n",
    "print np.linspace(0.1,1.0,5)"
   ]
  },
  {
   "cell_type": "code",
   "execution_count": null,
   "metadata": {},
   "outputs": [],
   "source": [
    "from sklearn.model_selection import learning_curve"
   ]
  }
 ],
 "metadata": {
  "kernelspec": {
   "display_name": "Python 2",
   "language": "python",
   "name": "python2"
  },
  "language_info": {
   "codemirror_mode": {
    "name": "ipython",
    "version": 2.0
   },
   "file_extension": ".py",
   "mimetype": "text/x-python",
   "name": "python",
   "nbconvert_exporter": "python",
   "pygments_lexer": "ipython2",
   "version": "2.7.6"
  }
 },
 "nbformat": 4,
 "nbformat_minor": 0
}