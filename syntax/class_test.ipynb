{
 "cells": [
  {
   "cell_type": "code",
   "execution_count": 1,
   "metadata": {
    "collapsed": true
   },
   "outputs": [
    {
     "name": "stdout",
     "output_type": "stream",
     "text": [
      "调用子类构造函数\n"
     ]
    }
   ],
   "source": [
    "class Father:\n",
    "    def __init__(self):\n",
    "        print \"调用父类构造函数\"\n",
    "        \n",
    "class Son(Father):\n",
    "    def __init__(self):\n",
    "        print \"调用子类构造函数\"\n",
    "s = Son()"
   ]
  },
  {
   "cell_type": "code",
   "execution_count": 2,
   "metadata": {},
   "outputs": [
    {
     "name": "stdout",
     "output_type": "stream",
     "text": [
      "调用子类构造方法\n调用子类方法\n调用父类方法\n父类属性 : 200\n"
     ]
    }
   ],
   "source": [
    "class Parent:        # 定义父类\n",
    "   parentAttr = 100\n",
    "   def __init__(self):\n",
    "      print \"调用父类构造函数\"\n",
    " \n",
    "   def parentMethod(self):\n",
    "      print '调用父类方法'\n",
    " \n",
    "   def setAttr(self, attr):\n",
    "      Parent.parentAttr = attr\n",
    " \n",
    "   def getAttr(self):\n",
    "      print \"父类属性 :\", Parent.parentAttr\n",
    " \n",
    "class Child(Parent): # 定义子类\n",
    "   def __init__(self):\n",
    "      print \"调用子类构造方法\"\n",
    " \n",
    "   def childMethod(self):\n",
    "      print '调用子类方法'\n",
    "\n",
    "c = Child()          # 实例化子类\n",
    "c.childMethod()      # 调用子类的方法\n",
    "c.parentMethod()     # 调用父类方法\n",
    "c.setAttr(200)       # 再次调用父类的方法 - 设置属性值\n",
    "c.getAttr()          # 再次调用父类的方法 - 获取属性值"
   ]
  },
  {
   "cell_type": "code",
   "execution_count": 8,
   "metadata": {
    "collapsed": false
   },
   "outputs": [
    {
     "name": "stdout",
     "output_type": "stream",
     "text": [
      "Name :  Zara , Salary:  2000\nName :  Manni , Salary:  5000\nTotal Employee 2\nFalse\nNone\n8\n"
     ]
    }
   ],
   "source": [
    "class Employee:\n",
    "   '所有员工的基类'\n",
    "   empCount = 0\n",
    " \n",
    "   def __init__(self, name, salary):\n",
    "      self.name = name\n",
    "      self.salary = salary\n",
    "      Employee.empCount += 1\n",
    "   \n",
    "   def displayCount(self):\n",
    "     print \"Total Employee %d\" % Employee.empCount\n",
    " \n",
    "   def displayEmployee(self):\n",
    "      print \"Name : \", self.name,  \", Salary: \", self.salary\n",
    " \n",
    "\"创建 Employee 类的第一个对象\"\n",
    "emp1 = Employee(\"Zara\", 2000)\n",
    "\"创建 Employee 类的第二个对象\"\n",
    "emp2 = Employee(\"Manni\", 5000)\n",
    "emp1.displayEmployee()\n",
    "emp2.displayEmployee()\n",
    "print \"Total Employee %d\" % Employee.empCount\n",
    "# emp1.age = 7  # 添加一个 'age' 属性\n",
    "# emp1.age = 8  # 修改 'age' 属性\n",
    "# del emp1.age  # 删除 'age' 属性\n",
    "\n",
    "print hasattr(emp1, 'age')    # 如果存在 'age' 属性返回 True。\n",
    "print setattr(emp1, 'age', 8) # 添加属性 'age' 值为 8\n",
    "print getattr(emp1, 'age')    # 返回 'age' 属性的值\n",
    "# print delattr(emp1, 'age')    # 删除属性 'age'"
   ]
  },
  {
   "cell_type": "code",
   "execution_count": 18,
   "metadata": {},
   "outputs": [
    {
     "name": "stdout",
     "output_type": "stream",
     "text": [
      "id is 30118360\nid is 30118360\nid is 66223816\n"
     ]
    },
    {
     "ename": "NameError",
     "evalue": "name 'a' is not defined",
     "traceback": [
      "\u001b[1;31m\u001b[0m",
      "\u001b[1;31mNameError\u001b[0mTraceback (most recent call last)",
      "\u001b[1;32m<ipython-input-18-398f6d27b232>\u001b[0m in \u001b[0;36m<module>\u001b[1;34m()\u001b[0m\n\u001b[0;32m      7\u001b[0m \u001b[1;33m\u001b[0m\u001b[0m\n\u001b[0;32m      8\u001b[0m \u001b[1;32mdel\u001b[0m \u001b[0ma\u001b[0m\u001b[1;33m\u001b[0m\u001b[0m\n\u001b[1;32m----> 9\u001b[1;33m \u001b[1;32mprint\u001b[0m \u001b[1;34m'id is %s'\u001b[0m \u001b[1;33m%\u001b[0m \u001b[0mid\u001b[0m\u001b[1;33m(\u001b[0m\u001b[0ma\u001b[0m\u001b[1;33m)\u001b[0m\u001b[1;33m\u001b[0m\u001b[0m\n\u001b[0m",
      "\u001b[1;31mNameError\u001b[0m: name 'a' is not defined"
     ],
     "output_type": "error"
    }
   ],
   "source": [
    "a = 40\n",
    "print 'id is %s' % id(a)\n",
    "b = a\n",
    "print 'id is %s' % id(b)\n",
    "c = [b]\n",
    "print 'id is %s' % id(c)\n",
    "\n",
    "del a\n",
    "print 'id is %s' % id(a)"
   ]
  },
  {
   "cell_type": "code",
   "execution_count": null,
   "metadata": {},
   "outputs": [],
   "source": [
    ""
   ]
  }
 ],
 "metadata": {
  "kernelspec": {
   "display_name": "Python 2",
   "language": "python",
   "name": "python2"
  },
  "language_info": {
   "codemirror_mode": {
    "name": "ipython",
    "version": 2.0
   },
   "file_extension": ".py",
   "mimetype": "text/x-python",
   "name": "python",
   "nbconvert_exporter": "python",
   "pygments_lexer": "ipython2",
   "version": "2.7.6"
  }
 },
 "nbformat": 4,
 "nbformat_minor": 0
}